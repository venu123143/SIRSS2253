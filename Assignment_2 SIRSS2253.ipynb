{
 "cells": [
  {
   "cell_type": "markdown",
   "metadata": {},
   "source": [
    "# Task 2\n",
    "- Registration/Referral id : SIRSS2253\n",
    "- Full name : Vanteru Venu Gopal Reddy"
   ]
  },
  {
   "cell_type": "markdown",
   "metadata": {},
   "source": [
    "# Q1. Write a lambda expression to extract first word of a string."
   ]
  },
  {
   "cell_type": "code",
   "execution_count": 1,
   "metadata": {},
   "outputs": [
    {
     "name": "stdout",
     "output_type": "stream",
     "text": [
      "Write\n"
     ]
    }
   ],
   "source": [
    "a = 'Write a lambda expression to extract first word of a string. '\n",
    "x = lambda y : y.split()[0]\n",
    "print(x(a))"
   ]
  },
  {
   "cell_type": "markdown",
   "metadata": {},
   "source": [
    "# Q2. Write a function to extract first word of s string (with many words separated by space)."
   ]
  },
  {
   "cell_type": "code",
   "execution_count": 2,
   "metadata": {
    "scrolled": false
   },
   "outputs": [
    {
     "name": "stdout",
     "output_type": "stream",
     "text": [
      "Write\n"
     ]
    }
   ],
   "source": [
    "y = 'Write a function to extract first word of s string (with many words separated by space).'\n",
    "def extract(a):\n",
    "    return a.split()[0]\n",
    "print(extract(y))"
   ]
  },
  {
   "cell_type": "markdown",
   "metadata": {},
   "source": [
    "# Q3. Extract the first word from every string from a list of strings by using map function."
   ]
  },
  {
   "cell_type": "code",
   "execution_count": 3,
   "metadata": {},
   "outputs": [
    {
     "name": "stdout",
     "output_type": "stream",
     "text": [
      "['Write', 'Write', 'Extract', 'Write']\n"
     ]
    }
   ],
   "source": [
    "l1 = ['Write a lambda expression to extract first word of a string. ',\n",
    "      'Write a function to extract first word of s string (with many words separated by space).',\n",
    "      'Extract the first word from every string from a list of strings by using map function.',\n",
    "      'Write a function to return a list of prime factors of a given number.']\n",
    "\n",
    "def extract(a):\n",
    "    return a.split()[0]\n",
    "\n",
    "result = map(extract,l1)\n",
    "print(list(result))"
   ]
  },
  {
   "cell_type": "markdown",
   "metadata": {},
   "source": [
    "# Q4. Write a function to return a list of prime factors of a given number."
   ]
  },
  {
   "cell_type": "code",
   "execution_count": 7,
   "metadata": {},
   "outputs": [
    {
     "name": "stdout",
     "output_type": "stream",
     "text": [
      "Enter a number :4\n",
      "[2, 2]\n"
     ]
    }
   ],
   "source": [
    "def prime_fact(x):\n",
    "    p_factors = []\n",
    "    div = 2\n",
    "    \n",
    "    while div <= x:\n",
    "        if x%div == 0:\n",
    "            p_factors.append(div)\n",
    "            x = x/div\n",
    "        else:\n",
    "            div += 1\n",
    "    return p_factors\n",
    "\n",
    "a = int(input(\"Enter a number :\"))\n",
    "print(prime_fact(a))"
   ]
  },
  {
   "cell_type": "markdown",
   "metadata": {},
   "source": [
    "# Q5. Write a function that finds 2nd largest among 4 numbers (Repetitions are allowed, without sorting)."
   ]
  },
  {
   "cell_type": "code",
   "execution_count": 8,
   "metadata": {},
   "outputs": [
    {
     "name": "stdout",
     "output_type": "stream",
     "text": [
      "Enter elements: 1234\n",
      "Enter elements: 2434\n",
      "Enter elements: 3243\n",
      "Enter elements: 123\n",
      "Original elements:  [1234, 2434, 3243, 123]\n",
      "2nd largest among 4 numbers:  2434\n"
     ]
    }
   ],
   "source": [
    "list1 = []\n",
    " \n",
    "def second_largest(l):\n",
    "    new_list = set(l)\n",
    "    new_list.remove(max(new_list))\n",
    "    return max(new_list)\n",
    "\n",
    "for i in range(1, 5):\n",
    "    ele = int(input(\"Enter elements: \"))\n",
    "    list1.append(ele)\n",
    "    \n",
    "print('Original elements: ',list1)\n",
    "print('2nd largest among 4 numbers: ',second_largest(list1))"
   ]
  },
  {
   "cell_type": "code",
   "execution_count": null,
   "metadata": {},
   "outputs": [],
   "source": []
  },
  {
   "cell_type": "code",
   "execution_count": null,
   "metadata": {},
   "outputs": [],
   "source": []
  }
 ],
 "metadata": {
  "kernelspec": {
   "display_name": "Python 3",
   "language": "python",
   "name": "python3"
  },
  "language_info": {
   "codemirror_mode": {
    "name": "ipython",
    "version": 3
   },
   "file_extension": ".py",
   "mimetype": "text/x-python",
   "name": "python",
   "nbconvert_exporter": "python",
   "pygments_lexer": "ipython3",
   "version": "3.8.3"
  },
  "toc": {
   "base_numbering": 1,
   "nav_menu": {},
   "number_sections": false,
   "sideBar": false,
   "skip_h1_title": false,
   "title_cell": "Table of Contents",
   "title_sidebar": "Contents",
   "toc_cell": false,
   "toc_position": {
    "height": "718.074px",
    "left": "1477.71px",
    "top": "195.917px",
    "width": "369.411px"
   },
   "toc_section_display": true,
   "toc_window_display": false
  },
  "varInspector": {
   "cols": {
    "lenName": 16,
    "lenType": 16,
    "lenVar": 40
   },
   "kernels_config": {
    "python": {
     "delete_cmd_postfix": "",
     "delete_cmd_prefix": "del ",
     "library": "var_list.py",
     "varRefreshCmd": "print(var_dic_list())"
    },
    "r": {
     "delete_cmd_postfix": ") ",
     "delete_cmd_prefix": "rm(",
     "library": "var_list.r",
     "varRefreshCmd": "cat(var_dic_list()) "
    }
   },
   "types_to_exclude": [
    "module",
    "function",
    "builtin_function_or_method",
    "instance",
    "_Feature"
   ],
   "window_display": false
  }
 },
 "nbformat": 4,
 "nbformat_minor": 5
}
