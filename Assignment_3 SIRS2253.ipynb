{
 "cells": [
  {
   "cell_type": "markdown",
   "metadata": {},
   "source": [
    "# Task 3\n",
    "- Registration/Referral id : SIRS2253\n",
    "- Full name : Venu Gopal Reddy"
   ]
  },
  {
   "cell_type": "markdown",
   "metadata": {},
   "source": [
    "### Q1. Write a function to return nth term of Fibonacci sequence."
   ]
  },
  {
   "cell_type": "code",
   "execution_count": 1,
   "metadata": {},
   "outputs": [
    {
     "name": "stdout",
     "output_type": "stream",
     "text": [
      "Enter a Number : 3\n",
      "2 "
     ]
    }
   ],
   "source": [
    "def fib(n) :\n",
    "    if(n<0) :\n",
    "        return(\"incorrect input\")\n",
    "    elif(n==0):\n",
    "        return 0\n",
    "    elif(n==2 or n==1):\n",
    "        return 1\n",
    "    else : \n",
    "        return (fib(n-1) + fib(n-2))\n",
    "\n",
    "x = int(input(\"Enter a Number : \"))\n",
    "print(fib(x), end = \" \")"
   ]
  },
  {
   "cell_type": "markdown",
   "metadata": {},
   "source": [
    "### Q2. Write a function to find out GCD of two numbers using EUCLID'S algorithm."
   ]
  },
  {
   "cell_type": "code",
   "execution_count": 2,
   "metadata": {},
   "outputs": [
    {
     "name": "stdout",
     "output_type": "stream",
     "text": [
      "Enter first number : 44\n",
      "Enter second number : 64\n",
      "GCD is :  4\n"
     ]
    }
   ],
   "source": [
    "def GCD(a,b):\n",
    "    if b==0:\n",
    "        return a\n",
    "    else:\n",
    "        return GCD(b,a%b)\n",
    "num1=int(input(\"Enter first number : \"))\n",
    "num2=int(input(\"Enter second number : \"))\n",
    "print(\"GCD is : \", GCD(num1,num2))"
   ]
  },
  {
   "cell_type": "markdown",
   "metadata": {},
   "source": [
    "### Q3. Write a function to find LCM of two number in most optimizers way."
   ]
  },
  {
   "cell_type": "code",
   "execution_count": 3,
   "metadata": {},
   "outputs": [
    {
     "name": "stdout",
     "output_type": "stream",
     "text": [
      "Enter first number : 23\n",
      "Enter seconf number : 32\n",
      "Lcm of  23 and 32 is : 736\n"
     ]
    }
   ],
   "source": [
    "def lcm(num1,num2):\n",
    "    return (num1//GCD(num1,num2))*num2\n",
    "num1=int(input(\"Enter first number : \"))\n",
    "num2=int(input(\"Enter seconf number : \"))\n",
    "print('Lcm of ',num1,\"and\",num2,'is :',lcm(num1,num2))"
   ]
  },
  {
   "cell_type": "code",
   "execution_count": null,
   "metadata": {},
   "outputs": [],
   "source": []
  }
 ],
 "metadata": {
  "kernelspec": {
   "display_name": "Python 3",
   "language": "python",
   "name": "python3"
  },
  "language_info": {
   "codemirror_mode": {
    "name": "ipython",
    "version": 3
   },
   "file_extension": ".py",
   "mimetype": "text/x-python",
   "name": "python",
   "nbconvert_exporter": "python",
   "pygments_lexer": "ipython3",
   "version": "3.8.3"
  },
  "varInspector": {
   "cols": {
    "lenName": 16,
    "lenType": 16,
    "lenVar": 40
   },
   "kernels_config": {
    "python": {
     "delete_cmd_postfix": "",
     "delete_cmd_prefix": "del ",
     "library": "var_list.py",
     "varRefreshCmd": "print(var_dic_list())"
    },
    "r": {
     "delete_cmd_postfix": ") ",
     "delete_cmd_prefix": "rm(",
     "library": "var_list.r",
     "varRefreshCmd": "cat(var_dic_list()) "
    }
   },
   "types_to_exclude": [
    "module",
    "function",
    "builtin_function_or_method",
    "instance",
    "_Feature"
   ],
   "window_display": false
  }
 },
 "nbformat": 4,
 "nbformat_minor": 5
}
