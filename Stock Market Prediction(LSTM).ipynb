{
 "cells": [
  {
   "cell_type": "code",
   "execution_count": 1,
   "id": "a3738efa",
   "metadata": {},
   "outputs": [],
   "source": [
    "import numpy as np\n",
    "import pandas as pd\n",
    "from sklearn.preprocessing import MinMaxScaler\n",
    "from keras.models import Sequential\n",
    "from keras.layers import Dense, LSTM\n",
    "import matplotlib.pyplot as plt\n",
    "#plt.style.use('fivethirtyeight')"
   ]
  },
  {
   "cell_type": "code",
   "execution_count": 2,
   "id": "52ba911f",
   "metadata": {},
   "outputs": [
    {
     "data": {
      "text/html": [
       "<div>\n",
       "<style scoped>\n",
       "    .dataframe tbody tr th:only-of-type {\n",
       "        vertical-align: middle;\n",
       "    }\n",
       "\n",
       "    .dataframe tbody tr th {\n",
       "        vertical-align: top;\n",
       "    }\n",
       "\n",
       "    .dataframe thead th {\n",
       "        text-align: right;\n",
       "    }\n",
       "</style>\n",
       "<table border=\"1\" class=\"dataframe\">\n",
       "  <thead>\n",
       "    <tr style=\"text-align: right;\">\n",
       "      <th></th>\n",
       "      <th>Date</th>\n",
       "      <th>Open</th>\n",
       "      <th>High</th>\n",
       "      <th>Low</th>\n",
       "      <th>Close</th>\n",
       "      <th>Adj Close</th>\n",
       "      <th>Volume</th>\n",
       "    </tr>\n",
       "  </thead>\n",
       "  <tbody>\n",
       "    <tr>\n",
       "      <th>0</th>\n",
       "      <td>1986-03-13</td>\n",
       "      <td>0.088542</td>\n",
       "      <td>0.101563</td>\n",
       "      <td>0.088542</td>\n",
       "      <td>0.097222</td>\n",
       "      <td>0.061751</td>\n",
       "      <td>1031788800</td>\n",
       "    </tr>\n",
       "    <tr>\n",
       "      <th>1</th>\n",
       "      <td>1986-03-14</td>\n",
       "      <td>0.097222</td>\n",
       "      <td>0.102431</td>\n",
       "      <td>0.097222</td>\n",
       "      <td>0.100694</td>\n",
       "      <td>0.063956</td>\n",
       "      <td>308160000</td>\n",
       "    </tr>\n",
       "    <tr>\n",
       "      <th>2</th>\n",
       "      <td>1986-03-17</td>\n",
       "      <td>0.100694</td>\n",
       "      <td>0.103299</td>\n",
       "      <td>0.100694</td>\n",
       "      <td>0.102431</td>\n",
       "      <td>0.065059</td>\n",
       "      <td>133171200</td>\n",
       "    </tr>\n",
       "    <tr>\n",
       "      <th>3</th>\n",
       "      <td>1986-03-18</td>\n",
       "      <td>0.102431</td>\n",
       "      <td>0.103299</td>\n",
       "      <td>0.098958</td>\n",
       "      <td>0.099826</td>\n",
       "      <td>0.063405</td>\n",
       "      <td>67766400</td>\n",
       "    </tr>\n",
       "    <tr>\n",
       "      <th>4</th>\n",
       "      <td>1986-03-19</td>\n",
       "      <td>0.099826</td>\n",
       "      <td>0.100694</td>\n",
       "      <td>0.097222</td>\n",
       "      <td>0.098090</td>\n",
       "      <td>0.062302</td>\n",
       "      <td>47894400</td>\n",
       "    </tr>\n",
       "    <tr>\n",
       "      <th>...</th>\n",
       "      <td>...</td>\n",
       "      <td>...</td>\n",
       "      <td>...</td>\n",
       "      <td>...</td>\n",
       "      <td>...</td>\n",
       "      <td>...</td>\n",
       "      <td>...</td>\n",
       "    </tr>\n",
       "    <tr>\n",
       "      <th>8852</th>\n",
       "      <td>2021-04-27</td>\n",
       "      <td>261.579987</td>\n",
       "      <td>263.190002</td>\n",
       "      <td>260.119995</td>\n",
       "      <td>261.970001</td>\n",
       "      <td>261.970001</td>\n",
       "      <td>31014200</td>\n",
       "    </tr>\n",
       "    <tr>\n",
       "      <th>8853</th>\n",
       "      <td>2021-04-28</td>\n",
       "      <td>256.079987</td>\n",
       "      <td>256.540009</td>\n",
       "      <td>252.949997</td>\n",
       "      <td>254.559998</td>\n",
       "      <td>254.559998</td>\n",
       "      <td>46903100</td>\n",
       "    </tr>\n",
       "    <tr>\n",
       "      <th>8854</th>\n",
       "      <td>2021-04-29</td>\n",
       "      <td>255.460007</td>\n",
       "      <td>256.100006</td>\n",
       "      <td>249.000000</td>\n",
       "      <td>252.509995</td>\n",
       "      <td>252.509995</td>\n",
       "      <td>40589000</td>\n",
       "    </tr>\n",
       "    <tr>\n",
       "      <th>8855</th>\n",
       "      <td>2021-04-30</td>\n",
       "      <td>249.740005</td>\n",
       "      <td>253.080002</td>\n",
       "      <td>249.600006</td>\n",
       "      <td>252.179993</td>\n",
       "      <td>252.179993</td>\n",
       "      <td>30929200</td>\n",
       "    </tr>\n",
       "    <tr>\n",
       "      <th>8856</th>\n",
       "      <td>2021-05-03</td>\n",
       "      <td>253.399994</td>\n",
       "      <td>254.350006</td>\n",
       "      <td>251.119995</td>\n",
       "      <td>251.860001</td>\n",
       "      <td>251.860001</td>\n",
       "      <td>19598900</td>\n",
       "    </tr>\n",
       "  </tbody>\n",
       "</table>\n",
       "<p>8857 rows × 7 columns</p>\n",
       "</div>"
      ],
      "text/plain": [
       "            Date        Open        High         Low       Close   Adj Close  \\\n",
       "0     1986-03-13    0.088542    0.101563    0.088542    0.097222    0.061751   \n",
       "1     1986-03-14    0.097222    0.102431    0.097222    0.100694    0.063956   \n",
       "2     1986-03-17    0.100694    0.103299    0.100694    0.102431    0.065059   \n",
       "3     1986-03-18    0.102431    0.103299    0.098958    0.099826    0.063405   \n",
       "4     1986-03-19    0.099826    0.100694    0.097222    0.098090    0.062302   \n",
       "...          ...         ...         ...         ...         ...         ...   \n",
       "8852  2021-04-27  261.579987  263.190002  260.119995  261.970001  261.970001   \n",
       "8853  2021-04-28  256.079987  256.540009  252.949997  254.559998  254.559998   \n",
       "8854  2021-04-29  255.460007  256.100006  249.000000  252.509995  252.509995   \n",
       "8855  2021-04-30  249.740005  253.080002  249.600006  252.179993  252.179993   \n",
       "8856  2021-05-03  253.399994  254.350006  251.119995  251.860001  251.860001   \n",
       "\n",
       "          Volume  \n",
       "0     1031788800  \n",
       "1      308160000  \n",
       "2      133171200  \n",
       "3       67766400  \n",
       "4       47894400  \n",
       "...          ...  \n",
       "8852    31014200  \n",
       "8853    46903100  \n",
       "8854    40589000  \n",
       "8855    30929200  \n",
       "8856    19598900  \n",
       "\n",
       "[8857 rows x 7 columns]"
      ]
     },
     "execution_count": 2,
     "metadata": {},
     "output_type": "execute_result"
    }
   ],
   "source": [
    "df=pd.read_csv('MSFT.csv')\n",
    "df"
   ]
  },
  {
   "cell_type": "code",
   "execution_count": 3,
   "id": "5c6cec62",
   "metadata": {},
   "outputs": [
    {
     "data": {
      "text/html": [
       "<div>\n",
       "<style scoped>\n",
       "    .dataframe tbody tr th:only-of-type {\n",
       "        vertical-align: middle;\n",
       "    }\n",
       "\n",
       "    .dataframe tbody tr th {\n",
       "        vertical-align: top;\n",
       "    }\n",
       "\n",
       "    .dataframe thead th {\n",
       "        text-align: right;\n",
       "    }\n",
       "</style>\n",
       "<table border=\"1\" class=\"dataframe\">\n",
       "  <thead>\n",
       "    <tr style=\"text-align: right;\">\n",
       "      <th></th>\n",
       "      <th>Open</th>\n",
       "      <th>High</th>\n",
       "      <th>Low</th>\n",
       "      <th>Close</th>\n",
       "      <th>Adj Close</th>\n",
       "      <th>Volume</th>\n",
       "    </tr>\n",
       "    <tr>\n",
       "      <th>Date</th>\n",
       "      <th></th>\n",
       "      <th></th>\n",
       "      <th></th>\n",
       "      <th></th>\n",
       "      <th></th>\n",
       "      <th></th>\n",
       "    </tr>\n",
       "  </thead>\n",
       "  <tbody>\n",
       "    <tr>\n",
       "      <th>1986-03-13</th>\n",
       "      <td>0.088542</td>\n",
       "      <td>0.101563</td>\n",
       "      <td>0.088542</td>\n",
       "      <td>0.097222</td>\n",
       "      <td>0.061751</td>\n",
       "      <td>1031788800</td>\n",
       "    </tr>\n",
       "    <tr>\n",
       "      <th>1986-03-14</th>\n",
       "      <td>0.097222</td>\n",
       "      <td>0.102431</td>\n",
       "      <td>0.097222</td>\n",
       "      <td>0.100694</td>\n",
       "      <td>0.063956</td>\n",
       "      <td>308160000</td>\n",
       "    </tr>\n",
       "    <tr>\n",
       "      <th>1986-03-17</th>\n",
       "      <td>0.100694</td>\n",
       "      <td>0.103299</td>\n",
       "      <td>0.100694</td>\n",
       "      <td>0.102431</td>\n",
       "      <td>0.065059</td>\n",
       "      <td>133171200</td>\n",
       "    </tr>\n",
       "    <tr>\n",
       "      <th>1986-03-18</th>\n",
       "      <td>0.102431</td>\n",
       "      <td>0.103299</td>\n",
       "      <td>0.098958</td>\n",
       "      <td>0.099826</td>\n",
       "      <td>0.063405</td>\n",
       "      <td>67766400</td>\n",
       "    </tr>\n",
       "    <tr>\n",
       "      <th>1986-03-19</th>\n",
       "      <td>0.099826</td>\n",
       "      <td>0.100694</td>\n",
       "      <td>0.097222</td>\n",
       "      <td>0.098090</td>\n",
       "      <td>0.062302</td>\n",
       "      <td>47894400</td>\n",
       "    </tr>\n",
       "    <tr>\n",
       "      <th>...</th>\n",
       "      <td>...</td>\n",
       "      <td>...</td>\n",
       "      <td>...</td>\n",
       "      <td>...</td>\n",
       "      <td>...</td>\n",
       "      <td>...</td>\n",
       "    </tr>\n",
       "    <tr>\n",
       "      <th>2021-04-27</th>\n",
       "      <td>261.579987</td>\n",
       "      <td>263.190002</td>\n",
       "      <td>260.119995</td>\n",
       "      <td>261.970001</td>\n",
       "      <td>261.970001</td>\n",
       "      <td>31014200</td>\n",
       "    </tr>\n",
       "    <tr>\n",
       "      <th>2021-04-28</th>\n",
       "      <td>256.079987</td>\n",
       "      <td>256.540009</td>\n",
       "      <td>252.949997</td>\n",
       "      <td>254.559998</td>\n",
       "      <td>254.559998</td>\n",
       "      <td>46903100</td>\n",
       "    </tr>\n",
       "    <tr>\n",
       "      <th>2021-04-29</th>\n",
       "      <td>255.460007</td>\n",
       "      <td>256.100006</td>\n",
       "      <td>249.000000</td>\n",
       "      <td>252.509995</td>\n",
       "      <td>252.509995</td>\n",
       "      <td>40589000</td>\n",
       "    </tr>\n",
       "    <tr>\n",
       "      <th>2021-04-30</th>\n",
       "      <td>249.740005</td>\n",
       "      <td>253.080002</td>\n",
       "      <td>249.600006</td>\n",
       "      <td>252.179993</td>\n",
       "      <td>252.179993</td>\n",
       "      <td>30929200</td>\n",
       "    </tr>\n",
       "    <tr>\n",
       "      <th>2021-05-03</th>\n",
       "      <td>253.399994</td>\n",
       "      <td>254.350006</td>\n",
       "      <td>251.119995</td>\n",
       "      <td>251.860001</td>\n",
       "      <td>251.860001</td>\n",
       "      <td>19598900</td>\n",
       "    </tr>\n",
       "  </tbody>\n",
       "</table>\n",
       "<p>8857 rows × 6 columns</p>\n",
       "</div>"
      ],
      "text/plain": [
       "                  Open        High         Low       Close   Adj Close  \\\n",
       "Date                                                                     \n",
       "1986-03-13    0.088542    0.101563    0.088542    0.097222    0.061751   \n",
       "1986-03-14    0.097222    0.102431    0.097222    0.100694    0.063956   \n",
       "1986-03-17    0.100694    0.103299    0.100694    0.102431    0.065059   \n",
       "1986-03-18    0.102431    0.103299    0.098958    0.099826    0.063405   \n",
       "1986-03-19    0.099826    0.100694    0.097222    0.098090    0.062302   \n",
       "...                ...         ...         ...         ...         ...   \n",
       "2021-04-27  261.579987  263.190002  260.119995  261.970001  261.970001   \n",
       "2021-04-28  256.079987  256.540009  252.949997  254.559998  254.559998   \n",
       "2021-04-29  255.460007  256.100006  249.000000  252.509995  252.509995   \n",
       "2021-04-30  249.740005  253.080002  249.600006  252.179993  252.179993   \n",
       "2021-05-03  253.399994  254.350006  251.119995  251.860001  251.860001   \n",
       "\n",
       "                Volume  \n",
       "Date                    \n",
       "1986-03-13  1031788800  \n",
       "1986-03-14   308160000  \n",
       "1986-03-17   133171200  \n",
       "1986-03-18    67766400  \n",
       "1986-03-19    47894400  \n",
       "...                ...  \n",
       "2021-04-27    31014200  \n",
       "2021-04-28    46903100  \n",
       "2021-04-29    40589000  \n",
       "2021-04-30    30929200  \n",
       "2021-05-03    19598900  \n",
       "\n",
       "[8857 rows x 6 columns]"
      ]
     },
     "execution_count": 3,
     "metadata": {},
     "output_type": "execute_result"
    }
   ],
   "source": [
    "df.set_index(\"Date\",inplace=True)\n",
    "df"
   ]
  },
  {
   "cell_type": "code",
   "execution_count": 4,
   "id": "137c1ceb",
   "metadata": {},
   "outputs": [
    {
     "data": {
      "text/plain": [
       "(8857, 6)"
      ]
     },
     "execution_count": 4,
     "metadata": {},
     "output_type": "execute_result"
    }
   ],
   "source": [
    "df.shape"
   ]
  },
  {
   "cell_type": "code",
   "execution_count": 5,
   "id": "3b4e020e",
   "metadata": {},
   "outputs": [
    {
     "data": {
      "image/png": "[encoded data removed]",
      "text/plain": [
       "<Figure size 1152x576 with 1 Axes>"
      ]
     },
     "metadata": {
      "needs_background": "light"
     },
     "output_type": "display_data"
    }
   ],
   "source": [
    "plt.figure(figsize=(16,8))\n",
    "plt.title(\"Close Price History\")\n",
    "plt.plot(df[\"Close\"])\n",
    "plt.xlabel('Date',fontsize=18)\n",
    "plt.ylabel('Close Price',fontsize=18)\n",
    "plt.show()"
   ]
  },
  {
   "cell_type": "code",
   "execution_count": 6,
   "id": "5bc1c37e",
   "metadata": {},
   "outputs": [
    {
     "data": {
      "text/plain": [
       "7085"
      ]
     },
     "execution_count": 6,
     "metadata": {},
     "output_type": "execute_result"
    }
   ],
   "source": [
    "data = df.filter(['Close'])\n",
    "dataset = data.values\n",
    "train_len = int(len(dataset)*.8)\n",
    "train_len"
   ]
  },
  {
   "cell_type": "code",
   "execution_count": 7,
   "id": "3e9a97c5",
   "metadata": {},
   "outputs": [
    {
     "data": {
      "text/plain": [
       "array([[2.65159923e-05],\n",
       "       [3.97739884e-05],\n",
       "       [4.64067989e-05],\n",
       "       ...,\n",
       "       [9.63876521e-01],\n",
       "       [9.62616393e-01],\n",
       "       [9.61394489e-01]])"
      ]
     },
     "execution_count": 7,
     "metadata": {},
     "output_type": "execute_result"
    }
   ],
   "source": [
    "scaler = MinMaxScaler(feature_range=(0,1))\n",
    "scaled_data = scaler.fit_transform(dataset)\n",
    "scaled_data"
   ]
  },
  {
   "cell_type": "code",
   "execution_count": 8,
   "id": "8c1d53f3",
   "metadata": {},
   "outputs": [
    {
     "name": "stdout",
     "output_type": "stream",
     "text": [
      "[array([2.65159923e-05, 3.97739884e-05, 4.64067989e-05, 3.64594894e-05,\n",
      "       2.98304913e-05, 1.98869942e-05, 9.94349711e-06, 0.00000000e+00,\n",
      "       6.62899807e-06, 1.65724952e-05, 2.32014933e-05, 1.98869942e-05,\n",
      "       1.65724952e-05, 1.98869942e-05, 2.32014933e-05, 2.32014933e-05,\n",
      "       1.65724952e-05, 1.98869942e-05, 2.65159923e-05, 2.98304913e-05,\n",
      "       3.64594894e-05, 3.97739884e-05, 3.97739884e-05, 5.30357969e-05,\n",
      "       5.63502960e-05, 4.30922998e-05, 4.30922998e-05, 3.64594894e-05,\n",
      "       3.81167247e-05, 7.62372902e-05, 1.02757095e-04, 1.06071594e-04,\n",
      "       9.28097854e-05, 8.28662882e-05, 7.62372902e-05, 7.62372902e-05,\n",
      "       7.29227911e-05, 7.62372902e-05, 7.62372902e-05, 7.95517892e-05,\n",
      "       7.62372902e-05, 7.95517892e-05, 8.28662882e-05, 7.95517892e-05,\n",
      "       7.95517892e-05, 8.28662882e-05, 7.62372902e-05, 7.29227911e-05,\n",
      "       6.62937931e-05, 6.62937931e-05, 6.62937931e-05, 7.95517892e-05,\n",
      "       9.28097854e-05, 1.02757095e-04, 1.19329590e-04, 1.06071594e-04,\n",
      "       1.06071594e-04, 1.02757095e-04, 1.09386093e-04, 1.09386093e-04])]\n",
      "[8.94952863201091e-05]\n",
      "\n"
     ]
    }
   ],
   "source": [
    "train_data = scaled_data[0:train_len,:]\n",
    "x_train=[]\n",
    "y_train=[]\n",
    "\n",
    "for i in range(60, len(train_data)):\n",
    "    x_train.append(train_data[i-60:i,0])\n",
    "    y_train.append(train_data[i,0])\n",
    "    if i<=60:\n",
    "        print(x_train)\n",
    "        print(y_train)\n",
    "        print()"
   ]
  },
  {
   "cell_type": "code",
   "execution_count": 9,
   "id": "faa07b82",
   "metadata": {},
   "outputs": [],
   "source": [
    "x_train, y_train = np.array(x_train), np.array(y_train)"
   ]
  },
  {
   "cell_type": "code",
   "execution_count": 10,
   "id": "257e2e37",
   "metadata": {},
   "outputs": [
    {
     "data": {
      "text/plain": [
       "(7025, 60, 1)"
      ]
     },
     "execution_count": 10,
     "metadata": {},
     "output_type": "execute_result"
    }
   ],
   "source": [
    "x_train = np.reshape(x_train,(x_train.shape[0], x_train.shape[1], 1))\n",
    "x_train.shape"
   ]
  },
  {
   "cell_type": "code",
   "execution_count": 11,
   "id": "874017f6",
   "metadata": {},
   "outputs": [],
   "source": [
    "model = Sequential()\n",
    "model.add(LSTM(50, return_sequences=True, input_shape=(x_train.shape[1],1)))\n",
    "model.add(LSTM(50, return_sequences=False))\n",
    "model.add(Dense(25))\n",
    "model.add(Dense(1))"
   ]
  },
  {
   "cell_type": "code",
   "execution_count": 12,
   "id": "fff0be60",
   "metadata": {},
   "outputs": [],
   "source": [
    "model.compile(optimizer='adam', loss='mean_squared_error')"
   ]
  },
  {
   "cell_type": "code",
   "execution_count": 13,
   "id": "9a4e2591",
   "metadata": {},
   "outputs": [
    {
     "name": "stdout",
     "output_type": "stream",
     "text": [
      "110/110 [==============================] - 7s 59ms/step - loss: 2.0469e-04\n"
     ]
    },
    {
     "data": {
      "text/plain": [
       "<tensorflow.python.keras.callbacks.History at 0x1fe247c0c40>"
      ]
     },
     "execution_count": 13,
     "metadata": {},
     "output_type": "execute_result"
    }
   ],
   "source": [
    "model.fit(x_train, y_train, batch_size=64, epochs=1)"
   ]
  },
  {
   "cell_type": "code",
   "execution_count": 14,
   "id": "6200a728",
   "metadata": {},
   "outputs": [],
   "source": [
    "test_data = scaled_data[train_len-60:,:]\n",
    "x_test = []\n",
    "y_test = dataset[train_len:, :]\n",
    "for i in range(60, len(test_data)):\n",
    "    x_test.append(test_data[i-60:i,0])"
   ]
  },
  {
   "cell_type": "code",
   "execution_count": 15,
   "id": "1f41794c",
   "metadata": {},
   "outputs": [],
   "source": [
    "x_test = np.array(x_test)"
   ]
  },
  {
   "cell_type": "code",
   "execution_count": 16,
   "id": "6704b85d",
   "metadata": {},
   "outputs": [],
   "source": [
    "x_test = np.reshape(x_test,(x_test.shape[0], x_test.shape[1], 1))"
   ]
  },
  {
   "cell_type": "code",
   "execution_count": 17,
   "id": "eb8fb196",
   "metadata": {},
   "outputs": [],
   "source": [
    "predictions = model.predict(x_test)\n",
    "predictions = scaler.inverse_transform(predictions)"
   ]
  },
  {
   "cell_type": "code",
   "execution_count": 18,
   "id": "703b2fa3",
   "metadata": {},
   "outputs": [
    {
     "data": {
      "text/plain": [
       "2.5262526238745013"
      ]
     },
     "execution_count": 18,
     "metadata": {},
     "output_type": "execute_result"
    }
   ],
   "source": [
    "rmse = np.sqrt(np.mean(predictions-y_test)**2)\n",
    "rmse"
   ]
  },
  {
   "cell_type": "code",
   "execution_count": 19,
   "id": "b94711f7",
   "metadata": {},
   "outputs": [
    {
     "name": "stderr",
     "output_type": "stream",
     "text": [
      "C:\\Users\\SURAJ\\AppData\\Local\\Temp/ipykernel_24376/3476887619.py:3: SettingWithCopyWarning: \n",
      "A value is trying to be set on a copy of a slice from a DataFrame.\n",
      "Try using .loc[row_indexer,col_indexer] = value instead\n",
      "\n",
      "See the caveats in the documentation: https://pandas.pydata.org/pandas-docs/stable/user_guide/indexing.html#returning-a-view-versus-a-copy\n",
      "  valid['Predictions'] = predictions\n"
     ]
    },
    {
     "data": {
      "image/png": "[encoded data removed]",
      "text/plain": [
       "<Figure size 1152x576 with 1 Axes>"
      ]
     },
     "metadata": {
      "needs_background": "light"
     },
     "output_type": "display_data"
    }
   ],
   "source": [
    "train = data[:train_len]\n",
    "valid = data[train_len:]\n",
    "valid['Predictions'] = predictions\n",
    "\n",
    "plt.figure(figsize=(16,8))\n",
    "plt.title('Model')\n",
    "plt.xlabel('Date', fontsize=18)\n",
    "plt.ylabel('Close Price',fontsize=18)\n",
    "plt.plot(train['Close'])\n",
    "plt.plot(valid[['Close','Predictions']])\n",
    "plt.legend(['Train','Val','Predictions'], loc='lower right')\n",
    "plt.show()"
   ]
  },
  {
   "cell_type": "code",
   "execution_count": 20,
   "id": "b9f8d0c3",
   "metadata": {},
   "outputs": [
    {
     "data": {
      "text/html": [
       "<div>\n",
       "<style scoped>\n",
       "    .dataframe tbody tr th:only-of-type {\n",
       "        vertical-align: middle;\n",
       "    }\n",
       "\n",
       "    .dataframe tbody tr th {\n",
       "        vertical-align: top;\n",
       "    }\n",
       "\n",
       "    .dataframe thead th {\n",
       "        text-align: right;\n",
       "    }\n",
       "</style>\n",
       "<table border=\"1\" class=\"dataframe\">\n",
       "  <thead>\n",
       "    <tr style=\"text-align: right;\">\n",
       "      <th></th>\n",
       "      <th>Close</th>\n",
       "      <th>Predictions</th>\n",
       "    </tr>\n",
       "    <tr>\n",
       "      <th>Date</th>\n",
       "      <th></th>\n",
       "      <th></th>\n",
       "    </tr>\n",
       "  </thead>\n",
       "  <tbody>\n",
       "    <tr>\n",
       "      <th>2014-04-21</th>\n",
       "      <td>39.939999</td>\n",
       "      <td>40.207527</td>\n",
       "    </tr>\n",
       "    <tr>\n",
       "      <th>2014-04-22</th>\n",
       "      <td>39.990002</td>\n",
       "      <td>40.192928</td>\n",
       "    </tr>\n",
       "    <tr>\n",
       "      <th>2014-04-23</th>\n",
       "      <td>39.689999</td>\n",
       "      <td>40.182507</td>\n",
       "    </tr>\n",
       "    <tr>\n",
       "      <th>2014-04-24</th>\n",
       "      <td>39.860001</td>\n",
       "      <td>40.164841</td>\n",
       "    </tr>\n",
       "    <tr>\n",
       "      <th>2014-04-25</th>\n",
       "      <td>39.910000</td>\n",
       "      <td>40.148880</td>\n",
       "    </tr>\n",
       "    <tr>\n",
       "      <th>...</th>\n",
       "      <td>...</td>\n",
       "      <td>...</td>\n",
       "    </tr>\n",
       "    <tr>\n",
       "      <th>2021-04-27</th>\n",
       "      <td>261.970001</td>\n",
       "      <td>237.346008</td>\n",
       "    </tr>\n",
       "    <tr>\n",
       "      <th>2021-04-28</th>\n",
       "      <td>254.559998</td>\n",
       "      <td>237.998871</td>\n",
       "    </tr>\n",
       "    <tr>\n",
       "      <th>2021-04-29</th>\n",
       "      <td>252.509995</td>\n",
       "      <td>238.377960</td>\n",
       "    </tr>\n",
       "    <tr>\n",
       "      <th>2021-04-30</th>\n",
       "      <td>252.179993</td>\n",
       "      <td>238.514374</td>\n",
       "    </tr>\n",
       "    <tr>\n",
       "      <th>2021-05-03</th>\n",
       "      <td>251.860001</td>\n",
       "      <td>238.478943</td>\n",
       "    </tr>\n",
       "  </tbody>\n",
       "</table>\n",
       "<p>1772 rows × 2 columns</p>\n",
       "</div>"
      ],
      "text/plain": [
       "                 Close  Predictions\n",
       "Date                               \n",
       "2014-04-21   39.939999    40.207527\n",
       "2014-04-22   39.990002    40.192928\n",
       "2014-04-23   39.689999    40.182507\n",
       "2014-04-24   39.860001    40.164841\n",
       "2014-04-25   39.910000    40.148880\n",
       "...                ...          ...\n",
       "2021-04-27  261.970001   237.346008\n",
       "2021-04-28  254.559998   237.998871\n",
       "2021-04-29  252.509995   238.377960\n",
       "2021-04-30  252.179993   238.514374\n",
       "2021-05-03  251.860001   238.478943\n",
       "\n",
       "[1772 rows x 2 columns]"
      ]
     },
     "execution_count": 20,
     "metadata": {},
     "output_type": "execute_result"
    }
   ],
   "source": [
    "valid"
   ]
  },
  {
   "cell_type": "code",
   "execution_count": null,
   "id": "b455b187",
   "metadata": {},
   "outputs": [],
   "source": []
  }
 ],
 "metadata": {
  "kernelspec": {
   "display_name": "Python 3 (ipykernel)",
   "language": "python",
   "name": "python3"
  },
  "language_info": {
   "codemirror_mode": {
    "name": "ipython",
    "version": 3
   },
   "file_extension": ".py",
   "mimetype": "text/x-python",
   "name": "python",
   "nbconvert_exporter": "python",
   "pygments_lexer": "ipython3",
   "version": "3.8.11"
  }
 },
 "nbformat": 4,
 "nbformat_minor": 5
}
