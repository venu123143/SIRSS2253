{
 "cells": [
  {
   "cell_type": "markdown",
   "metadata": {},
   "source": [
    "# Regex\n",
    "## Task 7\n",
    "### Name-Venu Gopal Reddy\n",
    "### Registration id - SIRSS2253\n",
    "\n",
    "\n",
    "\n"
   ]
  },
  {
   "cell_type": "code",
   "execution_count": 1,
   "metadata": {},
   "outputs": [],
   "source": [
    "import pandas as pd\n",
    "import numpy as np\n",
    "\n",
    "import matplotlib.pyplot as plt\n",
    "import seaborn as sns\n",
    "\n",
    "from sklearn.preprocessing import StandardScaler\n",
    "from sklearn.model_selection import train_test_split\n",
    "from sklearn.model_selection import GridSearchCV\n",
    "\n",
    "from sklearn.linear_model import LinearRegression\n",
    "from sklearn.linear_model import Ridge\n",
    "from sklearn.linear_model import Lasso\n",
    "\n",
    "from sklearn.metrics import mean_absolute_error\n",
    "from sklearn.metrics import r2_score\n",
    "\n",
    "pd.set_option('max_columns', None)\n",
    "pd.set_option('max_rows', None)\n",
    "import warnings\n",
    "warnings.filterwarnings('ignore')"
   ]
  },
  {
   "cell_type": "markdown",
   "metadata": {
    "papermill": {
     "duration": 0.089264,
     "end_time": "2021-09-08T20:51:08.264119",
     "exception": false,
     "start_time": "2021-09-08T20:51:08.174855",
     "status": "completed"
    },
    "tags": []
   },
   "source": [
    "## Q1. Implement gradient descent (for simple linear regression) from scratch."
   ]
  },
  {
   "cell_type": "code",
   "execution_count": 2,
   "metadata": {},
   "outputs": [],
   "source": [
    "def estimate_coef(x,y):\n",
    "    n = np.size(x)\n",
    "    m_x,m_y = np.mean(x) , np.mean(y)\n",
    "    ss_xy = np.sum(y*x) - n*m_y*m_x\n",
    "    ss_xx = np.sum(x*x) - n*m_x*m_x\n",
    "    \n",
    "    \n",
    "    theta_1 = ss_xy / ss_xx\n",
    "    theta_0 = m_y - theta_1*m_x\n",
    "    \n",
    "    return(theta_0, theta_1)"
   ]
  },
  {
   "cell_type": "code",
   "execution_count": 3,
   "metadata": {},
   "outputs": [],
   "source": [
    "def plot_regression_line(x,y,theta):\n",
    "    plt.scatter(x,y,marker=\"o\",s=30)\n",
    "    y_pred = theta[0] + theta[1]*x\n",
    "    plt.plot(x,y_pred,color = \"r\")\n",
    "    \n",
    "    plt.xlabel('x')\n",
    "    plt.ylabel('y')\n",
    "    plt.show()"
   ]
  },
  {
   "cell_type": "code",
   "execution_count": 4,
   "metadata": {},
   "outputs": [
    {
     "name": "stdout",
     "output_type": "stream",
     "text": [
      "estimated coeff: \n",
      "theta_0 = 11.236363636363636 \n",
      "theta_1 = 1.1696969696969697\n"
     ]
    },
    {
     "data": {
      "image/png": "[encoded data removed]",
      "text/plain": [
       "<Figure size 432x288 with 1 Axes>"
      ]
     },
     "metadata": {
      "needs_background": "light"
     },
     "output_type": "display_data"
    },
    {
     "name": "stdout",
     "output_type": "stream",
     "text": [
      "24.103\n"
     ]
    }
   ],
   "source": [
    "x = np.array([0,1,2,3,4,5,6,7,8,9])\n",
    "y = np.array([11,13,12,15,17,18,18,19,20,22])\n",
    "theta = estimate_coef(x,y)\n",
    "print(\"estimated coeff: \\ntheta_0 = {} \\ntheta_1 = {}\".format(theta[0],theta[1]))\n",
    "plot_regression_line(x,y,theta)\n",
    "print(round(theta[0] + theta[1]*11,4))"
   ]
  },
  {
   "cell_type": "markdown",
   "metadata": {},
   "source": [
    "# Kaggle competition"
   ]
  },
  {
   "cell_type": "code",
   "execution_count": 12,
   "metadata": {
    "execution": {
     "iopub.execute_input": "2021-09-08T20:51:09.978336Z",
     "iopub.status.busy": "2021-09-08T20:51:09.977637Z",
     "iopub.status.idle": "2021-09-08T20:51:10.069171Z",
     "shell.execute_reply": "2021-09-08T20:51:10.068589Z",
     "shell.execute_reply.started": "2021-09-08T20:33:03.898589Z"
    },
    "papermill": {
     "duration": 0.164066,
     "end_time": "2021-09-08T20:51:10.069307",
     "exception": false,
     "start_time": "2021-09-08T20:51:09.905241",
     "status": "completed"
    },
    "tags": []
   },
   "outputs": [],
   "source": [
    "train_data = pd.read_csv('D:\\\\python videos\\\\INTREN ASS videos\\\\train.csv')\n",
    "test_data = pd.read_csv('D:\\\\python videos\\\\INTREN ASS videos\\\\test.csv')\n",
    "submision_data = pd.read_csv('D:\\\\python videos\\\\INTREN ASS videos\\\\sample_submission.csv')"
   ]
  },
  {
   "cell_type": "code",
   "execution_count": null,
   "metadata": {},
   "outputs": [],
   "source": []
  },
  {
   "cell_type": "code",
   "execution_count": 15,
   "metadata": {
    "scrolled": true
   },
   "outputs": [
    {
     "data": {
      "text/html": [
       "<div>\n",
       "<style scoped>\n",
       "    .dataframe tbody tr th:only-of-type {\n",
       "        vertical-align: middle;\n",
       "    }\n",
       "\n",
       "    .dataframe tbody tr th {\n",
       "        vertical-align: top;\n",
       "    }\n",
       "\n",
       "    .dataframe thead th {\n",
       "        text-align: right;\n",
       "    }\n",
       "</style>\n",
       "<table border=\"1\" class=\"dataframe\">\n",
       "  <thead>\n",
       "    <tr style=\"text-align: right;\">\n",
       "      <th></th>\n",
       "      <th>Id</th>\n",
       "      <th>MSSubClass</th>\n",
       "      <th>MSZoning</th>\n",
       "      <th>LotFrontage</th>\n",
       "      <th>LotArea</th>\n",
       "      <th>Street</th>\n",
       "      <th>Alley</th>\n",
       "      <th>LotShape</th>\n",
       "      <th>LandContour</th>\n",
       "      <th>Utilities</th>\n",
       "      <th>LotConfig</th>\n",
       "      <th>LandSlope</th>\n",
       "      <th>Neighborhood</th>\n",
       "      <th>Condition1</th>\n",
       "      <th>Condition2</th>\n",
       "      <th>BldgType</th>\n",
       "      <th>HouseStyle</th>\n",
       "      <th>OverallQual</th>\n",
       "      <th>OverallCond</th>\n",
       "      <th>YearBuilt</th>\n",
       "      <th>YearRemodAdd</th>\n",
       "      <th>RoofStyle</th>\n",
       "      <th>RoofMatl</th>\n",
       "      <th>Exterior1st</th>\n",
       "      <th>Exterior2nd</th>\n",
       "      <th>MasVnrType</th>\n",
       "      <th>MasVnrArea</th>\n",
       "      <th>ExterQual</th>\n",
       "      <th>ExterCond</th>\n",
       "      <th>Foundation</th>\n",
       "      <th>BsmtQual</th>\n",
       "      <th>BsmtCond</th>\n",
       "      <th>BsmtExposure</th>\n",
       "      <th>BsmtFinType1</th>\n",
       "      <th>BsmtFinSF1</th>\n",
       "      <th>BsmtFinType2</th>\n",
       "      <th>BsmtFinSF2</th>\n",
       "      <th>BsmtUnfSF</th>\n",
       "      <th>TotalBsmtSF</th>\n",
       "      <th>Heating</th>\n",
       "      <th>HeatingQC</th>\n",
       "      <th>CentralAir</th>\n",
       "      <th>Electrical</th>\n",
       "      <th>1stFlrSF</th>\n",
       "      <th>2ndFlrSF</th>\n",
       "      <th>LowQualFinSF</th>\n",
       "      <th>GrLivArea</th>\n",
       "      <th>BsmtFullBath</th>\n",
       "      <th>BsmtHalfBath</th>\n",
       "      <th>FullBath</th>\n",
       "      <th>HalfBath</th>\n",
       "      <th>BedroomAbvGr</th>\n",
       "      <th>KitchenAbvGr</th>\n",
       "      <th>KitchenQual</th>\n",
       "      <th>TotRmsAbvGrd</th>\n",
       "      <th>Functional</th>\n",
       "      <th>Fireplaces</th>\n",
       "      <th>FireplaceQu</th>\n",
       "      <th>GarageType</th>\n",
       "      <th>GarageYrBlt</th>\n",
       "      <th>GarageFinish</th>\n",
       "      <th>GarageCars</th>\n",
       "      <th>GarageArea</th>\n",
       "      <th>GarageQual</th>\n",
       "      <th>GarageCond</th>\n",
       "      <th>PavedDrive</th>\n",
       "      <th>WoodDeckSF</th>\n",
       "      <th>OpenPorchSF</th>\n",
       "      <th>EnclosedPorch</th>\n",
       "      <th>3SsnPorch</th>\n",
       "      <th>ScreenPorch</th>\n",
       "      <th>PoolArea</th>\n",
       "      <th>PoolQC</th>\n",
       "      <th>Fence</th>\n",
       "      <th>MiscFeature</th>\n",
       "      <th>MiscVal</th>\n",
       "      <th>MoSold</th>\n",
       "      <th>YrSold</th>\n",
       "      <th>SaleType</th>\n",
       "      <th>SaleCondition</th>\n",
       "      <th>SalePrice</th>\n",
       "    </tr>\n",
       "  </thead>\n",
       "  <tbody>\n",
       "    <tr>\n",
       "      <th>0</th>\n",
       "      <td>1</td>\n",
       "      <td>60</td>\n",
       "      <td>RL</td>\n",
       "      <td>65.0</td>\n",
       "      <td>8450</td>\n",
       "      <td>Pave</td>\n",
       "      <td>NaN</td>\n",
       "      <td>Reg</td>\n",
       "      <td>Lvl</td>\n",
       "      <td>AllPub</td>\n",
       "      <td>Inside</td>\n",
       "      <td>Gtl</td>\n",
       "      <td>CollgCr</td>\n",
       "      <td>Norm</td>\n",
       "      <td>Norm</td>\n",
       "      <td>1Fam</td>\n",
       "      <td>2Story</td>\n",
       "      <td>7</td>\n",
       "      <td>5</td>\n",
       "      <td>2003</td>\n",
       "      <td>2003</td>\n",
       "      <td>Gable</td>\n",
       "      <td>CompShg</td>\n",
       "      <td>VinylSd</td>\n",
       "      <td>VinylSd</td>\n",
       "      <td>BrkFace</td>\n",
       "      <td>196.0</td>\n",
       "      <td>Gd</td>\n",
       "      <td>TA</td>\n",
       "      <td>PConc</td>\n",
       "      <td>Gd</td>\n",
       "      <td>TA</td>\n",
       "      <td>No</td>\n",
       "      <td>GLQ</td>\n",
       "      <td>706</td>\n",
       "      <td>Unf</td>\n",
       "      <td>0</td>\n",
       "      <td>150</td>\n",
       "      <td>856</td>\n",
       "      <td>GasA</td>\n",
       "      <td>Ex</td>\n",
       "      <td>Y</td>\n",
       "      <td>SBrkr</td>\n",
       "      <td>856</td>\n",
       "      <td>854</td>\n",
       "      <td>0</td>\n",
       "      <td>1710</td>\n",
       "      <td>1</td>\n",
       "      <td>0</td>\n",
       "      <td>2</td>\n",
       "      <td>1</td>\n",
       "      <td>3</td>\n",
       "      <td>1</td>\n",
       "      <td>Gd</td>\n",
       "      <td>8</td>\n",
       "      <td>Typ</td>\n",
       "      <td>0</td>\n",
       "      <td>NaN</td>\n",
       "      <td>Attchd</td>\n",
       "      <td>2003.0</td>\n",
       "      <td>RFn</td>\n",
       "      <td>2</td>\n",
       "      <td>548</td>\n",
       "      <td>TA</td>\n",
       "      <td>TA</td>\n",
       "      <td>Y</td>\n",
       "      <td>0</td>\n",
       "      <td>61</td>\n",
       "      <td>0</td>\n",
       "      <td>0</td>\n",
       "      <td>0</td>\n",
       "      <td>0</td>\n",
       "      <td>NaN</td>\n",
       "      <td>NaN</td>\n",
       "      <td>NaN</td>\n",
       "      <td>0</td>\n",
       "      <td>2</td>\n",
       "      <td>2008</td>\n",
       "      <td>WD</td>\n",
       "      <td>Normal</td>\n",
       "      <td>208500</td>\n",
       "    </tr>\n",
       "    <tr>\n",
       "      <th>1</th>\n",
       "      <td>2</td>\n",
       "      <td>20</td>\n",
       "      <td>RL</td>\n",
       "      <td>80.0</td>\n",
       "      <td>9600</td>\n",
       "      <td>Pave</td>\n",
       "      <td>NaN</td>\n",
       "      <td>Reg</td>\n",
       "      <td>Lvl</td>\n",
       "      <td>AllPub</td>\n",
       "      <td>FR2</td>\n",
       "      <td>Gtl</td>\n",
       "      <td>Veenker</td>\n",
       "      <td>Feedr</td>\n",
       "      <td>Norm</td>\n",
       "      <td>1Fam</td>\n",
       "      <td>1Story</td>\n",
       "      <td>6</td>\n",
       "      <td>8</td>\n",
       "      <td>1976</td>\n",
       "      <td>1976</td>\n",
       "      <td>Gable</td>\n",
       "      <td>CompShg</td>\n",
       "      <td>MetalSd</td>\n",
       "      <td>MetalSd</td>\n",
       "      <td>None</td>\n",
       "      <td>0.0</td>\n",
       "      <td>TA</td>\n",
       "      <td>TA</td>\n",
       "      <td>CBlock</td>\n",
       "      <td>Gd</td>\n",
       "      <td>TA</td>\n",
       "      <td>Gd</td>\n",
       "      <td>ALQ</td>\n",
       "      <td>978</td>\n",
       "      <td>Unf</td>\n",
       "      <td>0</td>\n",
       "      <td>284</td>\n",
       "      <td>1262</td>\n",
       "      <td>GasA</td>\n",
       "      <td>Ex</td>\n",
       "      <td>Y</td>\n",
       "      <td>SBrkr</td>\n",
       "      <td>1262</td>\n",
       "      <td>0</td>\n",
       "      <td>0</td>\n",
       "      <td>1262</td>\n",
       "      <td>0</td>\n",
       "      <td>1</td>\n",
       "      <td>2</td>\n",
       "      <td>0</td>\n",
       "      <td>3</td>\n",
       "      <td>1</td>\n",
       "      <td>TA</td>\n",
       "      <td>6</td>\n",
       "      <td>Typ</td>\n",
       "      <td>1</td>\n",
       "      <td>TA</td>\n",
       "      <td>Attchd</td>\n",
       "      <td>1976.0</td>\n",
       "      <td>RFn</td>\n",
       "      <td>2</td>\n",
       "      <td>460</td>\n",
       "      <td>TA</td>\n",
       "      <td>TA</td>\n",
       "      <td>Y</td>\n",
       "      <td>298</td>\n",
       "      <td>0</td>\n",
       "      <td>0</td>\n",
       "      <td>0</td>\n",
       "      <td>0</td>\n",
       "      <td>0</td>\n",
       "      <td>NaN</td>\n",
       "      <td>NaN</td>\n",
       "      <td>NaN</td>\n",
       "      <td>0</td>\n",
       "      <td>5</td>\n",
       "      <td>2007</td>\n",
       "      <td>WD</td>\n",
       "      <td>Normal</td>\n",
       "      <td>181500</td>\n",
       "    </tr>\n",
       "    <tr>\n",
       "      <th>2</th>\n",
       "      <td>3</td>\n",
       "      <td>60</td>\n",
       "      <td>RL</td>\n",
       "      <td>68.0</td>\n",
       "      <td>11250</td>\n",
       "      <td>Pave</td>\n",
       "      <td>NaN</td>\n",
       "      <td>IR1</td>\n",
       "      <td>Lvl</td>\n",
       "      <td>AllPub</td>\n",
       "      <td>Inside</td>\n",
       "      <td>Gtl</td>\n",
       "      <td>CollgCr</td>\n",
       "      <td>Norm</td>\n",
       "      <td>Norm</td>\n",
       "      <td>1Fam</td>\n",
       "      <td>2Story</td>\n",
       "      <td>7</td>\n",
       "      <td>5</td>\n",
       "      <td>2001</td>\n",
       "      <td>2002</td>\n",
       "      <td>Gable</td>\n",
       "      <td>CompShg</td>\n",
       "      <td>VinylSd</td>\n",
       "      <td>VinylSd</td>\n",
       "      <td>BrkFace</td>\n",
       "      <td>162.0</td>\n",
       "      <td>Gd</td>\n",
       "      <td>TA</td>\n",
       "      <td>PConc</td>\n",
       "      <td>Gd</td>\n",
       "      <td>TA</td>\n",
       "      <td>Mn</td>\n",
       "      <td>GLQ</td>\n",
       "      <td>486</td>\n",
       "      <td>Unf</td>\n",
       "      <td>0</td>\n",
       "      <td>434</td>\n",
       "      <td>920</td>\n",
       "      <td>GasA</td>\n",
       "      <td>Ex</td>\n",
       "      <td>Y</td>\n",
       "      <td>SBrkr</td>\n",
       "      <td>920</td>\n",
       "      <td>866</td>\n",
       "      <td>0</td>\n",
       "      <td>1786</td>\n",
       "      <td>1</td>\n",
       "      <td>0</td>\n",
       "      <td>2</td>\n",
       "      <td>1</td>\n",
       "      <td>3</td>\n",
       "      <td>1</td>\n",
       "      <td>Gd</td>\n",
       "      <td>6</td>\n",
       "      <td>Typ</td>\n",
       "      <td>1</td>\n",
       "      <td>TA</td>\n",
       "      <td>Attchd</td>\n",
       "      <td>2001.0</td>\n",
       "      <td>RFn</td>\n",
       "      <td>2</td>\n",
       "      <td>608</td>\n",
       "      <td>TA</td>\n",
       "      <td>TA</td>\n",
       "      <td>Y</td>\n",
       "      <td>0</td>\n",
       "      <td>42</td>\n",
       "      <td>0</td>\n",
       "      <td>0</td>\n",
       "      <td>0</td>\n",
       "      <td>0</td>\n",
       "      <td>NaN</td>\n",
       "      <td>NaN</td>\n",
       "      <td>NaN</td>\n",
       "      <td>0</td>\n",
       "      <td>9</td>\n",
       "      <td>2008</td>\n",
       "      <td>WD</td>\n",
       "      <td>Normal</td>\n",
       "      <td>223500</td>\n",
       "    </tr>\n",
       "    <tr>\n",
       "      <th>3</th>\n",
       "      <td>4</td>\n",
       "      <td>70</td>\n",
       "      <td>RL</td>\n",
       "      <td>60.0</td>\n",
       "      <td>9550</td>\n",
       "      <td>Pave</td>\n",
       "      <td>NaN</td>\n",
       "      <td>IR1</td>\n",
       "      <td>Lvl</td>\n",
       "      <td>AllPub</td>\n",
       "      <td>Corner</td>\n",
       "      <td>Gtl</td>\n",
       "      <td>Crawfor</td>\n",
       "      <td>Norm</td>\n",
       "      <td>Norm</td>\n",
       "      <td>1Fam</td>\n",
       "      <td>2Story</td>\n",
       "      <td>7</td>\n",
       "      <td>5</td>\n",
       "      <td>1915</td>\n",
       "      <td>1970</td>\n",
       "      <td>Gable</td>\n",
       "      <td>CompShg</td>\n",
       "      <td>Wd Sdng</td>\n",
       "      <td>Wd Shng</td>\n",
       "      <td>None</td>\n",
       "      <td>0.0</td>\n",
       "      <td>TA</td>\n",
       "      <td>TA</td>\n",
       "      <td>BrkTil</td>\n",
       "      <td>TA</td>\n",
       "      <td>Gd</td>\n",
       "      <td>No</td>\n",
       "      <td>ALQ</td>\n",
       "      <td>216</td>\n",
       "      <td>Unf</td>\n",
       "      <td>0</td>\n",
       "      <td>540</td>\n",
       "      <td>756</td>\n",
       "      <td>GasA</td>\n",
       "      <td>Gd</td>\n",
       "      <td>Y</td>\n",
       "      <td>SBrkr</td>\n",
       "      <td>961</td>\n",
       "      <td>756</td>\n",
       "      <td>0</td>\n",
       "      <td>1717</td>\n",
       "      <td>1</td>\n",
       "      <td>0</td>\n",
       "      <td>1</td>\n",
       "      <td>0</td>\n",
       "      <td>3</td>\n",
       "      <td>1</td>\n",
       "      <td>Gd</td>\n",
       "      <td>7</td>\n",
       "      <td>Typ</td>\n",
       "      <td>1</td>\n",
       "      <td>Gd</td>\n",
       "      <td>Detchd</td>\n",
       "      <td>1998.0</td>\n",
       "      <td>Unf</td>\n",
       "      <td>3</td>\n",
       "      <td>642</td>\n",
       "      <td>TA</td>\n",
       "      <td>TA</td>\n",
       "      <td>Y</td>\n",
       "      <td>0</td>\n",
       "      <td>35</td>\n",
       "      <td>272</td>\n",
       "      <td>0</td>\n",
       "      <td>0</td>\n",
       "      <td>0</td>\n",
       "      <td>NaN</td>\n",
       "      <td>NaN</td>\n",
       "      <td>NaN</td>\n",
       "      <td>0</td>\n",
       "      <td>2</td>\n",
       "      <td>2006</td>\n",
       "      <td>WD</td>\n",
       "      <td>Abnorml</td>\n",
       "      <td>140000</td>\n",
       "    </tr>\n",
       "    <tr>\n",
       "      <th>4</th>\n",
       "      <td>5</td>\n",
       "      <td>60</td>\n",
       "      <td>RL</td>\n",
       "      <td>84.0</td>\n",
       "      <td>14260</td>\n",
       "      <td>Pave</td>\n",
       "      <td>NaN</td>\n",
       "      <td>IR1</td>\n",
       "      <td>Lvl</td>\n",
       "      <td>AllPub</td>\n",
       "      <td>FR2</td>\n",
       "      <td>Gtl</td>\n",
       "      <td>NoRidge</td>\n",
       "      <td>Norm</td>\n",
       "      <td>Norm</td>\n",
       "      <td>1Fam</td>\n",
       "      <td>2Story</td>\n",
       "      <td>8</td>\n",
       "      <td>5</td>\n",
       "      <td>2000</td>\n",
       "      <td>2000</td>\n",
       "      <td>Gable</td>\n",
       "      <td>CompShg</td>\n",
       "      <td>VinylSd</td>\n",
       "      <td>VinylSd</td>\n",
       "      <td>BrkFace</td>\n",
       "      <td>350.0</td>\n",
       "      <td>Gd</td>\n",
       "      <td>TA</td>\n",
       "      <td>PConc</td>\n",
       "      <td>Gd</td>\n",
       "      <td>TA</td>\n",
       "      <td>Av</td>\n",
       "      <td>GLQ</td>\n",
       "      <td>655</td>\n",
       "      <td>Unf</td>\n",
       "      <td>0</td>\n",
       "      <td>490</td>\n",
       "      <td>1145</td>\n",
       "      <td>GasA</td>\n",
       "      <td>Ex</td>\n",
       "      <td>Y</td>\n",
       "      <td>SBrkr</td>\n",
       "      <td>1145</td>\n",
       "      <td>1053</td>\n",
       "      <td>0</td>\n",
       "      <td>2198</td>\n",
       "      <td>1</td>\n",
       "      <td>0</td>\n",
       "      <td>2</td>\n",
       "      <td>1</td>\n",
       "      <td>4</td>\n",
       "      <td>1</td>\n",
       "      <td>Gd</td>\n",
       "      <td>9</td>\n",
       "      <td>Typ</td>\n",
       "      <td>1</td>\n",
       "      <td>TA</td>\n",
       "      <td>Attchd</td>\n",
       "      <td>2000.0</td>\n",
       "      <td>RFn</td>\n",
       "      <td>3</td>\n",
       "      <td>836</td>\n",
       "      <td>TA</td>\n",
       "      <td>TA</td>\n",
       "      <td>Y</td>\n",
       "      <td>192</td>\n",
       "      <td>84</td>\n",
       "      <td>0</td>\n",
       "      <td>0</td>\n",
       "      <td>0</td>\n",
       "      <td>0</td>\n",
       "      <td>NaN</td>\n",
       "      <td>NaN</td>\n",
       "      <td>NaN</td>\n",
       "      <td>0</td>\n",
       "      <td>12</td>\n",
       "      <td>2008</td>\n",
       "      <td>WD</td>\n",
       "      <td>Normal</td>\n",
       "      <td>250000</td>\n",
       "    </tr>\n",
       "  </tbody>\n",
       "</table>\n",
       "</div>"
      ],
      "text/plain": [
       "   Id  MSSubClass MSZoning  LotFrontage  LotArea Street Alley LotShape  \\\n",
       "0   1          60       RL         65.0     8450   Pave   NaN      Reg   \n",
       "1   2          20       RL         80.0     9600   Pave   NaN      Reg   \n",
       "2   3          60       RL         68.0    11250   Pave   NaN      IR1   \n",
       "3   4          70       RL         60.0     9550   Pave   NaN      IR1   \n",
       "4   5          60       RL         84.0    14260   Pave   NaN      IR1   \n",
       "\n",
       "  LandContour Utilities LotConfig LandSlope Neighborhood Condition1  \\\n",
       "0         Lvl    AllPub    Inside       Gtl      CollgCr       Norm   \n",
       "1         Lvl    AllPub       FR2       Gtl      Veenker      Feedr   \n",
       "2         Lvl    AllPub    Inside       Gtl      CollgCr       Norm   \n",
       "3         Lvl    AllPub    Corner       Gtl      Crawfor       Norm   \n",
       "4         Lvl    AllPub       FR2       Gtl      NoRidge       Norm   \n",
       "\n",
       "  Condition2 BldgType HouseStyle  OverallQual  OverallCond  YearBuilt  \\\n",
       "0       Norm     1Fam     2Story            7            5       2003   \n",
       "1       Norm     1Fam     1Story            6            8       1976   \n",
       "2       Norm     1Fam     2Story            7            5       2001   \n",
       "3       Norm     1Fam     2Story            7            5       1915   \n",
       "4       Norm     1Fam     2Story            8            5       2000   \n",
       "\n",
       "   YearRemodAdd RoofStyle RoofMatl Exterior1st Exterior2nd MasVnrType  \\\n",
       "0          2003     Gable  CompShg     VinylSd     VinylSd    BrkFace   \n",
       "1          1976     Gable  CompShg     MetalSd     MetalSd       None   \n",
       "2          2002     Gable  CompShg     VinylSd     VinylSd    BrkFace   \n",
       "3          1970     Gable  CompShg     Wd Sdng     Wd Shng       None   \n",
       "4          2000     Gable  CompShg     VinylSd     VinylSd    BrkFace   \n",
       "\n",
       "   MasVnrArea ExterQual ExterCond Foundation BsmtQual BsmtCond BsmtExposure  \\\n",
       "0       196.0        Gd        TA      PConc       Gd       TA           No   \n",
       "1         0.0        TA        TA     CBlock       Gd       TA           Gd   \n",
       "2       162.0        Gd        TA      PConc       Gd       TA           Mn   \n",
       "3         0.0        TA        TA     BrkTil       TA       Gd           No   \n",
       "4       350.0        Gd        TA      PConc       Gd       TA           Av   \n",
       "\n",
       "  BsmtFinType1  BsmtFinSF1 BsmtFinType2  BsmtFinSF2  BsmtUnfSF  TotalBsmtSF  \\\n",
       "0          GLQ         706          Unf           0        150          856   \n",
       "1          ALQ         978          Unf           0        284         1262   \n",
       "2          GLQ         486          Unf           0        434          920   \n",
       "3          ALQ         216          Unf           0        540          756   \n",
       "4          GLQ         655          Unf           0        490         1145   \n",
       "\n",
       "  Heating HeatingQC CentralAir Electrical  1stFlrSF  2ndFlrSF  LowQualFinSF  \\\n",
       "0    GasA        Ex          Y      SBrkr       856       854             0   \n",
       "1    GasA        Ex          Y      SBrkr      1262         0             0   \n",
       "2    GasA        Ex          Y      SBrkr       920       866             0   \n",
       "3    GasA        Gd          Y      SBrkr       961       756             0   \n",
       "4    GasA        Ex          Y      SBrkr      1145      1053             0   \n",
       "\n",
       "   GrLivArea  BsmtFullBath  BsmtHalfBath  FullBath  HalfBath  BedroomAbvGr  \\\n",
       "0       1710             1             0         2         1             3   \n",
       "1       1262             0             1         2         0             3   \n",
       "2       1786             1             0         2         1             3   \n",
       "3       1717             1             0         1         0             3   \n",
       "4       2198             1             0         2         1             4   \n",
       "\n",
       "   KitchenAbvGr KitchenQual  TotRmsAbvGrd Functional  Fireplaces FireplaceQu  \\\n",
       "0             1          Gd             8        Typ           0         NaN   \n",
       "1             1          TA             6        Typ           1          TA   \n",
       "2             1          Gd             6        Typ           1          TA   \n",
       "3             1          Gd             7        Typ           1          Gd   \n",
       "4             1          Gd             9        Typ           1          TA   \n",
       "\n",
       "  GarageType  GarageYrBlt GarageFinish  GarageCars  GarageArea GarageQual  \\\n",
       "0     Attchd       2003.0          RFn           2         548         TA   \n",
       "1     Attchd       1976.0          RFn           2         460         TA   \n",
       "2     Attchd       2001.0          RFn           2         608         TA   \n",
       "3     Detchd       1998.0          Unf           3         642         TA   \n",
       "4     Attchd       2000.0          RFn           3         836         TA   \n",
       "\n",
       "  GarageCond PavedDrive  WoodDeckSF  OpenPorchSF  EnclosedPorch  3SsnPorch  \\\n",
       "0         TA          Y           0           61              0          0   \n",
       "1         TA          Y         298            0              0          0   \n",
       "2         TA          Y           0           42              0          0   \n",
       "3         TA          Y           0           35            272          0   \n",
       "4         TA          Y         192           84              0          0   \n",
       "\n",
       "   ScreenPorch  PoolArea PoolQC Fence MiscFeature  MiscVal  MoSold  YrSold  \\\n",
       "0            0         0    NaN   NaN         NaN        0       2    2008   \n",
       "1            0         0    NaN   NaN         NaN        0       5    2007   \n",
       "2            0         0    NaN   NaN         NaN        0       9    2008   \n",
       "3            0         0    NaN   NaN         NaN        0       2    2006   \n",
       "4            0         0    NaN   NaN         NaN        0      12    2008   \n",
       "\n",
       "  SaleType SaleCondition  SalePrice  \n",
       "0       WD        Normal     208500  \n",
       "1       WD        Normal     181500  \n",
       "2       WD        Normal     223500  \n",
       "3       WD       Abnorml     140000  \n",
       "4       WD        Normal     250000  "
      ]
     },
     "execution_count": 15,
     "metadata": {},
     "output_type": "execute_result"
    }
   ],
   "source": [
    "train_data.head()"
   ]
  },
  {
   "cell_type": "code",
   "execution_count": 16,
   "metadata": {
    "execution": {
     "iopub.execute_input": "2021-09-08T20:51:10.429961Z",
     "iopub.status.busy": "2021-09-08T20:51:10.429276Z",
     "iopub.status.idle": "2021-09-08T20:51:10.452423Z",
     "shell.execute_reply": "2021-09-08T20:51:10.452959Z",
     "shell.execute_reply.started": "2021-09-08T20:33:04.054739Z"
    },
    "papermill": {
     "duration": 0.10293,
     "end_time": "2021-09-08T20:51:10.453138",
     "exception": false,
     "start_time": "2021-09-08T20:51:10.350208",
     "status": "completed"
    },
    "tags": []
   },
   "outputs": [
    {
     "name": "stdout",
     "output_type": "stream",
     "text": [
      "<class 'pandas.core.frame.DataFrame'>\n",
      "RangeIndex: 1460 entries, 0 to 1459\n",
      "Data columns (total 81 columns):\n",
      " #   Column         Non-Null Count  Dtype  \n",
      "---  ------         --------------  -----  \n",
      " 0   Id             1460 non-null   int64  \n",
      " 1   MSSubClass     1460 non-null   int64  \n",
      " 2   MSZoning       1460 non-null   object \n",
      " 3   LotFrontage    1201 non-null   float64\n",
      " 4   LotArea        1460 non-null   int64  \n",
      " 5   Street         1460 non-null   object \n",
      " 6   Alley          91 non-null     object \n",
      " 7   LotShape       1460 non-null   object \n",
      " 8   LandContour    1460 non-null   object \n",
      " 9   Utilities      1460 non-null   object \n",
      " 10  LotConfig      1460 non-null   object \n",
      " 11  LandSlope      1460 non-null   object \n",
      " 12  Neighborhood   1460 non-null   object \n",
      " 13  Condition1     1460 non-null   object \n",
      " 14  Condition2     1460 non-null   object \n",
      " 15  BldgType       1460 non-null   object \n",
      " 16  HouseStyle     1460 non-null   object \n",
      " 17  OverallQual    1460 non-null   int64  \n",
      " 18  OverallCond    1460 non-null   int64  \n",
      " 19  YearBuilt      1460 non-null   int64  \n",
      " 20  YearRemodAdd   1460 non-null   int64  \n",
      " 21  RoofStyle      1460 non-null   object \n",
      " 22  RoofMatl       1460 non-null   object \n",
      " 23  Exterior1st    1460 non-null   object \n",
      " 24  Exterior2nd    1460 non-null   object \n",
      " 25  MasVnrType     1452 non-null   object \n",
      " 26  MasVnrArea     1452 non-null   float64\n",
      " 27  ExterQual      1460 non-null   object \n",
      " 28  ExterCond      1460 non-null   object \n",
      " 29  Foundation     1460 non-null   object \n",
      " 30  BsmtQual       1423 non-null   object \n",
      " 31  BsmtCond       1423 non-null   object \n",
      " 32  BsmtExposure   1422 non-null   object \n",
      " 33  BsmtFinType1   1423 non-null   object \n",
      " 34  BsmtFinSF1     1460 non-null   int64  \n",
      " 35  BsmtFinType2   1422 non-null   object \n",
      " 36  BsmtFinSF2     1460 non-null   int64  \n",
      " 37  BsmtUnfSF      1460 non-null   int64  \n",
      " 38  TotalBsmtSF    1460 non-null   int64  \n",
      " 39  Heating        1460 non-null   object \n",
      " 40  HeatingQC      1460 non-null   object \n",
      " 41  CentralAir     1460 non-null   object \n",
      " 42  Electrical     1459 non-null   object \n",
      " 43  1stFlrSF       1460 non-null   int64  \n",
      " 44  2ndFlrSF       1460 non-null   int64  \n",
      " 45  LowQualFinSF   1460 non-null   int64  \n",
      " 46  GrLivArea      1460 non-null   int64  \n",
      " 47  BsmtFullBath   1460 non-null   int64  \n",
      " 48  BsmtHalfBath   1460 non-null   int64  \n",
      " 49  FullBath       1460 non-null   int64  \n",
      " 50  HalfBath       1460 non-null   int64  \n",
      " 51  BedroomAbvGr   1460 non-null   int64  \n",
      " 52  KitchenAbvGr   1460 non-null   int64  \n",
      " 53  KitchenQual    1460 non-null   object \n",
      " 54  TotRmsAbvGrd   1460 non-null   int64  \n",
      " 55  Functional     1460 non-null   object \n",
      " 56  Fireplaces     1460 non-null   int64  \n",
      " 57  FireplaceQu    770 non-null    object \n",
      " 58  GarageType     1379 non-null   object \n",
      " 59  GarageYrBlt    1379 non-null   float64\n",
      " 60  GarageFinish   1379 non-null   object \n",
      " 61  GarageCars     1460 non-null   int64  \n",
      " 62  GarageArea     1460 non-null   int64  \n",
      " 63  GarageQual     1379 non-null   object \n",
      " 64  GarageCond     1379 non-null   object \n",
      " 65  PavedDrive     1460 non-null   object \n",
      " 66  WoodDeckSF     1460 non-null   int64  \n",
      " 67  OpenPorchSF    1460 non-null   int64  \n",
      " 68  EnclosedPorch  1460 non-null   int64  \n",
      " 69  3SsnPorch      1460 non-null   int64  \n",
      " 70  ScreenPorch    1460 non-null   int64  \n",
      " 71  PoolArea       1460 non-null   int64  \n",
      " 72  PoolQC         7 non-null      object \n",
      " 73  Fence          281 non-null    object \n",
      " 74  MiscFeature    54 non-null     object \n",
      " 75  MiscVal        1460 non-null   int64  \n",
      " 76  MoSold         1460 non-null   int64  \n",
      " 77  YrSold         1460 non-null   int64  \n",
      " 78  SaleType       1460 non-null   object \n",
      " 79  SaleCondition  1460 non-null   object \n",
      " 80  SalePrice      1460 non-null   int64  \n",
      "dtypes: float64(3), int64(35), object(43)\n",
      "memory usage: 924.0+ KB\n"
     ]
    }
   ],
   "source": [
    "train_data.info()"
   ]
  },
  {
   "cell_type": "markdown",
   "metadata": {
    "papermill": {
     "duration": 0.069273,
     "end_time": "2021-09-08T20:51:10.591598",
     "exception": false,
     "start_time": "2021-09-08T20:51:10.522325",
     "status": "completed"
    },
    "tags": []
   },
   "source": [
    "# Data Cleaning"
   ]
  },
  {
   "cell_type": "code",
   "execution_count": 17,
   "metadata": {
    "execution": {
     "iopub.execute_input": "2021-09-08T20:51:10.740580Z",
     "iopub.status.busy": "2021-09-08T20:51:10.739850Z",
     "iopub.status.idle": "2021-09-08T20:51:10.748931Z",
     "shell.execute_reply": "2021-09-08T20:51:10.748416Z",
     "shell.execute_reply.started": "2021-09-08T20:33:04.094595Z"
    },
    "papermill": {
     "duration": 0.088206,
     "end_time": "2021-09-08T20:51:10.749072",
     "exception": false,
     "start_time": "2021-09-08T20:51:10.660866",
     "status": "completed"
    },
    "tags": []
   },
   "outputs": [
    {
     "data": {
      "text/plain": [
       "Id                  0\n",
       "MSSubClass          0\n",
       "MSZoning            0\n",
       "LotFrontage       259\n",
       "LotArea             0\n",
       "Street              0\n",
       "Alley            1369\n",
       "LotShape            0\n",
       "LandContour         0\n",
       "Utilities           0\n",
       "LotConfig           0\n",
       "LandSlope           0\n",
       "Neighborhood        0\n",
       "Condition1          0\n",
       "Condition2          0\n",
       "BldgType            0\n",
       "HouseStyle          0\n",
       "OverallQual         0\n",
       "OverallCond         0\n",
       "YearBuilt           0\n",
       "YearRemodAdd        0\n",
       "RoofStyle           0\n",
       "RoofMatl            0\n",
       "Exterior1st         0\n",
       "Exterior2nd         0\n",
       "MasVnrType          8\n",
       "MasVnrArea          8\n",
       "ExterQual           0\n",
       "ExterCond           0\n",
       "Foundation          0\n",
       "BsmtQual           37\n",
       "BsmtCond           37\n",
       "BsmtExposure       38\n",
       "BsmtFinType1       37\n",
       "BsmtFinSF1          0\n",
       "BsmtFinType2       38\n",
       "BsmtFinSF2          0\n",
       "BsmtUnfSF           0\n",
       "TotalBsmtSF         0\n",
       "Heating             0\n",
       "HeatingQC           0\n",
       "CentralAir          0\n",
       "Electrical          1\n",
       "1stFlrSF            0\n",
       "2ndFlrSF            0\n",
       "LowQualFinSF        0\n",
       "GrLivArea           0\n",
       "BsmtFullBath        0\n",
       "BsmtHalfBath        0\n",
       "FullBath            0\n",
       "HalfBath            0\n",
       "BedroomAbvGr        0\n",
       "KitchenAbvGr        0\n",
       "KitchenQual         0\n",
       "TotRmsAbvGrd        0\n",
       "Functional          0\n",
       "Fireplaces          0\n",
       "FireplaceQu       690\n",
       "GarageType         81\n",
       "GarageYrBlt        81\n",
       "GarageFinish       81\n",
       "GarageCars          0\n",
       "GarageArea          0\n",
       "GarageQual         81\n",
       "GarageCond         81\n",
       "PavedDrive          0\n",
       "WoodDeckSF          0\n",
       "OpenPorchSF         0\n",
       "EnclosedPorch       0\n",
       "3SsnPorch           0\n",
       "ScreenPorch         0\n",
       "PoolArea            0\n",
       "PoolQC           1453\n",
       "Fence            1179\n",
       "MiscFeature      1406\n",
       "MiscVal             0\n",
       "MoSold              0\n",
       "YrSold              0\n",
       "SaleType            0\n",
       "SaleCondition       0\n",
       "SalePrice           0\n",
       "dtype: int64"
      ]
     },
     "execution_count": 17,
     "metadata": {},
     "output_type": "execute_result"
    }
   ],
   "source": [
    "train_data.isna().sum()"
   ]
  },
  {
   "cell_type": "code",
   "execution_count": 18,
   "metadata": {
    "execution": {
     "iopub.execute_input": "2021-09-08T20:51:10.895916Z",
     "iopub.status.busy": "2021-09-08T20:51:10.894650Z",
     "iopub.status.idle": "2021-09-08T20:51:10.899184Z",
     "shell.execute_reply": "2021-09-08T20:51:10.898674Z",
     "shell.execute_reply.started": "2021-09-08T20:33:04.118555Z"
    },
    "papermill": {
     "duration": 0.07976,
     "end_time": "2021-09-08T20:51:10.899323",
     "exception": false,
     "start_time": "2021-09-08T20:51:10.819563",
     "status": "completed"
    },
    "tags": []
   },
   "outputs": [],
   "source": [
    "#Drop Id column\n",
    "train_data = train_data.drop('Id', axis=1)"
   ]
  },
  {
   "cell_type": "code",
   "execution_count": 19,
   "metadata": {
    "execution": {
     "iopub.execute_input": "2021-09-08T20:51:11.043398Z",
     "iopub.status.busy": "2021-09-08T20:51:11.042449Z",
     "iopub.status.idle": "2021-09-08T20:51:11.045716Z",
     "shell.execute_reply": "2021-09-08T20:51:11.045073Z",
     "shell.execute_reply.started": "2021-09-08T20:33:04.129852Z"
    },
    "papermill": {
     "duration": 0.078114,
     "end_time": "2021-09-08T20:51:11.045855",
     "exception": false,
     "start_time": "2021-09-08T20:51:10.967741",
     "status": "completed"
    },
    "tags": []
   },
   "outputs": [],
   "source": [
    "#Fill LotFrontage with mean values\n",
    "meanLot = train_data['LotFrontage'].mean()\n",
    "train_data['LotFrontage'] = train_data['LotFrontage'].fillna(meanLot)"
   ]
  },
  {
   "cell_type": "code",
   "execution_count": 20,
   "metadata": {
    "execution": {
     "iopub.execute_input": "2021-09-08T20:51:11.190318Z",
     "iopub.status.busy": "2021-09-08T20:51:11.189662Z",
     "iopub.status.idle": "2021-09-08T20:51:11.192585Z",
     "shell.execute_reply": "2021-09-08T20:51:11.193041Z",
     "shell.execute_reply.started": "2021-09-08T20:33:04.149543Z"
    },
    "papermill": {
     "duration": 0.078785,
     "end_time": "2021-09-08T20:51:11.193220",
     "exception": false,
     "start_time": "2021-09-08T20:51:11.114435",
     "status": "completed"
    },
    "tags": []
   },
   "outputs": [],
   "source": [
    "#Fill GarageYrBlt with constant 0 value for houses with no grarage or masonry\n",
    "train_data['GarageYrBlt'] = train_data['GarageYrBlt'].fillna(0)\n",
    "train_data['MasVnrArea'] = train_data['MasVnrArea'].fillna(0)"
   ]
  },
  {
   "cell_type": "code",
   "execution_count": 21,
   "metadata": {
    "execution": {
     "iopub.execute_input": "2021-09-08T20:51:11.337925Z",
     "iopub.status.busy": "2021-09-08T20:51:11.337224Z",
     "iopub.status.idle": "2021-09-08T20:51:11.341239Z",
     "shell.execute_reply": "2021-09-08T20:51:11.340642Z",
     "shell.execute_reply.started": "2021-09-08T20:33:04.162687Z"
    },
    "papermill": {
     "duration": 0.079808,
     "end_time": "2021-09-08T20:51:11.341398",
     "exception": false,
     "start_time": "2021-09-08T20:51:11.261590",
     "status": "completed"
    },
    "tags": []
   },
   "outputs": [],
   "source": [
    "#Change data type of MSSubClass to repersent categorical data\n",
    "train_data['MSSubClass'] = train_data['MSSubClass'].astype(str)"
   ]
  },
  {
   "cell_type": "code",
   "execution_count": 22,
   "metadata": {
    "execution": {
     "iopub.execute_input": "2021-09-08T20:51:11.492237Z",
     "iopub.status.busy": "2021-09-08T20:51:11.491020Z",
     "iopub.status.idle": "2021-09-08T20:51:11.500727Z",
     "shell.execute_reply": "2021-09-08T20:51:11.501190Z",
     "shell.execute_reply.started": "2021-09-08T20:33:04.175681Z"
    },
    "papermill": {
     "duration": 0.08927,
     "end_time": "2021-09-08T20:51:11.501371",
     "exception": false,
     "start_time": "2021-09-08T20:51:11.412101",
     "status": "completed"
    },
    "tags": []
   },
   "outputs": [
    {
     "data": {
      "text/plain": [
       "MSSubClass          0\n",
       "MSZoning            0\n",
       "LotFrontage         0\n",
       "LotArea             0\n",
       "Street              0\n",
       "Alley            1369\n",
       "LotShape            0\n",
       "LandContour         0\n",
       "Utilities           0\n",
       "LotConfig           0\n",
       "LandSlope           0\n",
       "Neighborhood        0\n",
       "Condition1          0\n",
       "Condition2          0\n",
       "BldgType            0\n",
       "HouseStyle          0\n",
       "OverallQual         0\n",
       "OverallCond         0\n",
       "YearBuilt           0\n",
       "YearRemodAdd        0\n",
       "RoofStyle           0\n",
       "RoofMatl            0\n",
       "Exterior1st         0\n",
       "Exterior2nd         0\n",
       "MasVnrType          8\n",
       "MasVnrArea          0\n",
       "ExterQual           0\n",
       "ExterCond           0\n",
       "Foundation          0\n",
       "BsmtQual           37\n",
       "BsmtCond           37\n",
       "BsmtExposure       38\n",
       "BsmtFinType1       37\n",
       "BsmtFinSF1          0\n",
       "BsmtFinType2       38\n",
       "BsmtFinSF2          0\n",
       "BsmtUnfSF           0\n",
       "TotalBsmtSF         0\n",
       "Heating             0\n",
       "HeatingQC           0\n",
       "CentralAir          0\n",
       "Electrical          1\n",
       "1stFlrSF            0\n",
       "2ndFlrSF            0\n",
       "LowQualFinSF        0\n",
       "GrLivArea           0\n",
       "BsmtFullBath        0\n",
       "BsmtHalfBath        0\n",
       "FullBath            0\n",
       "HalfBath            0\n",
       "BedroomAbvGr        0\n",
       "KitchenAbvGr        0\n",
       "KitchenQual         0\n",
       "TotRmsAbvGrd        0\n",
       "Functional          0\n",
       "Fireplaces          0\n",
       "FireplaceQu       690\n",
       "GarageType         81\n",
       "GarageYrBlt         0\n",
       "GarageFinish       81\n",
       "GarageCars          0\n",
       "GarageArea          0\n",
       "GarageQual         81\n",
       "GarageCond         81\n",
       "PavedDrive          0\n",
       "WoodDeckSF          0\n",
       "OpenPorchSF         0\n",
       "EnclosedPorch       0\n",
       "3SsnPorch           0\n",
       "ScreenPorch         0\n",
       "PoolArea            0\n",
       "PoolQC           1453\n",
       "Fence            1179\n",
       "MiscFeature      1406\n",
       "MiscVal             0\n",
       "MoSold              0\n",
       "YrSold              0\n",
       "SaleType            0\n",
       "SaleCondition       0\n",
       "SalePrice           0\n",
       "dtype: int64"
      ]
     },
     "execution_count": 22,
     "metadata": {},
     "output_type": "execute_result"
    }
   ],
   "source": [
    "train_data.isna().sum()"
   ]
  },
  {
   "cell_type": "markdown",
   "metadata": {
    "papermill": {
     "duration": 0.068945,
     "end_time": "2021-09-08T20:51:11.639453",
     "exception": false,
     "start_time": "2021-09-08T20:51:11.570508",
     "status": "completed"
    },
    "tags": []
   },
   "source": [
    "### Fill Missing Values for Categorical Data\n",
    "In some cases, nan actually repersents a category (e.g., for the column Alley, a house may not have access to alley, therefore, nan is a valid category). For the rest of the cateogrical values we can fill missing values with the mode."
   ]
  },
  {
   "cell_type": "code",
   "execution_count": 23,
   "metadata": {
    "execution": {
     "iopub.execute_input": "2021-09-08T20:51:11.783318Z",
     "iopub.status.busy": "2021-09-08T20:51:11.782664Z",
     "iopub.status.idle": "2021-09-08T20:51:11.817468Z",
     "shell.execute_reply": "2021-09-08T20:51:11.816928Z",
     "shell.execute_reply.started": "2021-09-08T20:33:04.203689Z"
    },
    "papermill": {
     "duration": 0.109527,
     "end_time": "2021-09-08T20:51:11.817616",
     "exception": false,
     "start_time": "2021-09-08T20:51:11.708089",
     "status": "completed"
    },
    "tags": []
   },
   "outputs": [
    {
     "data": {
      "text/plain": [
       "Index(['Alley', 'MasVnrType', 'BsmtQual', 'BsmtCond', 'BsmtExposure',\n",
       "       'BsmtFinType1', 'BsmtFinType2', 'Electrical', 'FireplaceQu',\n",
       "       'GarageType', 'GarageFinish', 'GarageQual', 'GarageCond', 'PoolQC',\n",
       "       'Fence', 'MiscFeature'],\n",
       "      dtype='object')"
      ]
     },
     "execution_count": 23,
     "metadata": {},
     "output_type": "execute_result"
    }
   ],
   "source": [
    "train_data.select_dtypes('object').loc[:, train_data.isna().sum() > 0].columns"
   ]
  },
  {
   "cell_type": "code",
   "execution_count": 24,
   "metadata": {
    "execution": {
     "iopub.execute_input": "2021-09-08T20:51:11.960519Z",
     "iopub.status.busy": "2021-09-08T20:51:11.959470Z",
     "iopub.status.idle": "2021-09-08T20:51:11.975937Z",
     "shell.execute_reply": "2021-09-08T20:51:11.976447Z",
     "shell.execute_reply.started": "2021-09-08T20:33:04.238482Z"
    },
    "papermill": {
     "duration": 0.089769,
     "end_time": "2021-09-08T20:51:11.976645",
     "exception": false,
     "start_time": "2021-09-08T20:51:11.886876",
     "status": "completed"
    },
    "tags": []
   },
   "outputs": [],
   "source": [
    "#Fill missing values with constant\n",
    "for column in ['Alley', \n",
    "               'BsmtQual', \n",
    "               'BsmtCond',\n",
    "               'BsmtExposure', \n",
    "               'BsmtFinType1', \n",
    "               'BsmtFinType2',\n",
    "               'FireplaceQu', \n",
    "               'GarageType', \n",
    "               'GarageFinish',\n",
    "               'GarageQual', \n",
    "               'GarageCond',\n",
    "               'PoolQC', \n",
    "               'Fence'\n",
    "              ]:\n",
    "    train_data[column] = train_data[column].fillna('none')\n",
    "#Fill missing values with mode\n",
    "for column in ['MasVnrType', \n",
    "               'Electrical', \n",
    "               'MiscFeature']:\n",
    "    mode = train_data[column].mode()\n",
    "    train_data[column] = train_data[column].fillna(mode[0])"
   ]
  },
  {
   "cell_type": "code",
   "execution_count": 25,
   "metadata": {
    "execution": {
     "iopub.execute_input": "2021-09-08T20:51:12.120287Z",
     "iopub.status.busy": "2021-09-08T20:51:12.119283Z",
     "iopub.status.idle": "2021-09-08T20:51:12.133853Z",
     "shell.execute_reply": "2021-09-08T20:51:12.134350Z",
     "shell.execute_reply.started": "2021-09-08T20:33:04.259663Z"
    },
    "papermill": {
     "duration": 0.08752,
     "end_time": "2021-09-08T20:51:12.134538",
     "exception": false,
     "start_time": "2021-09-08T20:51:12.047018",
     "status": "completed"
    },
    "tags": []
   },
   "outputs": [
    {
     "data": {
      "text/plain": [
       "0"
      ]
     },
     "execution_count": 25,
     "metadata": {},
     "output_type": "execute_result"
    }
   ],
   "source": [
    "train_data.isna().sum().sum()"
   ]
  },
  {
   "cell_type": "markdown",
   "metadata": {
    "papermill": {
     "duration": 0.068588,
     "end_time": "2021-09-08T20:51:12.272165",
     "exception": false,
     "start_time": "2021-09-08T20:51:12.203577",
     "status": "completed"
    },
    "tags": []
   },
   "source": [
    "# Exploratory Data Analysis"
   ]
  },
  {
   "cell_type": "markdown",
   "metadata": {
    "papermill": {
     "duration": 0.068498,
     "end_time": "2021-09-08T20:51:12.409976",
     "exception": false,
     "start_time": "2021-09-08T20:51:12.341478",
     "status": "completed"
    },
    "tags": []
   },
   "source": [
    "## Exploring Numeric Features"
   ]
  },
  {
   "cell_type": "code",
   "execution_count": 26,
   "metadata": {
    "execution": {
     "iopub.execute_input": "2021-09-08T20:51:12.552928Z",
     "iopub.status.busy": "2021-09-08T20:51:12.551794Z",
     "iopub.status.idle": "2021-09-08T20:51:12.564843Z",
     "shell.execute_reply": "2021-09-08T20:51:12.565310Z",
     "shell.execute_reply.started": "2021-09-08T20:33:04.289283Z"
    },
    "papermill": {
     "duration": 0.086287,
     "end_time": "2021-09-08T20:51:12.565500",
     "exception": false,
     "start_time": "2021-09-08T20:51:12.479213",
     "status": "completed"
    },
    "tags": []
   },
   "outputs": [],
   "source": [
    "numeric_corr = train_data.corr()\n",
    "corr_pairs = numeric_corr.unstack()"
   ]
  },
  {
   "cell_type": "code",
   "execution_count": 27,
   "metadata": {
    "execution": {
     "iopub.execute_input": "2021-09-08T20:51:12.711161Z",
     "iopub.status.busy": "2021-09-08T20:51:12.710118Z",
     "iopub.status.idle": "2021-09-08T20:51:12.721114Z",
     "shell.execute_reply": "2021-09-08T20:51:12.721615Z",
     "shell.execute_reply.started": "2021-09-08T20:33:04.307576Z"
    },
    "papermill": {
     "duration": 0.084896,
     "end_time": "2021-09-08T20:51:12.721783",
     "exception": false,
     "start_time": "2021-09-08T20:51:12.636887",
     "status": "completed"
    },
    "tags": []
   },
   "outputs": [
    {
     "data": {
      "text/plain": [
       "SalePrice       1.000000\n",
       "OverallQual     0.790982\n",
       "GrLivArea       0.708624\n",
       "GarageCars      0.640409\n",
       "GarageArea      0.623431\n",
       "TotalBsmtSF     0.613581\n",
       "1stFlrSF        0.605852\n",
       "FullBath        0.560664\n",
       "TotRmsAbvGrd    0.533723\n",
       "YearBuilt       0.522897\n",
       "YearRemodAdd    0.507101\n",
       "dtype: float64"
      ]
     },
     "execution_count": 27,
     "metadata": {},
     "output_type": "execute_result"
    }
   ],
   "source": [
    "#Find the numeric features which have the highest correlation with Sale Price\n",
    "sorted_corr = corr_pairs['SalePrice'].sort_values(ascending=False).apply(abs)\n",
    "highNumeric = sorted_corr[sorted_corr > 0.5]\n",
    "highNumeric"
   ]
  },
  {
   "cell_type": "code",
   "execution_count": 28,
   "metadata": {
    "execution": {
     "iopub.execute_input": "2021-09-08T20:51:12.865337Z",
     "iopub.status.busy": "2021-09-08T20:51:12.864364Z",
     "iopub.status.idle": "2021-09-08T20:51:13.270478Z",
     "shell.execute_reply": "2021-09-08T20:51:13.270986Z",
     "shell.execute_reply.started": "2021-09-08T20:33:04.320264Z"
    },
    "papermill": {
     "duration": 0.479265,
     "end_time": "2021-09-08T20:51:13.271168",
     "exception": false,
     "start_time": "2021-09-08T20:51:12.791903",
     "status": "completed"
    },
    "tags": []
   },
   "outputs": [
    {
     "data": {
      "image/png": "[encoded data removed]",
      "text/plain": [
       "<Figure size 432x288 with 1 Axes>"
      ]
     },
     "metadata": {
      "needs_background": "light"
     },
     "output_type": "display_data"
    }
   ],
   "source": [
    "sns.regplot(x='OverallQual', y='SalePrice', data=train_data, scatter_kws={'color':'blue'}, line_kws={'color':'red'})\n",
    "plt.title('Overall Quality of Materials vs Sale Price')\n",
    "plt.xlabel('Overall Quality of Materials')\n",
    "plt.ylabel('Sale Price')\n",
    "plt.show()"
   ]
  },
  {
   "cell_type": "code",
   "execution_count": 29,
   "metadata": {
    "execution": {
     "iopub.execute_input": "2021-09-08T20:51:13.418233Z",
     "iopub.status.busy": "2021-09-08T20:51:13.417257Z",
     "iopub.status.idle": "2021-09-08T20:51:13.773445Z",
     "shell.execute_reply": "2021-09-08T20:51:13.772828Z",
     "shell.execute_reply.started": "2021-09-08T20:33:04.733438Z"
    },
    "papermill": {
     "duration": 0.431497,
     "end_time": "2021-09-08T20:51:13.773586",
     "exception": false,
     "start_time": "2021-09-08T20:51:13.342089",
     "status": "completed"
    },
    "tags": []
   },
   "outputs": [
    {
     "data": {
      "image/png": "[encoded data removed]",
      "text/plain": [
       "<Figure size 432x288 with 1 Axes>"
      ]
     },
     "metadata": {
      "needs_background": "light"
     },
     "output_type": "display_data"
    }
   ],
   "source": [
    "sns.regplot(x='GrLivArea', y='SalePrice', data=train_data, scatter_kws={'color':'blue'}, line_kws={'color':'red'})\n",
    "plt.title('Above grade (ground) Living Area  vs Sale Price')\n",
    "plt.xlabel('Above grade (ground) Living Area (sqft)')\n",
    "plt.ylabel('Sale Price')\n",
    "plt.show()"
   ]
  },
  {
   "cell_type": "code",
   "execution_count": 30,
   "metadata": {
    "execution": {
     "iopub.execute_input": "2021-09-08T20:51:13.926340Z",
     "iopub.status.busy": "2021-09-08T20:51:13.925613Z",
     "iopub.status.idle": "2021-09-08T20:51:14.291243Z",
     "shell.execute_reply": "2021-09-08T20:51:14.291751Z",
     "shell.execute_reply.started": "2021-09-08T20:33:05.104419Z"
    },
    "papermill": {
     "duration": 0.445167,
     "end_time": "2021-09-08T20:51:14.291930",
     "exception": false,
     "start_time": "2021-09-08T20:51:13.846763",
     "status": "completed"
    },
    "tags": []
   },
   "outputs": [
    {
     "data": {
      "image/png": "[encoded data removed]",
      "text/plain": [
       "<Figure size 432x288 with 1 Axes>"
      ]
     },
     "metadata": {
      "needs_background": "light"
     },
     "output_type": "display_data"
    }
   ],
   "source": [
    "sns.regplot(x='GarageCars', y='SalePrice', data=train_data, scatter_kws={'color':'blue'}, line_kws={'color':'red'})\n",
    "plt.title('Size of Garage vs Sale Price')\n",
    "plt.xlabel('Size of Garage (car capacity)')\n",
    "plt.ylabel('Sale Price')\n",
    "plt.show()"
   ]
  },
  {
   "cell_type": "code",
   "execution_count": 31,
   "metadata": {
    "execution": {
     "iopub.execute_input": "2021-09-08T20:51:14.445628Z",
     "iopub.status.busy": "2021-09-08T20:51:14.444924Z",
     "iopub.status.idle": "2021-09-08T20:51:14.809214Z",
     "shell.execute_reply": "2021-09-08T20:51:14.808555Z",
     "shell.execute_reply.started": "2021-09-08T20:33:05.487316Z"
    },
    "papermill": {
     "duration": 0.443936,
     "end_time": "2021-09-08T20:51:14.809352",
     "exception": false,
     "start_time": "2021-09-08T20:51:14.365416",
     "status": "completed"
    },
    "tags": []
   },
   "outputs": [
    {
     "data": {
      "image/png": "[encoded data removed]",
      "text/plain": [
       "<Figure size 432x288 with 1 Axes>"
      ]
     },
     "metadata": {
      "needs_background": "light"
     },
     "output_type": "display_data"
    }
   ],
   "source": [
    "sns.regplot(x='GarageArea', y='SalePrice', data=train_data, scatter_kws={'color':'blue'}, line_kws={'color':'red'})\n",
    "plt.title('Garage Area vs Sale Price')\n",
    "plt.xlabel('Garage Area (sqft)')\n",
    "plt.ylabel('Sale Price')\n",
    "plt.show()"
   ]
  },
  {
   "cell_type": "code",
   "execution_count": 32,
   "metadata": {
    "execution": {
     "iopub.execute_input": "2021-09-08T20:51:15.100432Z",
     "iopub.status.busy": "2021-09-08T20:51:15.096234Z",
     "iopub.status.idle": "2021-09-08T20:51:15.444371Z",
     "shell.execute_reply": "2021-09-08T20:51:15.443736Z",
     "shell.execute_reply.started": "2021-09-08T20:33:05.865869Z"
    },
    "papermill": {
     "duration": 0.559923,
     "end_time": "2021-09-08T20:51:15.444545",
     "exception": false,
     "start_time": "2021-09-08T20:51:14.884622",
     "status": "completed"
    },
    "tags": []
   },
   "outputs": [
    {
     "data": {
      "image/png": "[encoded data removed]",
      "text/plain": [
       "<Figure size 432x288 with 1 Axes>"
      ]
     },
     "metadata": {
      "needs_background": "light"
     },
     "output_type": "display_data"
    }
   ],
   "source": [
    "sns.regplot(x='TotalBsmtSF', y='SalePrice', data=train_data, scatter_kws={'color':'blue'}, line_kws={'color':'red'})\n",
    "plt.title('Basement Area vs Sale Price')\n",
    "plt.xlabel('Basment Area (sqft)')\n",
    "plt.ylabel('Sale Price')\n",
    "plt.show()"
   ]
  },
  {
   "cell_type": "markdown",
   "metadata": {
    "papermill": {
     "duration": 0.075832,
     "end_time": "2021-09-08T20:51:15.596711",
     "exception": false,
     "start_time": "2021-09-08T20:51:15.520879",
     "status": "completed"
    },
    "tags": []
   },
   "source": [
    "## Exploring Categorical Features"
   ]
  },
  {
   "cell_type": "code",
   "execution_count": 33,
   "metadata": {
    "execution": {
     "iopub.execute_input": "2021-09-08T20:51:15.793575Z",
     "iopub.status.busy": "2021-09-08T20:51:15.752312Z",
     "iopub.status.idle": "2021-09-08T20:51:15.801033Z",
     "shell.execute_reply": "2021-09-08T20:51:15.800524Z",
     "shell.execute_reply.started": "2021-09-08T20:33:06.372409Z"
    },
    "papermill": {
     "duration": 0.128497,
     "end_time": "2021-09-08T20:51:15.801190",
     "exception": false,
     "start_time": "2021-09-08T20:51:15.672693",
     "status": "completed"
    },
    "tags": []
   },
   "outputs": [
    {
     "data": {
      "text/html": [
       "<div>\n",
       "<style scoped>\n",
       "    .dataframe tbody tr th:only-of-type {\n",
       "        vertical-align: middle;\n",
       "    }\n",
       "\n",
       "    .dataframe tbody tr th {\n",
       "        vertical-align: top;\n",
       "    }\n",
       "\n",
       "    .dataframe thead th {\n",
       "        text-align: right;\n",
       "    }\n",
       "</style>\n",
       "<table border=\"1\" class=\"dataframe\">\n",
       "  <thead>\n",
       "    <tr style=\"text-align: right;\">\n",
       "      <th></th>\n",
       "      <th>MSSubClass</th>\n",
       "      <th>MSZoning</th>\n",
       "      <th>Street</th>\n",
       "      <th>Alley</th>\n",
       "      <th>LotShape</th>\n",
       "      <th>LandContour</th>\n",
       "      <th>Utilities</th>\n",
       "      <th>LotConfig</th>\n",
       "      <th>LandSlope</th>\n",
       "      <th>Neighborhood</th>\n",
       "      <th>Condition1</th>\n",
       "      <th>Condition2</th>\n",
       "      <th>BldgType</th>\n",
       "      <th>HouseStyle</th>\n",
       "      <th>RoofStyle</th>\n",
       "      <th>RoofMatl</th>\n",
       "      <th>Exterior1st</th>\n",
       "      <th>Exterior2nd</th>\n",
       "      <th>MasVnrType</th>\n",
       "      <th>ExterQual</th>\n",
       "      <th>ExterCond</th>\n",
       "      <th>Foundation</th>\n",
       "      <th>BsmtQual</th>\n",
       "      <th>BsmtCond</th>\n",
       "      <th>BsmtExposure</th>\n",
       "      <th>BsmtFinType1</th>\n",
       "      <th>BsmtFinType2</th>\n",
       "      <th>Heating</th>\n",
       "      <th>HeatingQC</th>\n",
       "      <th>CentralAir</th>\n",
       "      <th>Electrical</th>\n",
       "      <th>KitchenQual</th>\n",
       "      <th>Functional</th>\n",
       "      <th>FireplaceQu</th>\n",
       "      <th>GarageType</th>\n",
       "      <th>GarageFinish</th>\n",
       "      <th>GarageQual</th>\n",
       "      <th>GarageCond</th>\n",
       "      <th>PavedDrive</th>\n",
       "      <th>PoolQC</th>\n",
       "      <th>Fence</th>\n",
       "      <th>MiscFeature</th>\n",
       "      <th>SaleType</th>\n",
       "      <th>SaleCondition</th>\n",
       "    </tr>\n",
       "  </thead>\n",
       "  <tbody>\n",
       "    <tr>\n",
       "      <th>0</th>\n",
       "      <td>60</td>\n",
       "      <td>RL</td>\n",
       "      <td>Pave</td>\n",
       "      <td>none</td>\n",
       "      <td>Reg</td>\n",
       "      <td>Lvl</td>\n",
       "      <td>AllPub</td>\n",
       "      <td>Inside</td>\n",
       "      <td>Gtl</td>\n",
       "      <td>CollgCr</td>\n",
       "      <td>Norm</td>\n",
       "      <td>Norm</td>\n",
       "      <td>1Fam</td>\n",
       "      <td>2Story</td>\n",
       "      <td>Gable</td>\n",
       "      <td>CompShg</td>\n",
       "      <td>VinylSd</td>\n",
       "      <td>VinylSd</td>\n",
       "      <td>BrkFace</td>\n",
       "      <td>Gd</td>\n",
       "      <td>TA</td>\n",
       "      <td>PConc</td>\n",
       "      <td>Gd</td>\n",
       "      <td>TA</td>\n",
       "      <td>No</td>\n",
       "      <td>GLQ</td>\n",
       "      <td>Unf</td>\n",
       "      <td>GasA</td>\n",
       "      <td>Ex</td>\n",
       "      <td>Y</td>\n",
       "      <td>SBrkr</td>\n",
       "      <td>Gd</td>\n",
       "      <td>Typ</td>\n",
       "      <td>none</td>\n",
       "      <td>Attchd</td>\n",
       "      <td>RFn</td>\n",
       "      <td>TA</td>\n",
       "      <td>TA</td>\n",
       "      <td>Y</td>\n",
       "      <td>none</td>\n",
       "      <td>none</td>\n",
       "      <td>Shed</td>\n",
       "      <td>WD</td>\n",
       "      <td>Normal</td>\n",
       "    </tr>\n",
       "    <tr>\n",
       "      <th>1</th>\n",
       "      <td>20</td>\n",
       "      <td>RL</td>\n",
       "      <td>Pave</td>\n",
       "      <td>none</td>\n",
       "      <td>Reg</td>\n",
       "      <td>Lvl</td>\n",
       "      <td>AllPub</td>\n",
       "      <td>FR2</td>\n",
       "      <td>Gtl</td>\n",
       "      <td>Veenker</td>\n",
       "      <td>Feedr</td>\n",
       "      <td>Norm</td>\n",
       "      <td>1Fam</td>\n",
       "      <td>1Story</td>\n",
       "      <td>Gable</td>\n",
       "      <td>CompShg</td>\n",
       "      <td>MetalSd</td>\n",
       "      <td>MetalSd</td>\n",
       "      <td>None</td>\n",
       "      <td>TA</td>\n",
       "      <td>TA</td>\n",
       "      <td>CBlock</td>\n",
       "      <td>Gd</td>\n",
       "      <td>TA</td>\n",
       "      <td>Gd</td>\n",
       "      <td>ALQ</td>\n",
       "      <td>Unf</td>\n",
       "      <td>GasA</td>\n",
       "      <td>Ex</td>\n",
       "      <td>Y</td>\n",
       "      <td>SBrkr</td>\n",
       "      <td>TA</td>\n",
       "      <td>Typ</td>\n",
       "      <td>TA</td>\n",
       "      <td>Attchd</td>\n",
       "      <td>RFn</td>\n",
       "      <td>TA</td>\n",
       "      <td>TA</td>\n",
       "      <td>Y</td>\n",
       "      <td>none</td>\n",
       "      <td>none</td>\n",
       "      <td>Shed</td>\n",
       "      <td>WD</td>\n",
       "      <td>Normal</td>\n",
       "    </tr>\n",
       "    <tr>\n",
       "      <th>2</th>\n",
       "      <td>60</td>\n",
       "      <td>RL</td>\n",
       "      <td>Pave</td>\n",
       "      <td>none</td>\n",
       "      <td>IR1</td>\n",
       "      <td>Lvl</td>\n",
       "      <td>AllPub</td>\n",
       "      <td>Inside</td>\n",
       "      <td>Gtl</td>\n",
       "      <td>CollgCr</td>\n",
       "      <td>Norm</td>\n",
       "      <td>Norm</td>\n",
       "      <td>1Fam</td>\n",
       "      <td>2Story</td>\n",
       "      <td>Gable</td>\n",
       "      <td>CompShg</td>\n",
       "      <td>VinylSd</td>\n",
       "      <td>VinylSd</td>\n",
       "      <td>BrkFace</td>\n",
       "      <td>Gd</td>\n",
       "      <td>TA</td>\n",
       "      <td>PConc</td>\n",
       "      <td>Gd</td>\n",
       "      <td>TA</td>\n",
       "      <td>Mn</td>\n",
       "      <td>GLQ</td>\n",
       "      <td>Unf</td>\n",
       "      <td>GasA</td>\n",
       "      <td>Ex</td>\n",
       "      <td>Y</td>\n",
       "      <td>SBrkr</td>\n",
       "      <td>Gd</td>\n",
       "      <td>Typ</td>\n",
       "      <td>TA</td>\n",
       "      <td>Attchd</td>\n",
       "      <td>RFn</td>\n",
       "      <td>TA</td>\n",
       "      <td>TA</td>\n",
       "      <td>Y</td>\n",
       "      <td>none</td>\n",
       "      <td>none</td>\n",
       "      <td>Shed</td>\n",
       "      <td>WD</td>\n",
       "      <td>Normal</td>\n",
       "    </tr>\n",
       "    <tr>\n",
       "      <th>3</th>\n",
       "      <td>70</td>\n",
       "      <td>RL</td>\n",
       "      <td>Pave</td>\n",
       "      <td>none</td>\n",
       "      <td>IR1</td>\n",
       "      <td>Lvl</td>\n",
       "      <td>AllPub</td>\n",
       "      <td>Corner</td>\n",
       "      <td>Gtl</td>\n",
       "      <td>Crawfor</td>\n",
       "      <td>Norm</td>\n",
       "      <td>Norm</td>\n",
       "      <td>1Fam</td>\n",
       "      <td>2Story</td>\n",
       "      <td>Gable</td>\n",
       "      <td>CompShg</td>\n",
       "      <td>Wd Sdng</td>\n",
       "      <td>Wd Shng</td>\n",
       "      <td>None</td>\n",
       "      <td>TA</td>\n",
       "      <td>TA</td>\n",
       "      <td>BrkTil</td>\n",
       "      <td>TA</td>\n",
       "      <td>Gd</td>\n",
       "      <td>No</td>\n",
       "      <td>ALQ</td>\n",
       "      <td>Unf</td>\n",
       "      <td>GasA</td>\n",
       "      <td>Gd</td>\n",
       "      <td>Y</td>\n",
       "      <td>SBrkr</td>\n",
       "      <td>Gd</td>\n",
       "      <td>Typ</td>\n",
       "      <td>Gd</td>\n",
       "      <td>Detchd</td>\n",
       "      <td>Unf</td>\n",
       "      <td>TA</td>\n",
       "      <td>TA</td>\n",
       "      <td>Y</td>\n",
       "      <td>none</td>\n",
       "      <td>none</td>\n",
       "      <td>Shed</td>\n",
       "      <td>WD</td>\n",
       "      <td>Abnorml</td>\n",
       "    </tr>\n",
       "    <tr>\n",
       "      <th>4</th>\n",
       "      <td>60</td>\n",
       "      <td>RL</td>\n",
       "      <td>Pave</td>\n",
       "      <td>none</td>\n",
       "      <td>IR1</td>\n",
       "      <td>Lvl</td>\n",
       "      <td>AllPub</td>\n",
       "      <td>FR2</td>\n",
       "      <td>Gtl</td>\n",
       "      <td>NoRidge</td>\n",
       "      <td>Norm</td>\n",
       "      <td>Norm</td>\n",
       "      <td>1Fam</td>\n",
       "      <td>2Story</td>\n",
       "      <td>Gable</td>\n",
       "      <td>CompShg</td>\n",
       "      <td>VinylSd</td>\n",
       "      <td>VinylSd</td>\n",
       "      <td>BrkFace</td>\n",
       "      <td>Gd</td>\n",
       "      <td>TA</td>\n",
       "      <td>PConc</td>\n",
       "      <td>Gd</td>\n",
       "      <td>TA</td>\n",
       "      <td>Av</td>\n",
       "      <td>GLQ</td>\n",
       "      <td>Unf</td>\n",
       "      <td>GasA</td>\n",
       "      <td>Ex</td>\n",
       "      <td>Y</td>\n",
       "      <td>SBrkr</td>\n",
       "      <td>Gd</td>\n",
       "      <td>Typ</td>\n",
       "      <td>TA</td>\n",
       "      <td>Attchd</td>\n",
       "      <td>RFn</td>\n",
       "      <td>TA</td>\n",
       "      <td>TA</td>\n",
       "      <td>Y</td>\n",
       "      <td>none</td>\n",
       "      <td>none</td>\n",
       "      <td>Shed</td>\n",
       "      <td>WD</td>\n",
       "      <td>Normal</td>\n",
       "    </tr>\n",
       "  </tbody>\n",
       "</table>\n",
       "</div>"
      ],
      "text/plain": [
       "  MSSubClass MSZoning Street Alley LotShape LandContour Utilities LotConfig  \\\n",
       "0         60       RL   Pave  none      Reg         Lvl    AllPub    Inside   \n",
       "1         20       RL   Pave  none      Reg         Lvl    AllPub       FR2   \n",
       "2         60       RL   Pave  none      IR1         Lvl    AllPub    Inside   \n",
       "3         70       RL   Pave  none      IR1         Lvl    AllPub    Corner   \n",
       "4         60       RL   Pave  none      IR1         Lvl    AllPub       FR2   \n",
       "\n",
       "  LandSlope Neighborhood Condition1 Condition2 BldgType HouseStyle RoofStyle  \\\n",
       "0       Gtl      CollgCr       Norm       Norm     1Fam     2Story     Gable   \n",
       "1       Gtl      Veenker      Feedr       Norm     1Fam     1Story     Gable   \n",
       "2       Gtl      CollgCr       Norm       Norm     1Fam     2Story     Gable   \n",
       "3       Gtl      Crawfor       Norm       Norm     1Fam     2Story     Gable   \n",
       "4       Gtl      NoRidge       Norm       Norm     1Fam     2Story     Gable   \n",
       "\n",
       "  RoofMatl Exterior1st Exterior2nd MasVnrType ExterQual ExterCond Foundation  \\\n",
       "0  CompShg     VinylSd     VinylSd    BrkFace        Gd        TA      PConc   \n",
       "1  CompShg     MetalSd     MetalSd       None        TA        TA     CBlock   \n",
       "2  CompShg     VinylSd     VinylSd    BrkFace        Gd        TA      PConc   \n",
       "3  CompShg     Wd Sdng     Wd Shng       None        TA        TA     BrkTil   \n",
       "4  CompShg     VinylSd     VinylSd    BrkFace        Gd        TA      PConc   \n",
       "\n",
       "  BsmtQual BsmtCond BsmtExposure BsmtFinType1 BsmtFinType2 Heating HeatingQC  \\\n",
       "0       Gd       TA           No          GLQ          Unf    GasA        Ex   \n",
       "1       Gd       TA           Gd          ALQ          Unf    GasA        Ex   \n",
       "2       Gd       TA           Mn          GLQ          Unf    GasA        Ex   \n",
       "3       TA       Gd           No          ALQ          Unf    GasA        Gd   \n",
       "4       Gd       TA           Av          GLQ          Unf    GasA        Ex   \n",
       "\n",
       "  CentralAir Electrical KitchenQual Functional FireplaceQu GarageType  \\\n",
       "0          Y      SBrkr          Gd        Typ        none     Attchd   \n",
       "1          Y      SBrkr          TA        Typ          TA     Attchd   \n",
       "2          Y      SBrkr          Gd        Typ          TA     Attchd   \n",
       "3          Y      SBrkr          Gd        Typ          Gd     Detchd   \n",
       "4          Y      SBrkr          Gd        Typ          TA     Attchd   \n",
       "\n",
       "  GarageFinish GarageQual GarageCond PavedDrive PoolQC Fence MiscFeature  \\\n",
       "0          RFn         TA         TA          Y   none  none        Shed   \n",
       "1          RFn         TA         TA          Y   none  none        Shed   \n",
       "2          RFn         TA         TA          Y   none  none        Shed   \n",
       "3          Unf         TA         TA          Y   none  none        Shed   \n",
       "4          RFn         TA         TA          Y   none  none        Shed   \n",
       "\n",
       "  SaleType SaleCondition  \n",
       "0       WD        Normal  \n",
       "1       WD        Normal  \n",
       "2       WD        Normal  \n",
       "3       WD       Abnorml  \n",
       "4       WD        Normal  "
      ]
     },
     "execution_count": 33,
     "metadata": {},
     "output_type": "execute_result"
    }
   ],
   "source": [
    "df_cat = train_data.copy()\n",
    "df_cat = df_cat.select_dtypes('object')\n",
    "df_cat.head()"
   ]
  },
  {
   "cell_type": "code",
   "execution_count": 34,
   "metadata": {
    "execution": {
     "iopub.execute_input": "2021-09-08T20:51:15.962881Z",
     "iopub.status.busy": "2021-09-08T20:51:15.962186Z",
     "iopub.status.idle": "2021-09-08T20:51:16.015824Z",
     "shell.execute_reply": "2021-09-08T20:51:16.016371Z",
     "shell.execute_reply.started": "2021-09-08T20:33:06.422141Z"
    },
    "papermill": {
     "duration": 0.137774,
     "end_time": "2021-09-08T20:51:16.016571",
     "exception": false,
     "start_time": "2021-09-08T20:51:15.878797",
     "status": "completed"
    },
    "tags": []
   },
   "outputs": [],
   "source": [
    "for column in df_cat.columns:\n",
    "    df_cat[column] = df_cat[column].astype('category').cat.codes"
   ]
  },
  {
   "cell_type": "code",
   "execution_count": 35,
   "metadata": {
    "execution": {
     "iopub.execute_input": "2021-09-08T20:51:16.172503Z",
     "iopub.status.busy": "2021-09-08T20:51:16.171819Z",
     "iopub.status.idle": "2021-09-08T20:51:16.202896Z",
     "shell.execute_reply": "2021-09-08T20:51:16.203465Z",
     "shell.execute_reply.started": "2021-09-08T20:33:06.483343Z"
    },
    "papermill": {
     "duration": 0.110812,
     "end_time": "2021-09-08T20:51:16.203638",
     "exception": false,
     "start_time": "2021-09-08T20:51:16.092826",
     "status": "completed"
    },
    "tags": []
   },
   "outputs": [
    {
     "data": {
      "text/html": [
       "<div>\n",
       "<style scoped>\n",
       "    .dataframe tbody tr th:only-of-type {\n",
       "        vertical-align: middle;\n",
       "    }\n",
       "\n",
       "    .dataframe tbody tr th {\n",
       "        vertical-align: top;\n",
       "    }\n",
       "\n",
       "    .dataframe thead th {\n",
       "        text-align: right;\n",
       "    }\n",
       "</style>\n",
       "<table border=\"1\" class=\"dataframe\">\n",
       "  <thead>\n",
       "    <tr style=\"text-align: right;\">\n",
       "      <th></th>\n",
       "      <th>MSSubClass</th>\n",
       "      <th>MSZoning</th>\n",
       "      <th>Street</th>\n",
       "      <th>Alley</th>\n",
       "      <th>LotShape</th>\n",
       "      <th>LandContour</th>\n",
       "      <th>Utilities</th>\n",
       "      <th>LotConfig</th>\n",
       "      <th>LandSlope</th>\n",
       "      <th>Neighborhood</th>\n",
       "      <th>Condition1</th>\n",
       "      <th>Condition2</th>\n",
       "      <th>BldgType</th>\n",
       "      <th>HouseStyle</th>\n",
       "      <th>RoofStyle</th>\n",
       "      <th>RoofMatl</th>\n",
       "      <th>Exterior1st</th>\n",
       "      <th>Exterior2nd</th>\n",
       "      <th>MasVnrType</th>\n",
       "      <th>ExterQual</th>\n",
       "      <th>ExterCond</th>\n",
       "      <th>Foundation</th>\n",
       "      <th>BsmtQual</th>\n",
       "      <th>BsmtCond</th>\n",
       "      <th>BsmtExposure</th>\n",
       "      <th>BsmtFinType1</th>\n",
       "      <th>BsmtFinType2</th>\n",
       "      <th>Heating</th>\n",
       "      <th>HeatingQC</th>\n",
       "      <th>CentralAir</th>\n",
       "      <th>Electrical</th>\n",
       "      <th>KitchenQual</th>\n",
       "      <th>Functional</th>\n",
       "      <th>FireplaceQu</th>\n",
       "      <th>GarageType</th>\n",
       "      <th>GarageFinish</th>\n",
       "      <th>GarageQual</th>\n",
       "      <th>GarageCond</th>\n",
       "      <th>PavedDrive</th>\n",
       "      <th>PoolQC</th>\n",
       "      <th>Fence</th>\n",
       "      <th>MiscFeature</th>\n",
       "      <th>SaleType</th>\n",
       "      <th>SaleCondition</th>\n",
       "      <th>SalePrice</th>\n",
       "    </tr>\n",
       "  </thead>\n",
       "  <tbody>\n",
       "    <tr>\n",
       "      <th>0</th>\n",
       "      <td>9</td>\n",
       "      <td>3</td>\n",
       "      <td>1</td>\n",
       "      <td>2</td>\n",
       "      <td>3</td>\n",
       "      <td>3</td>\n",
       "      <td>0</td>\n",
       "      <td>4</td>\n",
       "      <td>0</td>\n",
       "      <td>5</td>\n",
       "      <td>2</td>\n",
       "      <td>2</td>\n",
       "      <td>0</td>\n",
       "      <td>5</td>\n",
       "      <td>1</td>\n",
       "      <td>1</td>\n",
       "      <td>12</td>\n",
       "      <td>13</td>\n",
       "      <td>1</td>\n",
       "      <td>2</td>\n",
       "      <td>4</td>\n",
       "      <td>2</td>\n",
       "      <td>2</td>\n",
       "      <td>3</td>\n",
       "      <td>3</td>\n",
       "      <td>2</td>\n",
       "      <td>5</td>\n",
       "      <td>1</td>\n",
       "      <td>0</td>\n",
       "      <td>1</td>\n",
       "      <td>4</td>\n",
       "      <td>2</td>\n",
       "      <td>6</td>\n",
       "      <td>5</td>\n",
       "      <td>1</td>\n",
       "      <td>1</td>\n",
       "      <td>4</td>\n",
       "      <td>4</td>\n",
       "      <td>2</td>\n",
       "      <td>3</td>\n",
       "      <td>4</td>\n",
       "      <td>2</td>\n",
       "      <td>8</td>\n",
       "      <td>4</td>\n",
       "      <td>208500</td>\n",
       "    </tr>\n",
       "    <tr>\n",
       "      <th>1</th>\n",
       "      <td>4</td>\n",
       "      <td>3</td>\n",
       "      <td>1</td>\n",
       "      <td>2</td>\n",
       "      <td>3</td>\n",
       "      <td>3</td>\n",
       "      <td>0</td>\n",
       "      <td>2</td>\n",
       "      <td>0</td>\n",
       "      <td>24</td>\n",
       "      <td>1</td>\n",
       "      <td>2</td>\n",
       "      <td>0</td>\n",
       "      <td>2</td>\n",
       "      <td>1</td>\n",
       "      <td>1</td>\n",
       "      <td>8</td>\n",
       "      <td>8</td>\n",
       "      <td>2</td>\n",
       "      <td>3</td>\n",
       "      <td>4</td>\n",
       "      <td>1</td>\n",
       "      <td>2</td>\n",
       "      <td>3</td>\n",
       "      <td>1</td>\n",
       "      <td>0</td>\n",
       "      <td>5</td>\n",
       "      <td>1</td>\n",
       "      <td>0</td>\n",
       "      <td>1</td>\n",
       "      <td>4</td>\n",
       "      <td>3</td>\n",
       "      <td>6</td>\n",
       "      <td>4</td>\n",
       "      <td>1</td>\n",
       "      <td>1</td>\n",
       "      <td>4</td>\n",
       "      <td>4</td>\n",
       "      <td>2</td>\n",
       "      <td>3</td>\n",
       "      <td>4</td>\n",
       "      <td>2</td>\n",
       "      <td>8</td>\n",
       "      <td>4</td>\n",
       "      <td>181500</td>\n",
       "    </tr>\n",
       "    <tr>\n",
       "      <th>2</th>\n",
       "      <td>9</td>\n",
       "      <td>3</td>\n",
       "      <td>1</td>\n",
       "      <td>2</td>\n",
       "      <td>0</td>\n",
       "      <td>3</td>\n",
       "      <td>0</td>\n",
       "      <td>4</td>\n",
       "      <td>0</td>\n",
       "      <td>5</td>\n",
       "      <td>2</td>\n",
       "      <td>2</td>\n",
       "      <td>0</td>\n",
       "      <td>5</td>\n",
       "      <td>1</td>\n",
       "      <td>1</td>\n",
       "      <td>12</td>\n",
       "      <td>13</td>\n",
       "      <td>1</td>\n",
       "      <td>2</td>\n",
       "      <td>4</td>\n",
       "      <td>2</td>\n",
       "      <td>2</td>\n",
       "      <td>3</td>\n",
       "      <td>2</td>\n",
       "      <td>2</td>\n",
       "      <td>5</td>\n",
       "      <td>1</td>\n",
       "      <td>0</td>\n",
       "      <td>1</td>\n",
       "      <td>4</td>\n",
       "      <td>2</td>\n",
       "      <td>6</td>\n",
       "      <td>4</td>\n",
       "      <td>1</td>\n",
       "      <td>1</td>\n",
       "      <td>4</td>\n",
       "      <td>4</td>\n",
       "      <td>2</td>\n",
       "      <td>3</td>\n",
       "      <td>4</td>\n",
       "      <td>2</td>\n",
       "      <td>8</td>\n",
       "      <td>4</td>\n",
       "      <td>223500</td>\n",
       "    </tr>\n",
       "    <tr>\n",
       "      <th>3</th>\n",
       "      <td>10</td>\n",
       "      <td>3</td>\n",
       "      <td>1</td>\n",
       "      <td>2</td>\n",
       "      <td>0</td>\n",
       "      <td>3</td>\n",
       "      <td>0</td>\n",
       "      <td>0</td>\n",
       "      <td>0</td>\n",
       "      <td>6</td>\n",
       "      <td>2</td>\n",
       "      <td>2</td>\n",
       "      <td>0</td>\n",
       "      <td>5</td>\n",
       "      <td>1</td>\n",
       "      <td>1</td>\n",
       "      <td>13</td>\n",
       "      <td>15</td>\n",
       "      <td>2</td>\n",
       "      <td>3</td>\n",
       "      <td>4</td>\n",
       "      <td>0</td>\n",
       "      <td>3</td>\n",
       "      <td>1</td>\n",
       "      <td>3</td>\n",
       "      <td>0</td>\n",
       "      <td>5</td>\n",
       "      <td>1</td>\n",
       "      <td>2</td>\n",
       "      <td>1</td>\n",
       "      <td>4</td>\n",
       "      <td>2</td>\n",
       "      <td>6</td>\n",
       "      <td>2</td>\n",
       "      <td>5</td>\n",
       "      <td>2</td>\n",
       "      <td>4</td>\n",
       "      <td>4</td>\n",
       "      <td>2</td>\n",
       "      <td>3</td>\n",
       "      <td>4</td>\n",
       "      <td>2</td>\n",
       "      <td>8</td>\n",
       "      <td>0</td>\n",
       "      <td>140000</td>\n",
       "    </tr>\n",
       "    <tr>\n",
       "      <th>4</th>\n",
       "      <td>9</td>\n",
       "      <td>3</td>\n",
       "      <td>1</td>\n",
       "      <td>2</td>\n",
       "      <td>0</td>\n",
       "      <td>3</td>\n",
       "      <td>0</td>\n",
       "      <td>2</td>\n",
       "      <td>0</td>\n",
       "      <td>15</td>\n",
       "      <td>2</td>\n",
       "      <td>2</td>\n",
       "      <td>0</td>\n",
       "      <td>5</td>\n",
       "      <td>1</td>\n",
       "      <td>1</td>\n",
       "      <td>12</td>\n",
       "      <td>13</td>\n",
       "      <td>1</td>\n",
       "      <td>2</td>\n",
       "      <td>4</td>\n",
       "      <td>2</td>\n",
       "      <td>2</td>\n",
       "      <td>3</td>\n",
       "      <td>0</td>\n",
       "      <td>2</td>\n",
       "      <td>5</td>\n",
       "      <td>1</td>\n",
       "      <td>0</td>\n",
       "      <td>1</td>\n",
       "      <td>4</td>\n",
       "      <td>2</td>\n",
       "      <td>6</td>\n",
       "      <td>4</td>\n",
       "      <td>1</td>\n",
       "      <td>1</td>\n",
       "      <td>4</td>\n",
       "      <td>4</td>\n",
       "      <td>2</td>\n",
       "      <td>3</td>\n",
       "      <td>4</td>\n",
       "      <td>2</td>\n",
       "      <td>8</td>\n",
       "      <td>4</td>\n",
       "      <td>250000</td>\n",
       "    </tr>\n",
       "  </tbody>\n",
       "</table>\n",
       "</div>"
      ],
      "text/plain": [
       "   MSSubClass  MSZoning  Street  Alley  LotShape  LandContour  Utilities  \\\n",
       "0           9         3       1      2         3            3          0   \n",
       "1           4         3       1      2         3            3          0   \n",
       "2           9         3       1      2         0            3          0   \n",
       "3          10         3       1      2         0            3          0   \n",
       "4           9         3       1      2         0            3          0   \n",
       "\n",
       "   LotConfig  LandSlope  Neighborhood  Condition1  Condition2  BldgType  \\\n",
       "0          4          0             5           2           2         0   \n",
       "1          2          0            24           1           2         0   \n",
       "2          4          0             5           2           2         0   \n",
       "3          0          0             6           2           2         0   \n",
       "4          2          0            15           2           2         0   \n",
       "\n",
       "   HouseStyle  RoofStyle  RoofMatl  Exterior1st  Exterior2nd  MasVnrType  \\\n",
       "0           5          1         1           12           13           1   \n",
       "1           2          1         1            8            8           2   \n",
       "2           5          1         1           12           13           1   \n",
       "3           5          1         1           13           15           2   \n",
       "4           5          1         1           12           13           1   \n",
       "\n",
       "   ExterQual  ExterCond  Foundation  BsmtQual  BsmtCond  BsmtExposure  \\\n",
       "0          2          4           2         2         3             3   \n",
       "1          3          4           1         2         3             1   \n",
       "2          2          4           2         2         3             2   \n",
       "3          3          4           0         3         1             3   \n",
       "4          2          4           2         2         3             0   \n",
       "\n",
       "   BsmtFinType1  BsmtFinType2  Heating  HeatingQC  CentralAir  Electrical  \\\n",
       "0             2             5        1          0           1           4   \n",
       "1             0             5        1          0           1           4   \n",
       "2             2             5        1          0           1           4   \n",
       "3             0             5        1          2           1           4   \n",
       "4             2             5        1          0           1           4   \n",
       "\n",
       "   KitchenQual  Functional  FireplaceQu  GarageType  GarageFinish  GarageQual  \\\n",
       "0            2           6            5           1             1           4   \n",
       "1            3           6            4           1             1           4   \n",
       "2            2           6            4           1             1           4   \n",
       "3            2           6            2           5             2           4   \n",
       "4            2           6            4           1             1           4   \n",
       "\n",
       "   GarageCond  PavedDrive  PoolQC  Fence  MiscFeature  SaleType  \\\n",
       "0           4           2       3      4            2         8   \n",
       "1           4           2       3      4            2         8   \n",
       "2           4           2       3      4            2         8   \n",
       "3           4           2       3      4            2         8   \n",
       "4           4           2       3      4            2         8   \n",
       "\n",
       "   SaleCondition  SalePrice  \n",
       "0              4     208500  \n",
       "1              4     181500  \n",
       "2              4     223500  \n",
       "3              0     140000  \n",
       "4              4     250000  "
      ]
     },
     "execution_count": 35,
     "metadata": {},
     "output_type": "execute_result"
    }
   ],
   "source": [
    "df_cat = pd.concat([df_cat, train_data['SalePrice']], axis=1)\n",
    "df_cat.head()"
   ]
  },
  {
   "cell_type": "code",
   "execution_count": 36,
   "metadata": {
    "execution": {
     "iopub.execute_input": "2021-09-08T20:51:16.361832Z",
     "iopub.status.busy": "2021-09-08T20:51:16.361044Z",
     "iopub.status.idle": "2021-09-08T20:51:16.375459Z",
     "shell.execute_reply": "2021-09-08T20:51:16.375984Z",
     "shell.execute_reply.started": "2021-09-08T20:33:06.51974Z"
    },
    "papermill": {
     "duration": 0.094731,
     "end_time": "2021-09-08T20:51:16.376203",
     "exception": false,
     "start_time": "2021-09-08T20:51:16.281472",
     "status": "completed"
    },
    "tags": []
   },
   "outputs": [],
   "source": [
    "cat_corr = df_cat.corr()\n",
    "catcorr_pairs = cat_corr.unstack()"
   ]
  },
  {
   "cell_type": "code",
   "execution_count": 37,
   "metadata": {
    "execution": {
     "iopub.execute_input": "2021-09-08T20:51:16.533700Z",
     "iopub.status.busy": "2021-09-08T20:51:16.532949Z",
     "iopub.status.idle": "2021-09-08T20:51:16.542440Z",
     "shell.execute_reply": "2021-09-08T20:51:16.541917Z",
     "shell.execute_reply.started": "2021-09-08T20:33:06.536552Z"
    },
    "papermill": {
     "duration": 0.089341,
     "end_time": "2021-09-08T20:51:16.542591",
     "exception": false,
     "start_time": "2021-09-08T20:51:16.453250",
     "status": "completed"
    },
    "tags": []
   },
   "outputs": [
    {
     "data": {
      "text/plain": [
       "SalePrice       1.000000\n",
       "GarageFinish    0.549247\n",
       "KitchenQual     0.589189\n",
       "BsmtQual        0.620886\n",
       "ExterQual       0.636884\n",
       "dtype: float64"
      ]
     },
     "execution_count": 37,
     "metadata": {},
     "output_type": "execute_result"
    }
   ],
   "source": [
    "#Find the categorical features which have the highest correlation with Sale Price\n",
    "sorted_Catcorr = catcorr_pairs['SalePrice'].sort_values(ascending=False).apply(abs)\n",
    "highCat = sorted_Catcorr[sorted_Catcorr >= 0.5]\n",
    "highCat"
   ]
  },
  {
   "cell_type": "code",
   "execution_count": 38,
   "metadata": {
    "execution": {
     "iopub.execute_input": "2021-09-08T20:51:16.707878Z",
     "iopub.status.busy": "2021-09-08T20:51:16.707202Z",
     "iopub.status.idle": "2021-09-08T20:51:17.024547Z",
     "shell.execute_reply": "2021-09-08T20:51:17.023968Z",
     "shell.execute_reply.started": "2021-09-08T20:33:06.54832Z"
    },
    "papermill": {
     "duration": 0.403546,
     "end_time": "2021-09-08T20:51:17.024697",
     "exception": false,
     "start_time": "2021-09-08T20:51:16.621151",
     "status": "completed"
    },
    "tags": []
   },
   "outputs": [
    {
     "data": {
      "image/png": "[encoded data removed]",
      "text/plain": [
       "<Figure size 432x288 with 1 Axes>"
      ]
     },
     "metadata": {
      "needs_background": "light"
     },
     "output_type": "display_data"
    }
   ],
   "source": [
    "sns.scatterplot(x='GrLivArea', y='SalePrice', data=train_data, hue='ExterQual')\n",
    "plt.title('Above Ground Living Area vs Sale Price')\n",
    "plt.xlabel('Above grade (ground) Living Area (sqft)')\n",
    "plt.ylabel('Sale Price')\n",
    "plt.show()"
   ]
  },
  {
   "cell_type": "markdown",
   "metadata": {
    "papermill": {
     "duration": 0.079872,
     "end_time": "2021-09-08T20:51:17.183917",
     "exception": false,
     "start_time": "2021-09-08T20:51:17.104045",
     "status": "completed"
    },
    "tags": []
   },
   "source": [
    "* Ex = Excellent\n",
    "* Gd = Good\n",
    "* TA = Average\n",
    "* Fa = Fair\n",
    "* Po = Poor"
   ]
  },
  {
   "cell_type": "code",
   "execution_count": 39,
   "metadata": {
    "execution": {
     "iopub.execute_input": "2021-09-08T20:51:17.351655Z",
     "iopub.status.busy": "2021-09-08T20:51:17.350978Z",
     "iopub.status.idle": "2021-09-08T20:51:17.692883Z",
     "shell.execute_reply": "2021-09-08T20:51:17.692198Z",
     "shell.execute_reply.started": "2021-09-08T20:33:06.883744Z"
    },
    "papermill": {
     "duration": 0.429802,
     "end_time": "2021-09-08T20:51:17.693020",
     "exception": false,
     "start_time": "2021-09-08T20:51:17.263218",
     "status": "completed"
    },
    "tags": []
   },
   "outputs": [
    {
     "data": {
      "image/png": "[encoded data removed]",
      "text/plain": [
       "<Figure size 432x288 with 1 Axes>"
      ]
     },
     "metadata": {
      "needs_background": "light"
     },
     "output_type": "display_data"
    }
   ],
   "source": [
    "sns.scatterplot(x='GrLivArea', y='SalePrice', data=train_data, hue='BsmtQual')\n",
    "plt.title('Above Ground Living Area vs Sale Price')\n",
    "plt.xlabel('Above grade (ground) Living Area (sqft)')\n",
    "plt.ylabel('Sale Price')\n",
    "plt.show()"
   ]
  },
  {
   "cell_type": "code",
   "execution_count": 40,
   "metadata": {
    "execution": {
     "iopub.execute_input": "2021-09-08T20:51:17.866179Z",
     "iopub.status.busy": "2021-09-08T20:51:17.865424Z",
     "iopub.status.idle": "2021-09-08T20:51:18.180902Z",
     "shell.execute_reply": "2021-09-08T20:51:18.180251Z",
     "shell.execute_reply.started": "2021-09-08T20:33:07.242901Z"
    },
    "papermill": {
     "duration": 0.405965,
     "end_time": "2021-09-08T20:51:18.181041",
     "exception": false,
     "start_time": "2021-09-08T20:51:17.775076",
     "status": "completed"
    },
    "tags": []
   },
   "outputs": [
    {
     "data": {
      "image/png": "[encoded data removed]",
      "text/plain": [
       "<Figure size 432x288 with 1 Axes>"
      ]
     },
     "metadata": {
      "needs_background": "light"
     },
     "output_type": "display_data"
    }
   ],
   "source": [
    "sns.scatterplot(x='GrLivArea', y='SalePrice', data=train_data, hue='KitchenQual')\n",
    "plt.title('Above Ground Living Area vs Sale Price')\n",
    "plt.xlabel('Above grade (ground) Living Area (sqft)')\n",
    "plt.ylabel('Sale Price')\n",
    "plt.show()"
   ]
  },
  {
   "cell_type": "code",
   "execution_count": 41,
   "metadata": {
    "execution": {
     "iopub.execute_input": "2021-09-08T20:51:18.391961Z",
     "iopub.status.busy": "2021-09-08T20:51:18.382647Z",
     "iopub.status.idle": "2021-09-08T20:51:18.691062Z",
     "shell.execute_reply": "2021-09-08T20:51:18.690471Z",
     "shell.execute_reply.started": "2021-09-08T20:33:07.578477Z"
    },
    "papermill": {
     "duration": 0.426938,
     "end_time": "2021-09-08T20:51:18.691206",
     "exception": false,
     "start_time": "2021-09-08T20:51:18.264268",
     "status": "completed"
    },
    "tags": []
   },
   "outputs": [
    {
     "data": {
      "image/png": "[encoded data removed]",
      "text/plain": [
       "<Figure size 432x288 with 1 Axes>"
      ]
     },
     "metadata": {
      "needs_background": "light"
     },
     "output_type": "display_data"
    }
   ],
   "source": [
    "sns.scatterplot(x='GrLivArea', y='SalePrice', data=train_data, hue='GarageFinish')\n",
    "plt.title('Above Ground Living Area vs Sale Price')\n",
    "plt.xlabel('Above grade (ground) Living Area (sqft)')\n",
    "plt.ylabel('Sale Price')\n",
    "plt.show()"
   ]
  },
  {
   "cell_type": "code",
   "execution_count": 42,
   "metadata": {
    "execution": {
     "iopub.execute_input": "2021-09-08T20:51:18.894945Z",
     "iopub.status.busy": "2021-09-08T20:51:18.872534Z",
     "iopub.status.idle": "2021-09-08T20:51:19.244800Z",
     "shell.execute_reply": "2021-09-08T20:51:19.244212Z",
     "shell.execute_reply.started": "2021-09-08T20:33:07.91816Z"
    },
    "papermill": {
     "duration": 0.465995,
     "end_time": "2021-09-08T20:51:19.244942",
     "exception": false,
     "start_time": "2021-09-08T20:51:18.778947",
     "status": "completed"
    },
    "tags": []
   },
   "outputs": [
    {
     "data": {
      "image/png": "[encoded data removed]",
      "text/plain": [
       "<Figure size 432x288 with 1 Axes>"
      ]
     },
     "metadata": {
      "needs_background": "light"
     },
     "output_type": "display_data"
    }
   ],
   "source": [
    "sns.scatterplot(x='GrLivArea', y='SalePrice', data=train_data, hue='FireplaceQu')\n",
    "plt.title('Above Ground Living Area vs Sale Price')\n",
    "plt.xlabel('Above grade (ground) Living Area (sqft)')\n",
    "plt.ylabel('Sale Price')\n",
    "plt.show()"
   ]
  },
  {
   "cell_type": "code",
   "execution_count": 43,
   "metadata": {
    "execution": {
     "iopub.execute_input": "2021-09-08T20:51:19.425769Z",
     "iopub.status.busy": "2021-09-08T20:51:19.425061Z",
     "iopub.status.idle": "2021-09-08T20:51:19.868466Z",
     "shell.execute_reply": "2021-09-08T20:51:19.868977Z",
     "shell.execute_reply.started": "2021-09-08T20:33:08.296821Z"
    },
    "papermill": {
     "duration": 0.537463,
     "end_time": "2021-09-08T20:51:19.869162",
     "exception": false,
     "start_time": "2021-09-08T20:51:19.331699",
     "status": "completed"
    },
    "tags": []
   },
   "outputs": [
    {
     "data": {
      "image/png": "[encoded data removed]",
      "text/plain": [
       "<Figure size 432x288 with 1 Axes>"
      ]
     },
     "metadata": {
      "needs_background": "light"
     },
     "output_type": "display_data"
    }
   ],
   "source": [
    "sns.scatterplot(x='GrLivArea', y='SalePrice', data=train_data, hue='GarageType')\n",
    "plt.title('Above Ground Living Area vs Sale Price')\n",
    "plt.xlabel('Above grade (ground) Living Area (sqft)')\n",
    "plt.ylabel('Sale Price')\n",
    "plt.show()"
   ]
  },
  {
   "cell_type": "markdown",
   "metadata": {
    "papermill": {
     "duration": 0.08926,
     "end_time": "2021-09-08T20:51:20.047173",
     "exception": false,
     "start_time": "2021-09-08T20:51:19.957913",
     "status": "completed"
    },
    "tags": []
   },
   "source": [
    "# Feature Transformation"
   ]
  },
  {
   "cell_type": "code",
   "execution_count": 44,
   "metadata": {
    "execution": {
     "iopub.execute_input": "2021-09-08T20:51:20.227951Z",
     "iopub.status.busy": "2021-09-08T20:51:20.227239Z",
     "iopub.status.idle": "2021-09-08T20:51:20.267548Z",
     "shell.execute_reply": "2021-09-08T20:51:20.268087Z",
     "shell.execute_reply.started": "2021-09-08T20:33:08.766491Z"
    },
    "papermill": {
     "duration": 0.131927,
     "end_time": "2021-09-08T20:51:20.268268",
     "exception": false,
     "start_time": "2021-09-08T20:51:20.136341",
     "status": "completed"
    },
    "tags": []
   },
   "outputs": [
    {
     "data": {
      "text/html": [
       "<div>\n",
       "<style scoped>\n",
       "    .dataframe tbody tr th:only-of-type {\n",
       "        vertical-align: middle;\n",
       "    }\n",
       "\n",
       "    .dataframe tbody tr th {\n",
       "        vertical-align: top;\n",
       "    }\n",
       "\n",
       "    .dataframe thead th {\n",
       "        text-align: right;\n",
       "    }\n",
       "</style>\n",
       "<table border=\"1\" class=\"dataframe\">\n",
       "  <thead>\n",
       "    <tr style=\"text-align: right;\">\n",
       "      <th></th>\n",
       "      <th>Features</th>\n",
       "      <th>Skew</th>\n",
       "      <th>Abs Skew</th>\n",
       "      <th>Skewed</th>\n",
       "    </tr>\n",
       "  </thead>\n",
       "  <tbody>\n",
       "    <tr>\n",
       "      <th>0</th>\n",
       "      <td>LotFrontage</td>\n",
       "      <td>2.382499</td>\n",
       "      <td>2.382499</td>\n",
       "      <td>True</td>\n",
       "    </tr>\n",
       "    <tr>\n",
       "      <th>1</th>\n",
       "      <td>LotArea</td>\n",
       "      <td>12.195142</td>\n",
       "      <td>12.195142</td>\n",
       "      <td>True</td>\n",
       "    </tr>\n",
       "    <tr>\n",
       "      <th>2</th>\n",
       "      <td>OverallQual</td>\n",
       "      <td>0.216721</td>\n",
       "      <td>0.216721</td>\n",
       "      <td>False</td>\n",
       "    </tr>\n",
       "    <tr>\n",
       "      <th>3</th>\n",
       "      <td>OverallCond</td>\n",
       "      <td>0.692355</td>\n",
       "      <td>0.692355</td>\n",
       "      <td>True</td>\n",
       "    </tr>\n",
       "    <tr>\n",
       "      <th>4</th>\n",
       "      <td>YearBuilt</td>\n",
       "      <td>-0.612831</td>\n",
       "      <td>0.612831</td>\n",
       "      <td>True</td>\n",
       "    </tr>\n",
       "    <tr>\n",
       "      <th>5</th>\n",
       "      <td>YearRemodAdd</td>\n",
       "      <td>-0.503044</td>\n",
       "      <td>0.503044</td>\n",
       "      <td>True</td>\n",
       "    </tr>\n",
       "    <tr>\n",
       "      <th>6</th>\n",
       "      <td>MasVnrArea</td>\n",
       "      <td>2.674865</td>\n",
       "      <td>2.674865</td>\n",
       "      <td>True</td>\n",
       "    </tr>\n",
       "    <tr>\n",
       "      <th>7</th>\n",
       "      <td>BsmtFinSF1</td>\n",
       "      <td>1.683771</td>\n",
       "      <td>1.683771</td>\n",
       "      <td>True</td>\n",
       "    </tr>\n",
       "    <tr>\n",
       "      <th>8</th>\n",
       "      <td>BsmtFinSF2</td>\n",
       "      <td>4.250888</td>\n",
       "      <td>4.250888</td>\n",
       "      <td>True</td>\n",
       "    </tr>\n",
       "    <tr>\n",
       "      <th>9</th>\n",
       "      <td>BsmtUnfSF</td>\n",
       "      <td>0.919323</td>\n",
       "      <td>0.919323</td>\n",
       "      <td>True</td>\n",
       "    </tr>\n",
       "    <tr>\n",
       "      <th>10</th>\n",
       "      <td>TotalBsmtSF</td>\n",
       "      <td>1.522688</td>\n",
       "      <td>1.522688</td>\n",
       "      <td>True</td>\n",
       "    </tr>\n",
       "    <tr>\n",
       "      <th>11</th>\n",
       "      <td>1stFlrSF</td>\n",
       "      <td>1.375342</td>\n",
       "      <td>1.375342</td>\n",
       "      <td>True</td>\n",
       "    </tr>\n",
       "    <tr>\n",
       "      <th>12</th>\n",
       "      <td>2ndFlrSF</td>\n",
       "      <td>0.812194</td>\n",
       "      <td>0.812194</td>\n",
       "      <td>True</td>\n",
       "    </tr>\n",
       "    <tr>\n",
       "      <th>13</th>\n",
       "      <td>LowQualFinSF</td>\n",
       "      <td>9.002080</td>\n",
       "      <td>9.002080</td>\n",
       "      <td>True</td>\n",
       "    </tr>\n",
       "    <tr>\n",
       "      <th>14</th>\n",
       "      <td>GrLivArea</td>\n",
       "      <td>1.365156</td>\n",
       "      <td>1.365156</td>\n",
       "      <td>True</td>\n",
       "    </tr>\n",
       "    <tr>\n",
       "      <th>15</th>\n",
       "      <td>BsmtFullBath</td>\n",
       "      <td>0.595454</td>\n",
       "      <td>0.595454</td>\n",
       "      <td>True</td>\n",
       "    </tr>\n",
       "    <tr>\n",
       "      <th>16</th>\n",
       "      <td>BsmtHalfBath</td>\n",
       "      <td>4.099186</td>\n",
       "      <td>4.099186</td>\n",
       "      <td>True</td>\n",
       "    </tr>\n",
       "    <tr>\n",
       "      <th>17</th>\n",
       "      <td>FullBath</td>\n",
       "      <td>0.036524</td>\n",
       "      <td>0.036524</td>\n",
       "      <td>False</td>\n",
       "    </tr>\n",
       "    <tr>\n",
       "      <th>18</th>\n",
       "      <td>HalfBath</td>\n",
       "      <td>0.675203</td>\n",
       "      <td>0.675203</td>\n",
       "      <td>True</td>\n",
       "    </tr>\n",
       "    <tr>\n",
       "      <th>19</th>\n",
       "      <td>BedroomAbvGr</td>\n",
       "      <td>0.211572</td>\n",
       "      <td>0.211572</td>\n",
       "      <td>False</td>\n",
       "    </tr>\n",
       "    <tr>\n",
       "      <th>20</th>\n",
       "      <td>KitchenAbvGr</td>\n",
       "      <td>4.483784</td>\n",
       "      <td>4.483784</td>\n",
       "      <td>True</td>\n",
       "    </tr>\n",
       "    <tr>\n",
       "      <th>21</th>\n",
       "      <td>TotRmsAbvGrd</td>\n",
       "      <td>0.675646</td>\n",
       "      <td>0.675646</td>\n",
       "      <td>True</td>\n",
       "    </tr>\n",
       "    <tr>\n",
       "      <th>22</th>\n",
       "      <td>Fireplaces</td>\n",
       "      <td>0.648898</td>\n",
       "      <td>0.648898</td>\n",
       "      <td>True</td>\n",
       "    </tr>\n",
       "    <tr>\n",
       "      <th>23</th>\n",
       "      <td>GarageYrBlt</td>\n",
       "      <td>-3.865524</td>\n",
       "      <td>3.865524</td>\n",
       "      <td>True</td>\n",
       "    </tr>\n",
       "    <tr>\n",
       "      <th>24</th>\n",
       "      <td>GarageCars</td>\n",
       "      <td>-0.342197</td>\n",
       "      <td>0.342197</td>\n",
       "      <td>False</td>\n",
       "    </tr>\n",
       "    <tr>\n",
       "      <th>25</th>\n",
       "      <td>GarageArea</td>\n",
       "      <td>0.179796</td>\n",
       "      <td>0.179796</td>\n",
       "      <td>False</td>\n",
       "    </tr>\n",
       "    <tr>\n",
       "      <th>26</th>\n",
       "      <td>WoodDeckSF</td>\n",
       "      <td>1.539792</td>\n",
       "      <td>1.539792</td>\n",
       "      <td>True</td>\n",
       "    </tr>\n",
       "    <tr>\n",
       "      <th>27</th>\n",
       "      <td>OpenPorchSF</td>\n",
       "      <td>2.361912</td>\n",
       "      <td>2.361912</td>\n",
       "      <td>True</td>\n",
       "    </tr>\n",
       "    <tr>\n",
       "      <th>28</th>\n",
       "      <td>EnclosedPorch</td>\n",
       "      <td>3.086696</td>\n",
       "      <td>3.086696</td>\n",
       "      <td>True</td>\n",
       "    </tr>\n",
       "    <tr>\n",
       "      <th>29</th>\n",
       "      <td>3SsnPorch</td>\n",
       "      <td>10.293752</td>\n",
       "      <td>10.293752</td>\n",
       "      <td>True</td>\n",
       "    </tr>\n",
       "    <tr>\n",
       "      <th>30</th>\n",
       "      <td>ScreenPorch</td>\n",
       "      <td>4.117977</td>\n",
       "      <td>4.117977</td>\n",
       "      <td>True</td>\n",
       "    </tr>\n",
       "    <tr>\n",
       "      <th>31</th>\n",
       "      <td>PoolArea</td>\n",
       "      <td>14.813135</td>\n",
       "      <td>14.813135</td>\n",
       "      <td>True</td>\n",
       "    </tr>\n",
       "    <tr>\n",
       "      <th>32</th>\n",
       "      <td>MiscVal</td>\n",
       "      <td>24.451640</td>\n",
       "      <td>24.451640</td>\n",
       "      <td>True</td>\n",
       "    </tr>\n",
       "    <tr>\n",
       "      <th>33</th>\n",
       "      <td>MoSold</td>\n",
       "      <td>0.211835</td>\n",
       "      <td>0.211835</td>\n",
       "      <td>False</td>\n",
       "    </tr>\n",
       "    <tr>\n",
       "      <th>34</th>\n",
       "      <td>YrSold</td>\n",
       "      <td>0.096170</td>\n",
       "      <td>0.096170</td>\n",
       "      <td>False</td>\n",
       "    </tr>\n",
       "    <tr>\n",
       "      <th>35</th>\n",
       "      <td>SalePrice</td>\n",
       "      <td>1.880941</td>\n",
       "      <td>1.880941</td>\n",
       "      <td>True</td>\n",
       "    </tr>\n",
       "  </tbody>\n",
       "</table>\n",
       "</div>"
      ],
      "text/plain": [
       "         Features       Skew   Abs Skew  Skewed\n",
       "0     LotFrontage   2.382499   2.382499    True\n",
       "1         LotArea  12.195142  12.195142    True\n",
       "2     OverallQual   0.216721   0.216721   False\n",
       "3     OverallCond   0.692355   0.692355    True\n",
       "4       YearBuilt  -0.612831   0.612831    True\n",
       "5    YearRemodAdd  -0.503044   0.503044    True\n",
       "6      MasVnrArea   2.674865   2.674865    True\n",
       "7      BsmtFinSF1   1.683771   1.683771    True\n",
       "8      BsmtFinSF2   4.250888   4.250888    True\n",
       "9       BsmtUnfSF   0.919323   0.919323    True\n",
       "10    TotalBsmtSF   1.522688   1.522688    True\n",
       "11       1stFlrSF   1.375342   1.375342    True\n",
       "12       2ndFlrSF   0.812194   0.812194    True\n",
       "13   LowQualFinSF   9.002080   9.002080    True\n",
       "14      GrLivArea   1.365156   1.365156    True\n",
       "15   BsmtFullBath   0.595454   0.595454    True\n",
       "16   BsmtHalfBath   4.099186   4.099186    True\n",
       "17       FullBath   0.036524   0.036524   False\n",
       "18       HalfBath   0.675203   0.675203    True\n",
       "19   BedroomAbvGr   0.211572   0.211572   False\n",
       "20   KitchenAbvGr   4.483784   4.483784    True\n",
       "21   TotRmsAbvGrd   0.675646   0.675646    True\n",
       "22     Fireplaces   0.648898   0.648898    True\n",
       "23    GarageYrBlt  -3.865524   3.865524    True\n",
       "24     GarageCars  -0.342197   0.342197   False\n",
       "25     GarageArea   0.179796   0.179796   False\n",
       "26     WoodDeckSF   1.539792   1.539792    True\n",
       "27    OpenPorchSF   2.361912   2.361912    True\n",
       "28  EnclosedPorch   3.086696   3.086696    True\n",
       "29      3SsnPorch  10.293752  10.293752    True\n",
       "30    ScreenPorch   4.117977   4.117977    True\n",
       "31       PoolArea  14.813135  14.813135    True\n",
       "32        MiscVal  24.451640  24.451640    True\n",
       "33         MoSold   0.211835   0.211835   False\n",
       "34         YrSold   0.096170   0.096170   False\n",
       "35      SalePrice   1.880941   1.880941    True"
      ]
     },
     "execution_count": 44,
     "metadata": {},
     "output_type": "execute_result"
    }
   ],
   "source": [
    "import scipy.stats\n",
    "df_skew = pd.DataFrame(train_data.select_dtypes(np.number).columns, columns=['Features'])\n",
    "df_skew['Skew'] = df_skew['Features'].apply(lambda feature: scipy.stats.skew(train_data[feature]))\n",
    "df_skew['Abs Skew'] = df_skew['Skew'].apply(abs)\n",
    "df_skew['Skewed'] = df_skew['Abs Skew'].apply(lambda x: True if x >= 0.5 else False)\n",
    "df_skew"
   ]
  },
  {
   "cell_type": "code",
   "execution_count": 45,
   "metadata": {
    "execution": {
     "iopub.execute_input": "2021-09-08T20:51:20.465514Z",
     "iopub.status.busy": "2021-09-08T20:51:20.464494Z",
     "iopub.status.idle": "2021-09-08T20:51:20.479870Z",
     "shell.execute_reply": "2021-09-08T20:51:20.480619Z",
     "shell.execute_reply.started": "2021-09-08T20:33:08.813565Z"
    },
    "papermill": {
     "duration": 0.122263,
     "end_time": "2021-09-08T20:51:20.480827",
     "exception": false,
     "start_time": "2021-09-08T20:51:20.358564",
     "status": "completed"
    },
    "tags": []
   },
   "outputs": [
    {
     "data": {
      "text/plain": [
       "0       LotFrontage\n",
       "1           LotArea\n",
       "3       OverallCond\n",
       "4         YearBuilt\n",
       "5      YearRemodAdd\n",
       "6        MasVnrArea\n",
       "7        BsmtFinSF1\n",
       "8        BsmtFinSF2\n",
       "9         BsmtUnfSF\n",
       "10      TotalBsmtSF\n",
       "11         1stFlrSF\n",
       "12         2ndFlrSF\n",
       "13     LowQualFinSF\n",
       "14        GrLivArea\n",
       "15     BsmtFullBath\n",
       "16     BsmtHalfBath\n",
       "18         HalfBath\n",
       "20     KitchenAbvGr\n",
       "21     TotRmsAbvGrd\n",
       "22       Fireplaces\n",
       "23      GarageYrBlt\n",
       "26       WoodDeckSF\n",
       "27      OpenPorchSF\n",
       "28    EnclosedPorch\n",
       "29        3SsnPorch\n",
       "30      ScreenPorch\n",
       "31         PoolArea\n",
       "32          MiscVal\n",
       "35        SalePrice\n",
       "Name: Features, dtype: object"
      ]
     },
     "execution_count": 45,
     "metadata": {},
     "output_type": "execute_result"
    }
   ],
   "source": [
    "df_skew.query('Skewed == True')['Features']"
   ]
  },
  {
   "cell_type": "code",
   "execution_count": 46,
   "metadata": {
    "execution": {
     "iopub.execute_input": "2021-09-08T20:51:20.674101Z",
     "iopub.status.busy": "2021-09-08T20:51:20.673375Z",
     "iopub.status.idle": "2021-09-08T20:51:20.694295Z",
     "shell.execute_reply": "2021-09-08T20:51:20.694817Z",
     "shell.execute_reply.started": "2021-09-08T20:33:08.83443Z"
    },
    "papermill": {
     "duration": 0.115661,
     "end_time": "2021-09-08T20:51:20.695007",
     "exception": false,
     "start_time": "2021-09-08T20:51:20.579346",
     "status": "completed"
    },
    "tags": []
   },
   "outputs": [],
   "source": [
    "for column in df_skew.query('Skewed == True')['Features'].values:\n",
    "    train_data[column] = np.log1p(train_data[column])"
   ]
  },
  {
   "cell_type": "markdown",
   "metadata": {
    "papermill": {
     "duration": 0.089309,
     "end_time": "2021-09-08T20:51:20.873748",
     "exception": false,
     "start_time": "2021-09-08T20:51:20.784439",
     "status": "completed"
    },
    "tags": []
   },
   "source": [
    "# Feature Engineering\n",
    "Now that we have some preliminary insights about how each important variable would affect the Sale Price. We will select the features that will be used in prediction for our future models."
   ]
  },
  {
   "cell_type": "code",
   "execution_count": 47,
   "metadata": {
    "execution": {
     "iopub.execute_input": "2021-09-08T20:51:21.057954Z",
     "iopub.status.busy": "2021-09-08T20:51:21.057195Z",
     "iopub.status.idle": "2021-09-08T20:51:21.082952Z",
     "shell.execute_reply": "2021-09-08T20:51:21.082437Z",
     "shell.execute_reply.started": "2021-09-08T20:33:08.863248Z"
    },
    "papermill": {
     "duration": 0.119023,
     "end_time": "2021-09-08T20:51:21.083110",
     "exception": false,
     "start_time": "2021-09-08T20:51:20.964087",
     "status": "completed"
    },
    "tags": []
   },
   "outputs": [
    {
     "data": {
      "text/html": [
       "<div>\n",
       "<style scoped>\n",
       "    .dataframe tbody tr th:only-of-type {\n",
       "        vertical-align: middle;\n",
       "    }\n",
       "\n",
       "    .dataframe tbody tr th {\n",
       "        vertical-align: top;\n",
       "    }\n",
       "\n",
       "    .dataframe thead th {\n",
       "        text-align: right;\n",
       "    }\n",
       "</style>\n",
       "<table border=\"1\" class=\"dataframe\">\n",
       "  <thead>\n",
       "    <tr style=\"text-align: right;\">\n",
       "      <th></th>\n",
       "      <th>OverallQual</th>\n",
       "      <th>GrLivArea</th>\n",
       "      <th>GarageCars</th>\n",
       "      <th>GarageArea</th>\n",
       "      <th>TotalBsmtSF</th>\n",
       "      <th>1stFlrSF</th>\n",
       "      <th>FullBath</th>\n",
       "      <th>TotRmsAbvGrd</th>\n",
       "      <th>YearBuilt</th>\n",
       "      <th>YearRemodAdd</th>\n",
       "      <th>MasVnrArea</th>\n",
       "      <th>Fireplaces</th>\n",
       "      <th>GarageFinish</th>\n",
       "      <th>KitchenQual</th>\n",
       "      <th>BsmtQual</th>\n",
       "      <th>ExterQual</th>\n",
       "      <th>SalePrice</th>\n",
       "    </tr>\n",
       "  </thead>\n",
       "  <tbody>\n",
       "    <tr>\n",
       "      <th>0</th>\n",
       "      <td>7</td>\n",
       "      <td>7.444833</td>\n",
       "      <td>2</td>\n",
       "      <td>548</td>\n",
       "      <td>6.753438</td>\n",
       "      <td>6.753438</td>\n",
       "      <td>2</td>\n",
       "      <td>2.197225</td>\n",
       "      <td>7.602900</td>\n",
       "      <td>7.602900</td>\n",
       "      <td>5.283204</td>\n",
       "      <td>0.000000</td>\n",
       "      <td>RFn</td>\n",
       "      <td>Gd</td>\n",
       "      <td>Gd</td>\n",
       "      <td>Gd</td>\n",
       "      <td>12.247699</td>\n",
       "    </tr>\n",
       "    <tr>\n",
       "      <th>1</th>\n",
       "      <td>6</td>\n",
       "      <td>7.141245</td>\n",
       "      <td>2</td>\n",
       "      <td>460</td>\n",
       "      <td>7.141245</td>\n",
       "      <td>7.141245</td>\n",
       "      <td>2</td>\n",
       "      <td>1.945910</td>\n",
       "      <td>7.589336</td>\n",
       "      <td>7.589336</td>\n",
       "      <td>0.000000</td>\n",
       "      <td>0.693147</td>\n",
       "      <td>RFn</td>\n",
       "      <td>TA</td>\n",
       "      <td>Gd</td>\n",
       "      <td>TA</td>\n",
       "      <td>12.109016</td>\n",
       "    </tr>\n",
       "    <tr>\n",
       "      <th>2</th>\n",
       "      <td>7</td>\n",
       "      <td>7.488294</td>\n",
       "      <td>2</td>\n",
       "      <td>608</td>\n",
       "      <td>6.825460</td>\n",
       "      <td>6.825460</td>\n",
       "      <td>2</td>\n",
       "      <td>1.945910</td>\n",
       "      <td>7.601902</td>\n",
       "      <td>7.602401</td>\n",
       "      <td>5.093750</td>\n",
       "      <td>0.693147</td>\n",
       "      <td>RFn</td>\n",
       "      <td>Gd</td>\n",
       "      <td>Gd</td>\n",
       "      <td>Gd</td>\n",
       "      <td>12.317171</td>\n",
       "    </tr>\n",
       "    <tr>\n",
       "      <th>3</th>\n",
       "      <td>7</td>\n",
       "      <td>7.448916</td>\n",
       "      <td>3</td>\n",
       "      <td>642</td>\n",
       "      <td>6.629363</td>\n",
       "      <td>6.869014</td>\n",
       "      <td>1</td>\n",
       "      <td>2.079442</td>\n",
       "      <td>7.557995</td>\n",
       "      <td>7.586296</td>\n",
       "      <td>0.000000</td>\n",
       "      <td>0.693147</td>\n",
       "      <td>Unf</td>\n",
       "      <td>Gd</td>\n",
       "      <td>TA</td>\n",
       "      <td>TA</td>\n",
       "      <td>11.849405</td>\n",
       "    </tr>\n",
       "    <tr>\n",
       "      <th>4</th>\n",
       "      <td>8</td>\n",
       "      <td>7.695758</td>\n",
       "      <td>3</td>\n",
       "      <td>836</td>\n",
       "      <td>7.044033</td>\n",
       "      <td>7.044033</td>\n",
       "      <td>2</td>\n",
       "      <td>2.302585</td>\n",
       "      <td>7.601402</td>\n",
       "      <td>7.601402</td>\n",
       "      <td>5.860786</td>\n",
       "      <td>0.693147</td>\n",
       "      <td>RFn</td>\n",
       "      <td>Gd</td>\n",
       "      <td>Gd</td>\n",
       "      <td>Gd</td>\n",
       "      <td>12.429220</td>\n",
       "    </tr>\n",
       "  </tbody>\n",
       "</table>\n",
       "</div>"
      ],
      "text/plain": [
       "   OverallQual  GrLivArea  GarageCars  GarageArea  TotalBsmtSF  1stFlrSF  \\\n",
       "0            7   7.444833           2         548     6.753438  6.753438   \n",
       "1            6   7.141245           2         460     7.141245  7.141245   \n",
       "2            7   7.488294           2         608     6.825460  6.825460   \n",
       "3            7   7.448916           3         642     6.629363  6.869014   \n",
       "4            8   7.695758           3         836     7.044033  7.044033   \n",
       "\n",
       "   FullBath  TotRmsAbvGrd  YearBuilt  YearRemodAdd  MasVnrArea  Fireplaces  \\\n",
       "0         2      2.197225   7.602900      7.602900    5.283204    0.000000   \n",
       "1         2      1.945910   7.589336      7.589336    0.000000    0.693147   \n",
       "2         2      1.945910   7.601902      7.602401    5.093750    0.693147   \n",
       "3         1      2.079442   7.557995      7.586296    0.000000    0.693147   \n",
       "4         2      2.302585   7.601402      7.601402    5.860786    0.693147   \n",
       "\n",
       "  GarageFinish KitchenQual BsmtQual ExterQual  SalePrice  \n",
       "0          RFn          Gd       Gd        Gd  12.247699  \n",
       "1          RFn          TA       Gd        TA  12.109016  \n",
       "2          RFn          Gd       Gd        Gd  12.317171  \n",
       "3          Unf          Gd       TA        TA  11.849405  \n",
       "4          RFn          Gd       Gd        Gd  12.429220  "
      ]
     },
     "execution_count": 47,
     "metadata": {},
     "output_type": "execute_result"
    }
   ],
   "source": [
    "features = train_data[['OverallQual', 'GrLivArea', \n",
    "                       'GarageCars', 'GarageArea', \n",
    "                       'TotalBsmtSF', '1stFlrSF', \n",
    "                       'FullBath', 'TotRmsAbvGrd', \n",
    "                       'YearBuilt', 'YearRemodAdd', \n",
    "                       'MasVnrArea', 'Fireplaces', \n",
    "                       'GarageFinish', 'KitchenQual', \n",
    "                       'BsmtQual', 'ExterQual', 'SalePrice']]\n",
    "features.head()"
   ]
  },
  {
   "cell_type": "code",
   "execution_count": 48,
   "metadata": {
    "execution": {
     "iopub.execute_input": "2021-09-08T20:51:21.270520Z",
     "iopub.status.busy": "2021-09-08T20:51:21.269762Z",
     "iopub.status.idle": "2021-09-08T20:51:21.273838Z",
     "shell.execute_reply": "2021-09-08T20:51:21.274305Z",
     "shell.execute_reply.started": "2021-09-08T20:33:08.895478Z"
    },
    "papermill": {
     "duration": 0.100423,
     "end_time": "2021-09-08T20:51:21.274499",
     "exception": false,
     "start_time": "2021-09-08T20:51:21.174076",
     "status": "completed"
    },
    "tags": []
   },
   "outputs": [
    {
     "data": {
      "text/plain": [
       "(1460, 17)"
      ]
     },
     "execution_count": 48,
     "metadata": {},
     "output_type": "execute_result"
    }
   ],
   "source": [
    "features.shape"
   ]
  },
  {
   "cell_type": "code",
   "execution_count": 49,
   "metadata": {
    "execution": {
     "iopub.execute_input": "2021-09-08T20:51:21.469636Z",
     "iopub.status.busy": "2021-09-08T20:51:21.468491Z",
     "iopub.status.idle": "2021-09-08T20:51:21.472893Z",
     "shell.execute_reply": "2021-09-08T20:51:21.473334Z",
     "shell.execute_reply.started": "2021-09-08T20:33:08.905676Z"
    },
    "papermill": {
     "duration": 0.108195,
     "end_time": "2021-09-08T20:51:21.473531",
     "exception": false,
     "start_time": "2021-09-08T20:51:21.365336",
     "status": "completed"
    },
    "tags": []
   },
   "outputs": [
    {
     "data": {
      "text/html": [
       "<div>\n",
       "<style scoped>\n",
       "    .dataframe tbody tr th:only-of-type {\n",
       "        vertical-align: middle;\n",
       "    }\n",
       "\n",
       "    .dataframe tbody tr th {\n",
       "        vertical-align: top;\n",
       "    }\n",
       "\n",
       "    .dataframe thead th {\n",
       "        text-align: right;\n",
       "    }\n",
       "</style>\n",
       "<table border=\"1\" class=\"dataframe\">\n",
       "  <thead>\n",
       "    <tr style=\"text-align: right;\">\n",
       "      <th></th>\n",
       "      <th>GarageFinish</th>\n",
       "      <th>KitchenQual</th>\n",
       "      <th>BsmtQual</th>\n",
       "      <th>ExterQual</th>\n",
       "    </tr>\n",
       "  </thead>\n",
       "  <tbody>\n",
       "    <tr>\n",
       "      <th>0</th>\n",
       "      <td>RFn</td>\n",
       "      <td>Gd</td>\n",
       "      <td>Gd</td>\n",
       "      <td>Gd</td>\n",
       "    </tr>\n",
       "    <tr>\n",
       "      <th>1</th>\n",
       "      <td>RFn</td>\n",
       "      <td>TA</td>\n",
       "      <td>Gd</td>\n",
       "      <td>TA</td>\n",
       "    </tr>\n",
       "    <tr>\n",
       "      <th>2</th>\n",
       "      <td>RFn</td>\n",
       "      <td>Gd</td>\n",
       "      <td>Gd</td>\n",
       "      <td>Gd</td>\n",
       "    </tr>\n",
       "    <tr>\n",
       "      <th>3</th>\n",
       "      <td>Unf</td>\n",
       "      <td>Gd</td>\n",
       "      <td>TA</td>\n",
       "      <td>TA</td>\n",
       "    </tr>\n",
       "    <tr>\n",
       "      <th>4</th>\n",
       "      <td>RFn</td>\n",
       "      <td>Gd</td>\n",
       "      <td>Gd</td>\n",
       "      <td>Gd</td>\n",
       "    </tr>\n",
       "  </tbody>\n",
       "</table>\n",
       "</div>"
      ],
      "text/plain": [
       "  GarageFinish KitchenQual BsmtQual ExterQual\n",
       "0          RFn          Gd       Gd        Gd\n",
       "1          RFn          TA       Gd        TA\n",
       "2          RFn          Gd       Gd        Gd\n",
       "3          Unf          Gd       TA        TA\n",
       "4          RFn          Gd       Gd        Gd"
      ]
     },
     "execution_count": 49,
     "metadata": {},
     "output_type": "execute_result"
    }
   ],
   "source": [
    "features.select_dtypes('object').head()"
   ]
  },
  {
   "cell_type": "code",
   "execution_count": 50,
   "metadata": {
    "execution": {
     "iopub.execute_input": "2021-09-08T20:51:21.661794Z",
     "iopub.status.busy": "2021-09-08T20:51:21.661138Z",
     "iopub.status.idle": "2021-09-08T20:51:21.665649Z",
     "shell.execute_reply": "2021-09-08T20:51:21.666227Z",
     "shell.execute_reply.started": "2021-09-08T20:33:08.929613Z"
    },
    "papermill": {
     "duration": 0.100513,
     "end_time": "2021-09-08T20:51:21.666447",
     "exception": false,
     "start_time": "2021-09-08T20:51:21.565934",
     "status": "completed"
    },
    "tags": []
   },
   "outputs": [],
   "source": [
    "ordinal_features = ['KitchenQual',\n",
    "                    'BsmtQual',\n",
    "                    'ExterQual']\n",
    "\n",
    "nominal_features = 'GarageFinish'"
   ]
  },
  {
   "cell_type": "code",
   "execution_count": 51,
   "metadata": {
    "execution": {
     "iopub.execute_input": "2021-09-08T20:51:21.856674Z",
     "iopub.status.busy": "2021-09-08T20:51:21.855971Z",
     "iopub.status.idle": "2021-09-08T20:51:21.859342Z",
     "shell.execute_reply": "2021-09-08T20:51:21.858806Z",
     "shell.execute_reply.started": "2021-09-08T20:33:08.938987Z"
    },
    "papermill": {
     "duration": 0.099851,
     "end_time": "2021-09-08T20:51:21.859518",
     "exception": false,
     "start_time": "2021-09-08T20:51:21.759667",
     "status": "completed"
    },
    "tags": []
   },
   "outputs": [],
   "source": [
    "ordinal_orderings = [\n",
    "    ['Ex', 'Gd', 'TA', 'Fa', 'Po'],\n",
    "    ['Ex', 'Gd', 'TA', 'Fa', 'Po', 'none'],\n",
    "    ['Ex', 'Gd', 'TA', 'Fa', 'Po']\n",
    "]"
   ]
  },
  {
   "cell_type": "code",
   "execution_count": 52,
   "metadata": {
    "execution": {
     "iopub.execute_input": "2021-09-08T20:51:22.058704Z",
     "iopub.status.busy": "2021-09-08T20:51:22.054696Z",
     "iopub.status.idle": "2021-09-08T20:51:22.086225Z",
     "shell.execute_reply": "2021-09-08T20:51:22.085690Z",
     "shell.execute_reply.started": "2021-09-08T20:33:08.952994Z"
    },
    "papermill": {
     "duration": 0.134435,
     "end_time": "2021-09-08T20:51:22.086374",
     "exception": false,
     "start_time": "2021-09-08T20:51:21.951939",
     "status": "completed"
    },
    "tags": []
   },
   "outputs": [
    {
     "data": {
      "text/html": [
       "<div>\n",
       "<style scoped>\n",
       "    .dataframe tbody tr th:only-of-type {\n",
       "        vertical-align: middle;\n",
       "    }\n",
       "\n",
       "    .dataframe tbody tr th {\n",
       "        vertical-align: top;\n",
       "    }\n",
       "\n",
       "    .dataframe thead th {\n",
       "        text-align: right;\n",
       "    }\n",
       "</style>\n",
       "<table border=\"1\" class=\"dataframe\">\n",
       "  <thead>\n",
       "    <tr style=\"text-align: right;\">\n",
       "      <th></th>\n",
       "      <th>OverallQual</th>\n",
       "      <th>GrLivArea</th>\n",
       "      <th>GarageCars</th>\n",
       "      <th>GarageArea</th>\n",
       "      <th>TotalBsmtSF</th>\n",
       "      <th>1stFlrSF</th>\n",
       "      <th>FullBath</th>\n",
       "      <th>TotRmsAbvGrd</th>\n",
       "      <th>YearBuilt</th>\n",
       "      <th>YearRemodAdd</th>\n",
       "      <th>MasVnrArea</th>\n",
       "      <th>Fireplaces</th>\n",
       "      <th>KitchenQual</th>\n",
       "      <th>BsmtQual</th>\n",
       "      <th>ExterQual</th>\n",
       "      <th>SalePrice</th>\n",
       "      <th>Fin</th>\n",
       "      <th>RFn</th>\n",
       "      <th>Unf</th>\n",
       "      <th>none</th>\n",
       "    </tr>\n",
       "  </thead>\n",
       "  <tbody>\n",
       "    <tr>\n",
       "      <th>0</th>\n",
       "      <td>7</td>\n",
       "      <td>7.444833</td>\n",
       "      <td>2</td>\n",
       "      <td>548</td>\n",
       "      <td>6.753438</td>\n",
       "      <td>6.753438</td>\n",
       "      <td>2</td>\n",
       "      <td>2.197225</td>\n",
       "      <td>7.602900</td>\n",
       "      <td>7.602900</td>\n",
       "      <td>5.283204</td>\n",
       "      <td>0.000000</td>\n",
       "      <td>1</td>\n",
       "      <td>1</td>\n",
       "      <td>1</td>\n",
       "      <td>12.247699</td>\n",
       "      <td>0</td>\n",
       "      <td>1</td>\n",
       "      <td>0</td>\n",
       "      <td>0</td>\n",
       "    </tr>\n",
       "    <tr>\n",
       "      <th>1</th>\n",
       "      <td>6</td>\n",
       "      <td>7.141245</td>\n",
       "      <td>2</td>\n",
       "      <td>460</td>\n",
       "      <td>7.141245</td>\n",
       "      <td>7.141245</td>\n",
       "      <td>2</td>\n",
       "      <td>1.945910</td>\n",
       "      <td>7.589336</td>\n",
       "      <td>7.589336</td>\n",
       "      <td>0.000000</td>\n",
       "      <td>0.693147</td>\n",
       "      <td>2</td>\n",
       "      <td>1</td>\n",
       "      <td>2</td>\n",
       "      <td>12.109016</td>\n",
       "      <td>0</td>\n",
       "      <td>1</td>\n",
       "      <td>0</td>\n",
       "      <td>0</td>\n",
       "    </tr>\n",
       "    <tr>\n",
       "      <th>2</th>\n",
       "      <td>7</td>\n",
       "      <td>7.488294</td>\n",
       "      <td>2</td>\n",
       "      <td>608</td>\n",
       "      <td>6.825460</td>\n",
       "      <td>6.825460</td>\n",
       "      <td>2</td>\n",
       "      <td>1.945910</td>\n",
       "      <td>7.601902</td>\n",
       "      <td>7.602401</td>\n",
       "      <td>5.093750</td>\n",
       "      <td>0.693147</td>\n",
       "      <td>1</td>\n",
       "      <td>1</td>\n",
       "      <td>1</td>\n",
       "      <td>12.317171</td>\n",
       "      <td>0</td>\n",
       "      <td>1</td>\n",
       "      <td>0</td>\n",
       "      <td>0</td>\n",
       "    </tr>\n",
       "    <tr>\n",
       "      <th>3</th>\n",
       "      <td>7</td>\n",
       "      <td>7.448916</td>\n",
       "      <td>3</td>\n",
       "      <td>642</td>\n",
       "      <td>6.629363</td>\n",
       "      <td>6.869014</td>\n",
       "      <td>1</td>\n",
       "      <td>2.079442</td>\n",
       "      <td>7.557995</td>\n",
       "      <td>7.586296</td>\n",
       "      <td>0.000000</td>\n",
       "      <td>0.693147</td>\n",
       "      <td>1</td>\n",
       "      <td>2</td>\n",
       "      <td>2</td>\n",
       "      <td>11.849405</td>\n",
       "      <td>0</td>\n",
       "      <td>0</td>\n",
       "      <td>1</td>\n",
       "      <td>0</td>\n",
       "    </tr>\n",
       "    <tr>\n",
       "      <th>4</th>\n",
       "      <td>8</td>\n",
       "      <td>7.695758</td>\n",
       "      <td>3</td>\n",
       "      <td>836</td>\n",
       "      <td>7.044033</td>\n",
       "      <td>7.044033</td>\n",
       "      <td>2</td>\n",
       "      <td>2.302585</td>\n",
       "      <td>7.601402</td>\n",
       "      <td>7.601402</td>\n",
       "      <td>5.860786</td>\n",
       "      <td>0.693147</td>\n",
       "      <td>1</td>\n",
       "      <td>1</td>\n",
       "      <td>1</td>\n",
       "      <td>12.429220</td>\n",
       "      <td>0</td>\n",
       "      <td>1</td>\n",
       "      <td>0</td>\n",
       "      <td>0</td>\n",
       "    </tr>\n",
       "  </tbody>\n",
       "</table>\n",
       "</div>"
      ],
      "text/plain": [
       "   OverallQual  GrLivArea  GarageCars  GarageArea  TotalBsmtSF  1stFlrSF  \\\n",
       "0            7   7.444833           2         548     6.753438  6.753438   \n",
       "1            6   7.141245           2         460     7.141245  7.141245   \n",
       "2            7   7.488294           2         608     6.825460  6.825460   \n",
       "3            7   7.448916           3         642     6.629363  6.869014   \n",
       "4            8   7.695758           3         836     7.044033  7.044033   \n",
       "\n",
       "   FullBath  TotRmsAbvGrd  YearBuilt  YearRemodAdd  MasVnrArea  Fireplaces  \\\n",
       "0         2      2.197225   7.602900      7.602900    5.283204    0.000000   \n",
       "1         2      1.945910   7.589336      7.589336    0.000000    0.693147   \n",
       "2         2      1.945910   7.601902      7.602401    5.093750    0.693147   \n",
       "3         1      2.079442   7.557995      7.586296    0.000000    0.693147   \n",
       "4         2      2.302585   7.601402      7.601402    5.860786    0.693147   \n",
       "\n",
       "   KitchenQual  BsmtQual  ExterQual  SalePrice  Fin  RFn  Unf  none  \n",
       "0            1         1          1  12.247699    0    1    0     0  \n",
       "1            2         1          2  12.109016    0    1    0     0  \n",
       "2            1         1          1  12.317171    0    1    0     0  \n",
       "3            1         2          2  11.849405    0    0    1     0  \n",
       "4            1         1          1  12.429220    0    1    0     0  "
      ]
     },
     "execution_count": 52,
     "metadata": {},
     "output_type": "execute_result"
    }
   ],
   "source": [
    "#Ordinal Encoding\n",
    "def ordinal_encode(df, columns, orderings):\n",
    "    df = df.copy()\n",
    "    for column, ordering in zip(columns, orderings):\n",
    "        df[column] = df[column].apply(lambda x: ordering.index(x))\n",
    "    return df\n",
    "\n",
    "#One-hot Encode Categorical Variables\n",
    "def onehot_encode(df):\n",
    "    df = df.copy()\n",
    "    for column in df[[nominal_features]]:\n",
    "        features_one_hot = pd.get_dummies(df[column])\n",
    "        df = pd.concat([df, features_one_hot], axis =1)\n",
    "        df = df.drop(column, axis=1)\n",
    "    return df\n",
    "\n",
    "data = ordinal_encode(features, ordinal_features, ordinal_orderings)\n",
    "data = onehot_encode(data)\n",
    "data.head()"
   ]
  },
  {
   "cell_type": "code",
   "execution_count": 53,
   "metadata": {
    "execution": {
     "iopub.execute_input": "2021-09-08T20:51:22.280988Z",
     "iopub.status.busy": "2021-09-08T20:51:22.280142Z",
     "iopub.status.idle": "2021-09-08T20:51:22.283631Z",
     "shell.execute_reply": "2021-09-08T20:51:22.284217Z",
     "shell.execute_reply.started": "2021-09-08T20:33:08.998536Z"
    },
    "papermill": {
     "duration": 0.104276,
     "end_time": "2021-09-08T20:51:22.284382",
     "exception": false,
     "start_time": "2021-09-08T20:51:22.180106",
     "status": "completed"
    },
    "tags": []
   },
   "outputs": [
    {
     "data": {
      "text/plain": [
       "(1460, 20)"
      ]
     },
     "execution_count": 53,
     "metadata": {},
     "output_type": "execute_result"
    }
   ],
   "source": [
    "data.shape"
   ]
  },
  {
   "cell_type": "code",
   "execution_count": 54,
   "metadata": {
    "execution": {
     "iopub.execute_input": "2021-09-08T20:51:22.472439Z",
     "iopub.status.busy": "2021-09-08T20:51:22.471421Z",
     "iopub.status.idle": "2021-09-08T20:51:22.502109Z",
     "shell.execute_reply": "2021-09-08T20:51:22.501597Z",
     "shell.execute_reply.started": "2021-09-08T20:33:09.007272Z"
    },
    "papermill": {
     "duration": 0.125529,
     "end_time": "2021-09-08T20:51:22.502250",
     "exception": false,
     "start_time": "2021-09-08T20:51:22.376721",
     "status": "completed"
    },
    "tags": []
   },
   "outputs": [
    {
     "data": {
      "text/html": [
       "<div>\n",
       "<style scoped>\n",
       "    .dataframe tbody tr th:only-of-type {\n",
       "        vertical-align: middle;\n",
       "    }\n",
       "\n",
       "    .dataframe tbody tr th {\n",
       "        vertical-align: top;\n",
       "    }\n",
       "\n",
       "    .dataframe thead th {\n",
       "        text-align: right;\n",
       "    }\n",
       "</style>\n",
       "<table border=\"1\" class=\"dataframe\">\n",
       "  <thead>\n",
       "    <tr style=\"text-align: right;\">\n",
       "      <th></th>\n",
       "      <th>OverallQual</th>\n",
       "      <th>GrLivArea</th>\n",
       "      <th>GarageCars</th>\n",
       "      <th>GarageArea</th>\n",
       "      <th>TotalBsmtSF</th>\n",
       "      <th>1stFlrSF</th>\n",
       "      <th>FullBath</th>\n",
       "      <th>TotRmsAbvGrd</th>\n",
       "      <th>YearBuilt</th>\n",
       "      <th>YearRemodAdd</th>\n",
       "      <th>MasVnrArea</th>\n",
       "      <th>Fireplaces</th>\n",
       "      <th>KitchenQual</th>\n",
       "      <th>BsmtQual</th>\n",
       "      <th>ExterQual</th>\n",
       "      <th>SalePrice</th>\n",
       "      <th>Fin</th>\n",
       "      <th>RFn</th>\n",
       "      <th>Unf</th>\n",
       "      <th>none</th>\n",
       "    </tr>\n",
       "  </thead>\n",
       "  <tbody>\n",
       "    <tr>\n",
       "      <th>0</th>\n",
       "      <td>7.0</td>\n",
       "      <td>7.444833</td>\n",
       "      <td>2.0</td>\n",
       "      <td>548.0</td>\n",
       "      <td>6.753438</td>\n",
       "      <td>6.753438</td>\n",
       "      <td>2.0</td>\n",
       "      <td>2.197225</td>\n",
       "      <td>7.602900</td>\n",
       "      <td>7.602900</td>\n",
       "      <td>5.283204</td>\n",
       "      <td>0.000000</td>\n",
       "      <td>1.0</td>\n",
       "      <td>1.0</td>\n",
       "      <td>1.0</td>\n",
       "      <td>12.247699</td>\n",
       "      <td>0.0</td>\n",
       "      <td>1.0</td>\n",
       "      <td>0.0</td>\n",
       "      <td>0.0</td>\n",
       "    </tr>\n",
       "    <tr>\n",
       "      <th>1</th>\n",
       "      <td>6.0</td>\n",
       "      <td>7.141245</td>\n",
       "      <td>2.0</td>\n",
       "      <td>460.0</td>\n",
       "      <td>7.141245</td>\n",
       "      <td>7.141245</td>\n",
       "      <td>2.0</td>\n",
       "      <td>1.945910</td>\n",
       "      <td>7.589336</td>\n",
       "      <td>7.589336</td>\n",
       "      <td>0.000000</td>\n",
       "      <td>0.693147</td>\n",
       "      <td>2.0</td>\n",
       "      <td>1.0</td>\n",
       "      <td>2.0</td>\n",
       "      <td>12.109016</td>\n",
       "      <td>0.0</td>\n",
       "      <td>1.0</td>\n",
       "      <td>0.0</td>\n",
       "      <td>0.0</td>\n",
       "    </tr>\n",
       "    <tr>\n",
       "      <th>2</th>\n",
       "      <td>7.0</td>\n",
       "      <td>7.488294</td>\n",
       "      <td>2.0</td>\n",
       "      <td>608.0</td>\n",
       "      <td>6.825460</td>\n",
       "      <td>6.825460</td>\n",
       "      <td>2.0</td>\n",
       "      <td>1.945910</td>\n",
       "      <td>7.601902</td>\n",
       "      <td>7.602401</td>\n",
       "      <td>5.093750</td>\n",
       "      <td>0.693147</td>\n",
       "      <td>1.0</td>\n",
       "      <td>1.0</td>\n",
       "      <td>1.0</td>\n",
       "      <td>12.317171</td>\n",
       "      <td>0.0</td>\n",
       "      <td>1.0</td>\n",
       "      <td>0.0</td>\n",
       "      <td>0.0</td>\n",
       "    </tr>\n",
       "    <tr>\n",
       "      <th>3</th>\n",
       "      <td>7.0</td>\n",
       "      <td>7.448916</td>\n",
       "      <td>3.0</td>\n",
       "      <td>642.0</td>\n",
       "      <td>6.629363</td>\n",
       "      <td>6.869014</td>\n",
       "      <td>1.0</td>\n",
       "      <td>2.079442</td>\n",
       "      <td>7.557995</td>\n",
       "      <td>7.586296</td>\n",
       "      <td>0.000000</td>\n",
       "      <td>0.693147</td>\n",
       "      <td>1.0</td>\n",
       "      <td>2.0</td>\n",
       "      <td>2.0</td>\n",
       "      <td>11.849405</td>\n",
       "      <td>0.0</td>\n",
       "      <td>0.0</td>\n",
       "      <td>1.0</td>\n",
       "      <td>0.0</td>\n",
       "    </tr>\n",
       "    <tr>\n",
       "      <th>4</th>\n",
       "      <td>8.0</td>\n",
       "      <td>7.695758</td>\n",
       "      <td>3.0</td>\n",
       "      <td>836.0</td>\n",
       "      <td>7.044033</td>\n",
       "      <td>7.044033</td>\n",
       "      <td>2.0</td>\n",
       "      <td>2.302585</td>\n",
       "      <td>7.601402</td>\n",
       "      <td>7.601402</td>\n",
       "      <td>5.860786</td>\n",
       "      <td>0.693147</td>\n",
       "      <td>1.0</td>\n",
       "      <td>1.0</td>\n",
       "      <td>1.0</td>\n",
       "      <td>12.429220</td>\n",
       "      <td>0.0</td>\n",
       "      <td>1.0</td>\n",
       "      <td>0.0</td>\n",
       "      <td>0.0</td>\n",
       "    </tr>\n",
       "  </tbody>\n",
       "</table>\n",
       "</div>"
      ],
      "text/plain": [
       "   OverallQual  GrLivArea  GarageCars  GarageArea  TotalBsmtSF  1stFlrSF  \\\n",
       "0          7.0   7.444833         2.0       548.0     6.753438  6.753438   \n",
       "1          6.0   7.141245         2.0       460.0     7.141245  7.141245   \n",
       "2          7.0   7.488294         2.0       608.0     6.825460  6.825460   \n",
       "3          7.0   7.448916         3.0       642.0     6.629363  6.869014   \n",
       "4          8.0   7.695758         3.0       836.0     7.044033  7.044033   \n",
       "\n",
       "   FullBath  TotRmsAbvGrd  YearBuilt  YearRemodAdd  MasVnrArea  Fireplaces  \\\n",
       "0       2.0      2.197225   7.602900      7.602900    5.283204    0.000000   \n",
       "1       2.0      1.945910   7.589336      7.589336    0.000000    0.693147   \n",
       "2       2.0      1.945910   7.601902      7.602401    5.093750    0.693147   \n",
       "3       1.0      2.079442   7.557995      7.586296    0.000000    0.693147   \n",
       "4       2.0      2.302585   7.601402      7.601402    5.860786    0.693147   \n",
       "\n",
       "   KitchenQual  BsmtQual  ExterQual  SalePrice  Fin  RFn  Unf  none  \n",
       "0          1.0       1.0        1.0  12.247699  0.0  1.0  0.0   0.0  \n",
       "1          2.0       1.0        2.0  12.109016  0.0  1.0  0.0   0.0  \n",
       "2          1.0       1.0        1.0  12.317171  0.0  1.0  0.0   0.0  \n",
       "3          1.0       2.0        2.0  11.849405  0.0  0.0  1.0   0.0  \n",
       "4          1.0       1.0        1.0  12.429220  0.0  1.0  0.0   0.0  "
      ]
     },
     "execution_count": 54,
     "metadata": {},
     "output_type": "execute_result"
    }
   ],
   "source": [
    "data = data.astype('float64')\n",
    "data.head()"
   ]
  },
  {
   "cell_type": "markdown",
   "metadata": {
    "papermill": {
     "duration": 0.093403,
     "end_time": "2021-09-08T20:51:22.688501",
     "exception": false,
     "start_time": "2021-09-08T20:51:22.595098",
     "status": "completed"
    },
    "tags": []
   },
   "source": [
    "# Data Preprocessing"
   ]
  },
  {
   "cell_type": "code",
   "execution_count": 55,
   "metadata": {
    "execution": {
     "iopub.execute_input": "2021-09-08T20:51:22.883093Z",
     "iopub.status.busy": "2021-09-08T20:51:22.882413Z",
     "iopub.status.idle": "2021-09-08T20:51:22.885976Z",
     "shell.execute_reply": "2021-09-08T20:51:22.885313Z",
     "shell.execute_reply.started": "2021-09-08T20:33:09.049538Z"
    },
    "papermill": {
     "duration": 0.104413,
     "end_time": "2021-09-08T20:51:22.886125",
     "exception": false,
     "start_time": "2021-09-08T20:51:22.781712",
     "status": "completed"
    },
    "tags": []
   },
   "outputs": [],
   "source": [
    "def preprocessing_inputs(df):\n",
    "    df = df.copy()\n",
    "    \n",
    "    #Split DataFrame\n",
    "    y = df['SalePrice']\n",
    "    X = df.drop('SalePrice', axis=1)\n",
    "    \n",
    "    #Train Test Split\n",
    "    X_train, X_test, y_train, y_test = train_test_split(X, y, test_size=0.3, random_state=1)\n",
    "    \n",
    "    #Scale X\n",
    "    scaler = StandardScaler()\n",
    "    X_train = scaler.fit(X_train).transform(X_train)\n",
    "    X_test = scaler.fit(X_test).transform(X_test)\n",
    "    \n",
    "    return X_train, X_test, y_train, y_test"
   ]
  },
  {
   "cell_type": "code",
   "execution_count": 56,
   "metadata": {
    "execution": {
     "iopub.execute_input": "2021-09-08T20:51:23.080603Z",
     "iopub.status.busy": "2021-09-08T20:51:23.079903Z",
     "iopub.status.idle": "2021-09-08T20:51:23.095081Z",
     "shell.execute_reply": "2021-09-08T20:51:23.094494Z",
     "shell.execute_reply.started": "2021-09-08T20:33:09.057279Z"
    },
    "papermill": {
     "duration": 0.115704,
     "end_time": "2021-09-08T20:51:23.095217",
     "exception": false,
     "start_time": "2021-09-08T20:51:22.979513",
     "status": "completed"
    },
    "tags": []
   },
   "outputs": [],
   "source": [
    "X_train, X_test, y_train, y_test = preprocessing_inputs(data)"
   ]
  },
  {
   "cell_type": "code",
   "execution_count": 57,
   "metadata": {
    "execution": {
     "iopub.execute_input": "2021-09-08T20:51:23.286458Z",
     "iopub.status.busy": "2021-09-08T20:51:23.285794Z",
     "iopub.status.idle": "2021-09-08T20:51:23.290109Z",
     "shell.execute_reply": "2021-09-08T20:51:23.290643Z",
     "shell.execute_reply.started": "2021-09-08T20:33:09.087231Z"
    },
    "papermill": {
     "duration": 0.102573,
     "end_time": "2021-09-08T20:51:23.290834",
     "exception": false,
     "start_time": "2021-09-08T20:51:23.188261",
     "status": "completed"
    },
    "tags": []
   },
   "outputs": [
    {
     "name": "stdout",
     "output_type": "stream",
     "text": [
      "Train set: (1022, 19) (1022,)\n",
      "Test set: (438, 19) (438,)\n"
     ]
    }
   ],
   "source": [
    "print('Train set:', X_train.shape, y_train.shape)\n",
    "print('Test set:', X_test.shape, y_test.shape)"
   ]
  },
  {
   "cell_type": "markdown",
   "metadata": {
    "papermill": {
     "duration": 0.096771,
     "end_time": "2021-09-08T20:51:23.481195",
     "exception": false,
     "start_time": "2021-09-08T20:51:23.384424",
     "status": "completed"
    },
    "tags": []
   },
   "source": [
    "# Model Training"
   ]
  },
  {
   "cell_type": "markdown",
   "metadata": {
    "papermill": {
     "duration": 0.093075,
     "end_time": "2021-09-08T20:51:23.667567",
     "exception": false,
     "start_time": "2021-09-08T20:51:23.574492",
     "status": "completed"
    },
    "tags": []
   },
   "source": [
    "## Linear Regression"
   ]
  },
  {
   "cell_type": "code",
   "execution_count": 58,
   "metadata": {
    "execution": {
     "iopub.execute_input": "2021-09-08T20:51:23.857070Z",
     "iopub.status.busy": "2021-09-08T20:51:23.856443Z",
     "iopub.status.idle": "2021-09-08T20:51:24.049161Z",
     "shell.execute_reply": "2021-09-08T20:51:24.048501Z",
     "shell.execute_reply.started": "2021-09-08T20:33:09.0949Z"
    },
    "papermill": {
     "duration": 0.288623,
     "end_time": "2021-09-08T20:51:24.049305",
     "exception": false,
     "start_time": "2021-09-08T20:51:23.760682",
     "status": "completed"
    },
    "tags": []
   },
   "outputs": [
    {
     "name": "stdout",
     "output_type": "stream",
     "text": [
      "Linear Regression Model Trained\n"
     ]
    }
   ],
   "source": [
    "linreg = LinearRegression()\n",
    "linreg.fit(X_train, y_train)\n",
    "print('Linear Regression Model Trained')"
   ]
  },
  {
   "cell_type": "markdown",
   "metadata": {
    "papermill": {
     "duration": 0.0931,
     "end_time": "2021-09-08T20:51:24.236737",
     "exception": false,
     "start_time": "2021-09-08T20:51:24.143637",
     "status": "completed"
    },
    "tags": []
   },
   "source": [
    "## Ridge Regression"
   ]
  },
  {
   "cell_type": "code",
   "execution_count": 59,
   "metadata": {
    "execution": {
     "iopub.execute_input": "2021-09-08T20:51:24.429231Z",
     "iopub.status.busy": "2021-09-08T20:51:24.428332Z",
     "iopub.status.idle": "2021-09-08T20:51:24.431292Z",
     "shell.execute_reply": "2021-09-08T20:51:24.430806Z",
     "shell.execute_reply.started": "2021-09-08T20:33:09.122125Z"
    },
    "papermill": {
     "duration": 0.101343,
     "end_time": "2021-09-08T20:51:24.431458",
     "exception": false,
     "start_time": "2021-09-08T20:51:24.330115",
     "status": "completed"
    },
    "tags": []
   },
   "outputs": [],
   "source": [
    "parameters = {'alpha':[0.001, 0.01, 0.1, 1, 10, 100, 1000],\n",
    "              'solver': ['auto', 'svd', 'cholesky', 'lsqr', 'sparse_cg', 'sag', 'saga']}"
   ]
  },
  {
   "cell_type": "code",
   "execution_count": 60,
   "metadata": {
    "execution": {
     "iopub.execute_input": "2021-09-08T20:51:24.627403Z",
     "iopub.status.busy": "2021-09-08T20:51:24.626648Z",
     "iopub.status.idle": "2021-09-08T20:51:28.158695Z",
     "shell.execute_reply": "2021-09-08T20:51:28.156082Z",
     "shell.execute_reply.started": "2021-09-08T20:33:09.128469Z"
    },
    "papermill": {
     "duration": 3.634076,
     "end_time": "2021-09-08T20:51:28.158949",
     "exception": false,
     "start_time": "2021-09-08T20:51:24.524873",
     "status": "completed"
    },
    "tags": []
   },
   "outputs": [
    {
     "name": "stdout",
     "output_type": "stream",
     "text": [
      "Ridge Regression Model Trained\n"
     ]
    }
   ],
   "source": [
    "ridge = Ridge()\n",
    "ridge_cv = GridSearchCV(estimator=ridge, param_grid=parameters, cv=10)\n",
    "ridge_cv.fit(X_train, y_train)\n",
    "print('Ridge Regression Model Trained')"
   ]
  },
  {
   "cell_type": "code",
   "execution_count": 61,
   "metadata": {
    "execution": {
     "iopub.execute_input": "2021-09-08T20:51:28.405599Z",
     "iopub.status.busy": "2021-09-08T20:51:28.404922Z",
     "iopub.status.idle": "2021-09-08T20:51:28.408613Z",
     "shell.execute_reply": "2021-09-08T20:51:28.409079Z",
     "shell.execute_reply.started": "2021-09-08T20:33:12.583009Z"
    },
    "papermill": {
     "duration": 0.104173,
     "end_time": "2021-09-08T20:51:28.409262",
     "exception": false,
     "start_time": "2021-09-08T20:51:28.305089",
     "status": "completed"
    },
    "tags": []
   },
   "outputs": [
    {
     "name": "stdout",
     "output_type": "stream",
     "text": [
      "Best parameters: {'alpha': 100, 'solver': 'sparse_cg'}\n",
      "Highest Accuracy: 83.21%\n"
     ]
    }
   ],
   "source": [
    "print('Best parameters:', ridge_cv.best_params_)\n",
    "print('Highest Accuracy:', '{:.2%}'.format(ridge_cv.best_score_))"
   ]
  },
  {
   "cell_type": "markdown",
   "metadata": {
    "papermill": {
     "duration": 0.09366,
     "end_time": "2021-09-08T20:51:28.597135",
     "exception": false,
     "start_time": "2021-09-08T20:51:28.503475",
     "status": "completed"
    },
    "tags": []
   },
   "source": [
    "## Lasso"
   ]
  },
  {
   "cell_type": "code",
   "execution_count": 62,
   "metadata": {
    "execution": {
     "iopub.execute_input": "2021-09-08T20:51:28.842760Z",
     "iopub.status.busy": "2021-09-08T20:51:28.841731Z",
     "iopub.status.idle": "2021-09-08T20:51:28.845169Z",
     "shell.execute_reply": "2021-09-08T20:51:28.844684Z",
     "shell.execute_reply.started": "2021-09-08T20:33:12.593769Z"
    },
    "papermill": {
     "duration": 0.102061,
     "end_time": "2021-09-08T20:51:28.845306",
     "exception": false,
     "start_time": "2021-09-08T20:51:28.743245",
     "status": "completed"
    },
    "tags": []
   },
   "outputs": [],
   "source": [
    "parameters = {'alpha': [0.001, 0.01, 0.1, 1, 10, 100, 1000],\n",
    "              'selection': ['cyclic', 'random']}"
   ]
  },
  {
   "cell_type": "code",
   "execution_count": 63,
   "metadata": {
    "execution": {
     "iopub.execute_input": "2021-09-08T20:51:29.042059Z",
     "iopub.status.busy": "2021-09-08T20:51:29.041032Z",
     "iopub.status.idle": "2021-09-08T20:51:29.391909Z",
     "shell.execute_reply": "2021-09-08T20:51:29.391237Z",
     "shell.execute_reply.started": "2021-09-08T20:33:12.605055Z"
    },
    "papermill": {
     "duration": 0.452744,
     "end_time": "2021-09-08T20:51:29.392064",
     "exception": false,
     "start_time": "2021-09-08T20:51:28.939320",
     "status": "completed"
    },
    "tags": []
   },
   "outputs": [
    {
     "name": "stdout",
     "output_type": "stream",
     "text": [
      "Lasso Regression Model Trained\n"
     ]
    }
   ],
   "source": [
    "lasso = Lasso()\n",
    "lasso_cv = GridSearchCV(estimator=lasso, param_grid=parameters, cv=10)\n",
    "lasso_cv.fit(X_train, y_train)\n",
    "print('Lasso Regression Model Trained')"
   ]
  },
  {
   "cell_type": "code",
   "execution_count": 64,
   "metadata": {
    "execution": {
     "iopub.execute_input": "2021-09-08T20:51:29.586828Z",
     "iopub.status.busy": "2021-09-08T20:51:29.586004Z",
     "iopub.status.idle": "2021-09-08T20:51:29.589800Z",
     "shell.execute_reply": "2021-09-08T20:51:29.590245Z",
     "shell.execute_reply.started": "2021-09-08T20:33:13.027507Z"
    },
    "papermill": {
     "duration": 0.103875,
     "end_time": "2021-09-08T20:51:29.590448",
     "exception": false,
     "start_time": "2021-09-08T20:51:29.486573",
     "status": "completed"
    },
    "tags": []
   },
   "outputs": [
    {
     "name": "stdout",
     "output_type": "stream",
     "text": [
      "Best parameters: {'alpha': 0.001, 'selection': 'random'}\n",
      "Highest Accuracy: 83.13%\n"
     ]
    }
   ],
   "source": [
    "print('Best parameters:', lasso_cv.best_params_)\n",
    "print('Highest Accuracy:', '{:.2%}'.format(lasso_cv.best_score_))"
   ]
  },
  {
   "cell_type": "markdown",
   "metadata": {
    "papermill": {
     "duration": 0.09475,
     "end_time": "2021-09-08T20:51:29.781118",
     "exception": false,
     "start_time": "2021-09-08T20:51:29.686368",
     "status": "completed"
    },
    "tags": []
   },
   "source": [
    "# Training Results"
   ]
  },
  {
   "cell_type": "code",
   "execution_count": 65,
   "metadata": {
    "execution": {
     "iopub.execute_input": "2021-09-08T20:51:29.976717Z",
     "iopub.status.busy": "2021-09-08T20:51:29.976034Z",
     "iopub.status.idle": "2021-09-08T20:51:29.979492Z",
     "shell.execute_reply": "2021-09-08T20:51:29.978820Z",
     "shell.execute_reply.started": "2021-09-08T20:33:13.036883Z"
    },
    "papermill": {
     "duration": 0.103718,
     "end_time": "2021-09-08T20:51:29.979637",
     "exception": false,
     "start_time": "2021-09-08T20:51:29.875919",
     "status": "completed"
    },
    "tags": []
   },
   "outputs": [],
   "source": [
    "yhat_lin = linreg.predict(X_test)\n",
    "yhat_ridge = ridge_cv.predict(X_test)\n",
    "yhat_lasso = lasso_cv.predict(X_test)"
   ]
  },
  {
   "cell_type": "code",
   "execution_count": 66,
   "metadata": {
    "execution": {
     "iopub.execute_input": "2021-09-08T20:51:30.180611Z",
     "iopub.status.busy": "2021-09-08T20:51:30.179887Z",
     "iopub.status.idle": "2021-09-08T20:51:30.183338Z",
     "shell.execute_reply": "2021-09-08T20:51:30.182683Z",
     "shell.execute_reply.started": "2021-09-08T20:33:13.048754Z"
    },
    "papermill": {
     "duration": 0.107828,
     "end_time": "2021-09-08T20:51:30.183501",
     "exception": false,
     "start_time": "2021-09-08T20:51:30.075673",
     "status": "completed"
    },
    "tags": []
   },
   "outputs": [],
   "source": [
    "lin_r2 = r2_score(y_test, yhat_lin)\n",
    "ridge_r2 = r2_score(y_test, yhat_ridge)\n",
    "lasso_r2 = r2_score(y_test, yhat_lasso)"
   ]
  },
  {
   "cell_type": "code",
   "execution_count": 67,
   "metadata": {
    "execution": {
     "iopub.execute_input": "2021-09-08T20:51:30.380275Z",
     "iopub.status.busy": "2021-09-08T20:51:30.379640Z",
     "iopub.status.idle": "2021-09-08T20:51:30.384593Z",
     "shell.execute_reply": "2021-09-08T20:51:30.383954Z",
     "shell.execute_reply.started": "2021-09-08T20:33:13.063497Z"
    },
    "papermill": {
     "duration": 0.105328,
     "end_time": "2021-09-08T20:51:30.384729",
     "exception": false,
     "start_time": "2021-09-08T20:51:30.279401",
     "status": "completed"
    },
    "tags": []
   },
   "outputs": [
    {
     "name": "stdout",
     "output_type": "stream",
     "text": [
      "Linear Regression R2-score:  0.85286\n",
      "Ridge Regression R2-score:   0.84581\n",
      "Lasso Regression R2-score:   0.85203\n"
     ]
    }
   ],
   "source": [
    "print('Linear Regression R2-score: ', '{:.5}'.format(lin_r2))\n",
    "print('Ridge Regression R2-score:  ', '{:.5}'.format(ridge_r2))\n",
    "print('Lasso Regression R2-score:  ', '{:.5}'.format(lasso_r2))"
   ]
  },
  {
   "cell_type": "code",
   "execution_count": 68,
   "metadata": {
    "execution": {
     "iopub.execute_input": "2021-09-08T20:51:30.584350Z",
     "iopub.status.busy": "2021-09-08T20:51:30.583713Z",
     "iopub.status.idle": "2021-09-08T20:51:30.586206Z",
     "shell.execute_reply": "2021-09-08T20:51:30.585579Z",
     "shell.execute_reply.started": "2021-09-08T20:33:13.078718Z"
    },
    "papermill": {
     "duration": 0.104554,
     "end_time": "2021-09-08T20:51:30.586342",
     "exception": false,
     "start_time": "2021-09-08T20:51:30.481788",
     "status": "completed"
    },
    "tags": []
   },
   "outputs": [],
   "source": [
    "lin_mse = np.mean((yhat_lin - y_test) ** 2)\n",
    "ridge_mse = np.mean((yhat_ridge - y_test) ** 2)\n",
    "lasso_mse = np.mean((yhat_lasso - y_test) ** 2)"
   ]
  },
  {
   "cell_type": "code",
   "execution_count": 69,
   "metadata": {
    "execution": {
     "iopub.execute_input": "2021-09-08T20:51:30.783604Z",
     "iopub.status.busy": "2021-09-08T20:51:30.782902Z",
     "iopub.status.idle": "2021-09-08T20:51:30.787828Z",
     "shell.execute_reply": "2021-09-08T20:51:30.788496Z",
     "shell.execute_reply.started": "2021-09-08T20:33:13.093531Z"
    },
    "papermill": {
     "duration": 0.106088,
     "end_time": "2021-09-08T20:51:30.788734",
     "exception": false,
     "start_time": "2021-09-08T20:51:30.682646",
     "status": "completed"
    },
    "tags": []
   },
   "outputs": [
    {
     "name": "stdout",
     "output_type": "stream",
     "text": [
      "Linear Regression MSE: 0.0278\n",
      "Ridge Regression MSE:  0.0291\n",
      "Lasso Regression MSE:  0.028\n"
     ]
    }
   ],
   "source": [
    "print('Linear Regression MSE:', '{:.3}'.format(lin_mse))\n",
    "print('Ridge Regression MSE: ', '{:.3}'.format(ridge_mse))\n",
    "print('Lasso Regression MSE: ', '{:.3}'.format(lasso_mse))"
   ]
  },
  {
   "cell_type": "code",
   "execution_count": 70,
   "metadata": {
    "execution": {
     "iopub.execute_input": "2021-09-08T20:51:30.994654Z",
     "iopub.status.busy": "2021-09-08T20:51:30.993702Z",
     "iopub.status.idle": "2021-09-08T20:51:30.998038Z",
     "shell.execute_reply": "2021-09-08T20:51:30.997399Z",
     "shell.execute_reply.started": "2021-09-08T20:33:13.108589Z"
    },
    "papermill": {
     "duration": 0.112926,
     "end_time": "2021-09-08T20:51:30.998178",
     "exception": false,
     "start_time": "2021-09-08T20:51:30.885252",
     "status": "completed"
    },
    "tags": []
   },
   "outputs": [
    {
     "data": {
      "text/html": [
       "<div>\n",
       "<style scoped>\n",
       "    .dataframe tbody tr th:only-of-type {\n",
       "        vertical-align: middle;\n",
       "    }\n",
       "\n",
       "    .dataframe tbody tr th {\n",
       "        vertical-align: top;\n",
       "    }\n",
       "\n",
       "    .dataframe thead th {\n",
       "        text-align: right;\n",
       "    }\n",
       "</style>\n",
       "<table border=\"1\" class=\"dataframe\">\n",
       "  <thead>\n",
       "    <tr style=\"text-align: right;\">\n",
       "      <th></th>\n",
       "      <th>model</th>\n",
       "      <th>R2_score</th>\n",
       "      <th>MSE</th>\n",
       "    </tr>\n",
       "  </thead>\n",
       "  <tbody>\n",
       "    <tr>\n",
       "      <th>0</th>\n",
       "      <td>Linear</td>\n",
       "      <td>0.852856</td>\n",
       "      <td>0.027808</td>\n",
       "    </tr>\n",
       "    <tr>\n",
       "      <th>1</th>\n",
       "      <td>Ridge</td>\n",
       "      <td>0.845810</td>\n",
       "      <td>0.029140</td>\n",
       "    </tr>\n",
       "    <tr>\n",
       "      <th>2</th>\n",
       "      <td>Lasso</td>\n",
       "      <td>0.852029</td>\n",
       "      <td>0.027964</td>\n",
       "    </tr>\n",
       "  </tbody>\n",
       "</table>\n",
       "</div>"
      ],
      "text/plain": [
       "    model  R2_score       MSE\n",
       "0  Linear  0.852856  0.027808\n",
       "1   Ridge  0.845810  0.029140\n",
       "2   Lasso  0.852029  0.027964"
      ]
     },
     "execution_count": 70,
     "metadata": {},
     "output_type": "execute_result"
    }
   ],
   "source": [
    "model_dict = {'model':['Linear', 'Ridge', 'Lasso'],\n",
    "              'R2_score': [lin_r2, ridge_r2, lasso_r2],\n",
    "              'MSE': [lin_mse, ridge_mse, lasso_mse]}\n",
    "model_results = pd.DataFrame.from_dict(model_dict)\n",
    "model_results"
   ]
  },
  {
   "cell_type": "code",
   "execution_count": 71,
   "metadata": {
    "execution": {
     "iopub.execute_input": "2021-09-08T20:51:31.202558Z",
     "iopub.status.busy": "2021-09-08T20:51:31.201842Z",
     "iopub.status.idle": "2021-09-08T20:51:31.564771Z",
     "shell.execute_reply": "2021-09-08T20:51:31.565278Z",
     "shell.execute_reply.started": "2021-09-08T20:33:13.127302Z"
    },
    "papermill": {
     "duration": 0.469209,
     "end_time": "2021-09-08T20:51:31.565465",
     "exception": false,
     "start_time": "2021-09-08T20:51:31.096256",
     "status": "completed"
    },
    "tags": []
   },
   "outputs": [
    {
     "data": {
      "image/png": "[encoded data removed]",
      "text/plain": [
       "<Figure size 576x432 with 1 Axes>"
      ]
     },
     "metadata": {
      "needs_background": "light"
     },
     "output_type": "display_data"
    },
    {
     "data": {
      "image/png": "[encoded data removed]",
      "text/plain": [
       "<Figure size 576x432 with 1 Axes>"
      ]
     },
     "metadata": {
      "needs_background": "light"
     },
     "output_type": "display_data"
    }
   ],
   "source": [
    "model_results.plot(kind='bar', x='model', y='R2_score', color='skyblue', figsize=(8,6))\n",
    "plt.title('Model Performance')\n",
    "plt.xlabel('Model')\n",
    "plt.xticks(rotation=25)\n",
    "plt.ylabel('R2 Score')\n",
    "plt.show()\n",
    "model_results.plot(kind='bar', x='model', y='MSE', color='violet', figsize=(8,6))\n",
    "plt.title('Model Performance')\n",
    "plt.xlabel('Model')\n",
    "plt.xticks(rotation=25)\n",
    "plt.ylabel('Mean Squared Error')\n",
    "plt.show()"
   ]
  },
  {
   "cell_type": "markdown",
   "metadata": {
    "papermill": {
     "duration": 0.096955,
     "end_time": "2021-09-08T20:51:31.760682",
     "exception": false,
     "start_time": "2021-09-08T20:51:31.663727",
     "status": "completed"
    },
    "tags": []
   },
   "source": [
    "As we can see all our models performed similarly according, however, if we look at our R2 score and MSE, the model that peforms best is the Linear Regression model. Therefore, we will use the Linear Regression model on our test set."
   ]
  },
  {
   "cell_type": "markdown",
   "metadata": {
    "papermill": {
     "duration": 0.098804,
     "end_time": "2021-09-08T20:51:31.957892",
     "exception": false,
     "start_time": "2021-09-08T20:51:31.859088",
     "status": "completed"
    },
    "tags": []
   },
   "source": [
    "# Model Evaluation using Test set"
   ]
  },
  {
   "cell_type": "markdown",
   "metadata": {
    "papermill": {
     "duration": 0.097775,
     "end_time": "2021-09-08T20:51:32.154750",
     "exception": false,
     "start_time": "2021-09-08T20:51:32.056975",
     "status": "completed"
    },
    "tags": []
   },
   "source": [
    "### Load Test set for evaluation"
   ]
  },
  {
   "cell_type": "code",
   "execution_count": 72,
   "metadata": {
    "execution": {
     "iopub.execute_input": "2021-09-08T20:51:32.354812Z",
     "iopub.status.busy": "2021-09-08T20:51:32.353829Z",
     "iopub.status.idle": "2021-09-08T20:51:32.420295Z",
     "shell.execute_reply": "2021-09-08T20:51:32.420810Z",
     "shell.execute_reply.started": "2021-09-08T20:33:13.470368Z"
    },
    "papermill": {
     "duration": 0.167621,
     "end_time": "2021-09-08T20:51:32.420980",
     "exception": false,
     "start_time": "2021-09-08T20:51:32.253359",
     "status": "completed"
    },
    "tags": []
   },
   "outputs": [
    {
     "data": {
      "text/html": [
       "<div>\n",
       "<style scoped>\n",
       "    .dataframe tbody tr th:only-of-type {\n",
       "        vertical-align: middle;\n",
       "    }\n",
       "\n",
       "    .dataframe tbody tr th {\n",
       "        vertical-align: top;\n",
       "    }\n",
       "\n",
       "    .dataframe thead th {\n",
       "        text-align: right;\n",
       "    }\n",
       "</style>\n",
       "<table border=\"1\" class=\"dataframe\">\n",
       "  <thead>\n",
       "    <tr style=\"text-align: right;\">\n",
       "      <th></th>\n",
       "      <th>Id</th>\n",
       "      <th>MSSubClass</th>\n",
       "      <th>MSZoning</th>\n",
       "      <th>LotFrontage</th>\n",
       "      <th>LotArea</th>\n",
       "      <th>Street</th>\n",
       "      <th>Alley</th>\n",
       "      <th>LotShape</th>\n",
       "      <th>LandContour</th>\n",
       "      <th>Utilities</th>\n",
       "      <th>LotConfig</th>\n",
       "      <th>LandSlope</th>\n",
       "      <th>Neighborhood</th>\n",
       "      <th>Condition1</th>\n",
       "      <th>Condition2</th>\n",
       "      <th>BldgType</th>\n",
       "      <th>HouseStyle</th>\n",
       "      <th>OverallQual</th>\n",
       "      <th>OverallCond</th>\n",
       "      <th>YearBuilt</th>\n",
       "      <th>YearRemodAdd</th>\n",
       "      <th>RoofStyle</th>\n",
       "      <th>RoofMatl</th>\n",
       "      <th>Exterior1st</th>\n",
       "      <th>Exterior2nd</th>\n",
       "      <th>MasVnrType</th>\n",
       "      <th>MasVnrArea</th>\n",
       "      <th>ExterQual</th>\n",
       "      <th>ExterCond</th>\n",
       "      <th>Foundation</th>\n",
       "      <th>BsmtQual</th>\n",
       "      <th>BsmtCond</th>\n",
       "      <th>BsmtExposure</th>\n",
       "      <th>BsmtFinType1</th>\n",
       "      <th>BsmtFinSF1</th>\n",
       "      <th>BsmtFinType2</th>\n",
       "      <th>BsmtFinSF2</th>\n",
       "      <th>BsmtUnfSF</th>\n",
       "      <th>TotalBsmtSF</th>\n",
       "      <th>Heating</th>\n",
       "      <th>HeatingQC</th>\n",
       "      <th>CentralAir</th>\n",
       "      <th>Electrical</th>\n",
       "      <th>1stFlrSF</th>\n",
       "      <th>2ndFlrSF</th>\n",
       "      <th>LowQualFinSF</th>\n",
       "      <th>GrLivArea</th>\n",
       "      <th>BsmtFullBath</th>\n",
       "      <th>BsmtHalfBath</th>\n",
       "      <th>FullBath</th>\n",
       "      <th>HalfBath</th>\n",
       "      <th>BedroomAbvGr</th>\n",
       "      <th>KitchenAbvGr</th>\n",
       "      <th>KitchenQual</th>\n",
       "      <th>TotRmsAbvGrd</th>\n",
       "      <th>Functional</th>\n",
       "      <th>Fireplaces</th>\n",
       "      <th>FireplaceQu</th>\n",
       "      <th>GarageType</th>\n",
       "      <th>GarageYrBlt</th>\n",
       "      <th>GarageFinish</th>\n",
       "      <th>GarageCars</th>\n",
       "      <th>GarageArea</th>\n",
       "      <th>GarageQual</th>\n",
       "      <th>GarageCond</th>\n",
       "      <th>PavedDrive</th>\n",
       "      <th>WoodDeckSF</th>\n",
       "      <th>OpenPorchSF</th>\n",
       "      <th>EnclosedPorch</th>\n",
       "      <th>3SsnPorch</th>\n",
       "      <th>ScreenPorch</th>\n",
       "      <th>PoolArea</th>\n",
       "      <th>PoolQC</th>\n",
       "      <th>Fence</th>\n",
       "      <th>MiscFeature</th>\n",
       "      <th>MiscVal</th>\n",
       "      <th>MoSold</th>\n",
       "      <th>YrSold</th>\n",
       "      <th>SaleType</th>\n",
       "      <th>SaleCondition</th>\n",
       "    </tr>\n",
       "  </thead>\n",
       "  <tbody>\n",
       "    <tr>\n",
       "      <th>0</th>\n",
       "      <td>1461</td>\n",
       "      <td>20</td>\n",
       "      <td>RH</td>\n",
       "      <td>80.0</td>\n",
       "      <td>11622</td>\n",
       "      <td>Pave</td>\n",
       "      <td>NaN</td>\n",
       "      <td>Reg</td>\n",
       "      <td>Lvl</td>\n",
       "      <td>AllPub</td>\n",
       "      <td>Inside</td>\n",
       "      <td>Gtl</td>\n",
       "      <td>NAmes</td>\n",
       "      <td>Feedr</td>\n",
       "      <td>Norm</td>\n",
       "      <td>1Fam</td>\n",
       "      <td>1Story</td>\n",
       "      <td>5</td>\n",
       "      <td>6</td>\n",
       "      <td>1961</td>\n",
       "      <td>1961</td>\n",
       "      <td>Gable</td>\n",
       "      <td>CompShg</td>\n",
       "      <td>VinylSd</td>\n",
       "      <td>VinylSd</td>\n",
       "      <td>None</td>\n",
       "      <td>0.0</td>\n",
       "      <td>TA</td>\n",
       "      <td>TA</td>\n",
       "      <td>CBlock</td>\n",
       "      <td>TA</td>\n",
       "      <td>TA</td>\n",
       "      <td>No</td>\n",
       "      <td>Rec</td>\n",
       "      <td>468.0</td>\n",
       "      <td>LwQ</td>\n",
       "      <td>144.0</td>\n",
       "      <td>270.0</td>\n",
       "      <td>882.0</td>\n",
       "      <td>GasA</td>\n",
       "      <td>TA</td>\n",
       "      <td>Y</td>\n",
       "      <td>SBrkr</td>\n",
       "      <td>896</td>\n",
       "      <td>0</td>\n",
       "      <td>0</td>\n",
       "      <td>896</td>\n",
       "      <td>0.0</td>\n",
       "      <td>0.0</td>\n",
       "      <td>1</td>\n",
       "      <td>0</td>\n",
       "      <td>2</td>\n",
       "      <td>1</td>\n",
       "      <td>TA</td>\n",
       "      <td>5</td>\n",
       "      <td>Typ</td>\n",
       "      <td>0</td>\n",
       "      <td>NaN</td>\n",
       "      <td>Attchd</td>\n",
       "      <td>1961.0</td>\n",
       "      <td>Unf</td>\n",
       "      <td>1.0</td>\n",
       "      <td>730.0</td>\n",
       "      <td>TA</td>\n",
       "      <td>TA</td>\n",
       "      <td>Y</td>\n",
       "      <td>140</td>\n",
       "      <td>0</td>\n",
       "      <td>0</td>\n",
       "      <td>0</td>\n",
       "      <td>120</td>\n",
       "      <td>0</td>\n",
       "      <td>NaN</td>\n",
       "      <td>MnPrv</td>\n",
       "      <td>NaN</td>\n",
       "      <td>0</td>\n",
       "      <td>6</td>\n",
       "      <td>2010</td>\n",
       "      <td>WD</td>\n",
       "      <td>Normal</td>\n",
       "    </tr>\n",
       "    <tr>\n",
       "      <th>1</th>\n",
       "      <td>1462</td>\n",
       "      <td>20</td>\n",
       "      <td>RL</td>\n",
       "      <td>81.0</td>\n",
       "      <td>14267</td>\n",
       "      <td>Pave</td>\n",
       "      <td>NaN</td>\n",
       "      <td>IR1</td>\n",
       "      <td>Lvl</td>\n",
       "      <td>AllPub</td>\n",
       "      <td>Corner</td>\n",
       "      <td>Gtl</td>\n",
       "      <td>NAmes</td>\n",
       "      <td>Norm</td>\n",
       "      <td>Norm</td>\n",
       "      <td>1Fam</td>\n",
       "      <td>1Story</td>\n",
       "      <td>6</td>\n",
       "      <td>6</td>\n",
       "      <td>1958</td>\n",
       "      <td>1958</td>\n",
       "      <td>Hip</td>\n",
       "      <td>CompShg</td>\n",
       "      <td>Wd Sdng</td>\n",
       "      <td>Wd Sdng</td>\n",
       "      <td>BrkFace</td>\n",
       "      <td>108.0</td>\n",
       "      <td>TA</td>\n",
       "      <td>TA</td>\n",
       "      <td>CBlock</td>\n",
       "      <td>TA</td>\n",
       "      <td>TA</td>\n",
       "      <td>No</td>\n",
       "      <td>ALQ</td>\n",
       "      <td>923.0</td>\n",
       "      <td>Unf</td>\n",
       "      <td>0.0</td>\n",
       "      <td>406.0</td>\n",
       "      <td>1329.0</td>\n",
       "      <td>GasA</td>\n",
       "      <td>TA</td>\n",
       "      <td>Y</td>\n",
       "      <td>SBrkr</td>\n",
       "      <td>1329</td>\n",
       "      <td>0</td>\n",
       "      <td>0</td>\n",
       "      <td>1329</td>\n",
       "      <td>0.0</td>\n",
       "      <td>0.0</td>\n",
       "      <td>1</td>\n",
       "      <td>1</td>\n",
       "      <td>3</td>\n",
       "      <td>1</td>\n",
       "      <td>Gd</td>\n",
       "      <td>6</td>\n",
       "      <td>Typ</td>\n",
       "      <td>0</td>\n",
       "      <td>NaN</td>\n",
       "      <td>Attchd</td>\n",
       "      <td>1958.0</td>\n",
       "      <td>Unf</td>\n",
       "      <td>1.0</td>\n",
       "      <td>312.0</td>\n",
       "      <td>TA</td>\n",
       "      <td>TA</td>\n",
       "      <td>Y</td>\n",
       "      <td>393</td>\n",
       "      <td>36</td>\n",
       "      <td>0</td>\n",
       "      <td>0</td>\n",
       "      <td>0</td>\n",
       "      <td>0</td>\n",
       "      <td>NaN</td>\n",
       "      <td>NaN</td>\n",
       "      <td>Gar2</td>\n",
       "      <td>12500</td>\n",
       "      <td>6</td>\n",
       "      <td>2010</td>\n",
       "      <td>WD</td>\n",
       "      <td>Normal</td>\n",
       "    </tr>\n",
       "    <tr>\n",
       "      <th>2</th>\n",
       "      <td>1463</td>\n",
       "      <td>60</td>\n",
       "      <td>RL</td>\n",
       "      <td>74.0</td>\n",
       "      <td>13830</td>\n",
       "      <td>Pave</td>\n",
       "      <td>NaN</td>\n",
       "      <td>IR1</td>\n",
       "      <td>Lvl</td>\n",
       "      <td>AllPub</td>\n",
       "      <td>Inside</td>\n",
       "      <td>Gtl</td>\n",
       "      <td>Gilbert</td>\n",
       "      <td>Norm</td>\n",
       "      <td>Norm</td>\n",
       "      <td>1Fam</td>\n",
       "      <td>2Story</td>\n",
       "      <td>5</td>\n",
       "      <td>5</td>\n",
       "      <td>1997</td>\n",
       "      <td>1998</td>\n",
       "      <td>Gable</td>\n",
       "      <td>CompShg</td>\n",
       "      <td>VinylSd</td>\n",
       "      <td>VinylSd</td>\n",
       "      <td>None</td>\n",
       "      <td>0.0</td>\n",
       "      <td>TA</td>\n",
       "      <td>TA</td>\n",
       "      <td>PConc</td>\n",
       "      <td>Gd</td>\n",
       "      <td>TA</td>\n",
       "      <td>No</td>\n",
       "      <td>GLQ</td>\n",
       "      <td>791.0</td>\n",
       "      <td>Unf</td>\n",
       "      <td>0.0</td>\n",
       "      <td>137.0</td>\n",
       "      <td>928.0</td>\n",
       "      <td>GasA</td>\n",
       "      <td>Gd</td>\n",
       "      <td>Y</td>\n",
       "      <td>SBrkr</td>\n",
       "      <td>928</td>\n",
       "      <td>701</td>\n",
       "      <td>0</td>\n",
       "      <td>1629</td>\n",
       "      <td>0.0</td>\n",
       "      <td>0.0</td>\n",
       "      <td>2</td>\n",
       "      <td>1</td>\n",
       "      <td>3</td>\n",
       "      <td>1</td>\n",
       "      <td>TA</td>\n",
       "      <td>6</td>\n",
       "      <td>Typ</td>\n",
       "      <td>1</td>\n",
       "      <td>TA</td>\n",
       "      <td>Attchd</td>\n",
       "      <td>1997.0</td>\n",
       "      <td>Fin</td>\n",
       "      <td>2.0</td>\n",
       "      <td>482.0</td>\n",
       "      <td>TA</td>\n",
       "      <td>TA</td>\n",
       "      <td>Y</td>\n",
       "      <td>212</td>\n",
       "      <td>34</td>\n",
       "      <td>0</td>\n",
       "      <td>0</td>\n",
       "      <td>0</td>\n",
       "      <td>0</td>\n",
       "      <td>NaN</td>\n",
       "      <td>MnPrv</td>\n",
       "      <td>NaN</td>\n",
       "      <td>0</td>\n",
       "      <td>3</td>\n",
       "      <td>2010</td>\n",
       "      <td>WD</td>\n",
       "      <td>Normal</td>\n",
       "    </tr>\n",
       "    <tr>\n",
       "      <th>3</th>\n",
       "      <td>1464</td>\n",
       "      <td>60</td>\n",
       "      <td>RL</td>\n",
       "      <td>78.0</td>\n",
       "      <td>9978</td>\n",
       "      <td>Pave</td>\n",
       "      <td>NaN</td>\n",
       "      <td>IR1</td>\n",
       "      <td>Lvl</td>\n",
       "      <td>AllPub</td>\n",
       "      <td>Inside</td>\n",
       "      <td>Gtl</td>\n",
       "      <td>Gilbert</td>\n",
       "      <td>Norm</td>\n",
       "      <td>Norm</td>\n",
       "      <td>1Fam</td>\n",
       "      <td>2Story</td>\n",
       "      <td>6</td>\n",
       "      <td>6</td>\n",
       "      <td>1998</td>\n",
       "      <td>1998</td>\n",
       "      <td>Gable</td>\n",
       "      <td>CompShg</td>\n",
       "      <td>VinylSd</td>\n",
       "      <td>VinylSd</td>\n",
       "      <td>BrkFace</td>\n",
       "      <td>20.0</td>\n",
       "      <td>TA</td>\n",
       "      <td>TA</td>\n",
       "      <td>PConc</td>\n",
       "      <td>TA</td>\n",
       "      <td>TA</td>\n",
       "      <td>No</td>\n",
       "      <td>GLQ</td>\n",
       "      <td>602.0</td>\n",
       "      <td>Unf</td>\n",
       "      <td>0.0</td>\n",
       "      <td>324.0</td>\n",
       "      <td>926.0</td>\n",
       "      <td>GasA</td>\n",
       "      <td>Ex</td>\n",
       "      <td>Y</td>\n",
       "      <td>SBrkr</td>\n",
       "      <td>926</td>\n",
       "      <td>678</td>\n",
       "      <td>0</td>\n",
       "      <td>1604</td>\n",
       "      <td>0.0</td>\n",
       "      <td>0.0</td>\n",
       "      <td>2</td>\n",
       "      <td>1</td>\n",
       "      <td>3</td>\n",
       "      <td>1</td>\n",
       "      <td>Gd</td>\n",
       "      <td>7</td>\n",
       "      <td>Typ</td>\n",
       "      <td>1</td>\n",
       "      <td>Gd</td>\n",
       "      <td>Attchd</td>\n",
       "      <td>1998.0</td>\n",
       "      <td>Fin</td>\n",
       "      <td>2.0</td>\n",
       "      <td>470.0</td>\n",
       "      <td>TA</td>\n",
       "      <td>TA</td>\n",
       "      <td>Y</td>\n",
       "      <td>360</td>\n",
       "      <td>36</td>\n",
       "      <td>0</td>\n",
       "      <td>0</td>\n",
       "      <td>0</td>\n",
       "      <td>0</td>\n",
       "      <td>NaN</td>\n",
       "      <td>NaN</td>\n",
       "      <td>NaN</td>\n",
       "      <td>0</td>\n",
       "      <td>6</td>\n",
       "      <td>2010</td>\n",
       "      <td>WD</td>\n",
       "      <td>Normal</td>\n",
       "    </tr>\n",
       "    <tr>\n",
       "      <th>4</th>\n",
       "      <td>1465</td>\n",
       "      <td>120</td>\n",
       "      <td>RL</td>\n",
       "      <td>43.0</td>\n",
       "      <td>5005</td>\n",
       "      <td>Pave</td>\n",
       "      <td>NaN</td>\n",
       "      <td>IR1</td>\n",
       "      <td>HLS</td>\n",
       "      <td>AllPub</td>\n",
       "      <td>Inside</td>\n",
       "      <td>Gtl</td>\n",
       "      <td>StoneBr</td>\n",
       "      <td>Norm</td>\n",
       "      <td>Norm</td>\n",
       "      <td>TwnhsE</td>\n",
       "      <td>1Story</td>\n",
       "      <td>8</td>\n",
       "      <td>5</td>\n",
       "      <td>1992</td>\n",
       "      <td>1992</td>\n",
       "      <td>Gable</td>\n",
       "      <td>CompShg</td>\n",
       "      <td>HdBoard</td>\n",
       "      <td>HdBoard</td>\n",
       "      <td>None</td>\n",
       "      <td>0.0</td>\n",
       "      <td>Gd</td>\n",
       "      <td>TA</td>\n",
       "      <td>PConc</td>\n",
       "      <td>Gd</td>\n",
       "      <td>TA</td>\n",
       "      <td>No</td>\n",
       "      <td>ALQ</td>\n",
       "      <td>263.0</td>\n",
       "      <td>Unf</td>\n",
       "      <td>0.0</td>\n",
       "      <td>1017.0</td>\n",
       "      <td>1280.0</td>\n",
       "      <td>GasA</td>\n",
       "      <td>Ex</td>\n",
       "      <td>Y</td>\n",
       "      <td>SBrkr</td>\n",
       "      <td>1280</td>\n",
       "      <td>0</td>\n",
       "      <td>0</td>\n",
       "      <td>1280</td>\n",
       "      <td>0.0</td>\n",
       "      <td>0.0</td>\n",
       "      <td>2</td>\n",
       "      <td>0</td>\n",
       "      <td>2</td>\n",
       "      <td>1</td>\n",
       "      <td>Gd</td>\n",
       "      <td>5</td>\n",
       "      <td>Typ</td>\n",
       "      <td>0</td>\n",
       "      <td>NaN</td>\n",
       "      <td>Attchd</td>\n",
       "      <td>1992.0</td>\n",
       "      <td>RFn</td>\n",
       "      <td>2.0</td>\n",
       "      <td>506.0</td>\n",
       "      <td>TA</td>\n",
       "      <td>TA</td>\n",
       "      <td>Y</td>\n",
       "      <td>0</td>\n",
       "      <td>82</td>\n",
       "      <td>0</td>\n",
       "      <td>0</td>\n",
       "      <td>144</td>\n",
       "      <td>0</td>\n",
       "      <td>NaN</td>\n",
       "      <td>NaN</td>\n",
       "      <td>NaN</td>\n",
       "      <td>0</td>\n",
       "      <td>1</td>\n",
       "      <td>2010</td>\n",
       "      <td>WD</td>\n",
       "      <td>Normal</td>\n",
       "    </tr>\n",
       "  </tbody>\n",
       "</table>\n",
       "</div>"
      ],
      "text/plain": [
       "     Id  MSSubClass MSZoning  LotFrontage  LotArea Street Alley LotShape  \\\n",
       "0  1461          20       RH         80.0    11622   Pave   NaN      Reg   \n",
       "1  1462          20       RL         81.0    14267   Pave   NaN      IR1   \n",
       "2  1463          60       RL         74.0    13830   Pave   NaN      IR1   \n",
       "3  1464          60       RL         78.0     9978   Pave   NaN      IR1   \n",
       "4  1465         120       RL         43.0     5005   Pave   NaN      IR1   \n",
       "\n",
       "  LandContour Utilities LotConfig LandSlope Neighborhood Condition1  \\\n",
       "0         Lvl    AllPub    Inside       Gtl        NAmes      Feedr   \n",
       "1         Lvl    AllPub    Corner       Gtl        NAmes       Norm   \n",
       "2         Lvl    AllPub    Inside       Gtl      Gilbert       Norm   \n",
       "3         Lvl    AllPub    Inside       Gtl      Gilbert       Norm   \n",
       "4         HLS    AllPub    Inside       Gtl      StoneBr       Norm   \n",
       "\n",
       "  Condition2 BldgType HouseStyle  OverallQual  OverallCond  YearBuilt  \\\n",
       "0       Norm     1Fam     1Story            5            6       1961   \n",
       "1       Norm     1Fam     1Story            6            6       1958   \n",
       "2       Norm     1Fam     2Story            5            5       1997   \n",
       "3       Norm     1Fam     2Story            6            6       1998   \n",
       "4       Norm   TwnhsE     1Story            8            5       1992   \n",
       "\n",
       "   YearRemodAdd RoofStyle RoofMatl Exterior1st Exterior2nd MasVnrType  \\\n",
       "0          1961     Gable  CompShg     VinylSd     VinylSd       None   \n",
       "1          1958       Hip  CompShg     Wd Sdng     Wd Sdng    BrkFace   \n",
       "2          1998     Gable  CompShg     VinylSd     VinylSd       None   \n",
       "3          1998     Gable  CompShg     VinylSd     VinylSd    BrkFace   \n",
       "4          1992     Gable  CompShg     HdBoard     HdBoard       None   \n",
       "\n",
       "   MasVnrArea ExterQual ExterCond Foundation BsmtQual BsmtCond BsmtExposure  \\\n",
       "0         0.0        TA        TA     CBlock       TA       TA           No   \n",
       "1       108.0        TA        TA     CBlock       TA       TA           No   \n",
       "2         0.0        TA        TA      PConc       Gd       TA           No   \n",
       "3        20.0        TA        TA      PConc       TA       TA           No   \n",
       "4         0.0        Gd        TA      PConc       Gd       TA           No   \n",
       "\n",
       "  BsmtFinType1  BsmtFinSF1 BsmtFinType2  BsmtFinSF2  BsmtUnfSF  TotalBsmtSF  \\\n",
       "0          Rec       468.0          LwQ       144.0      270.0        882.0   \n",
       "1          ALQ       923.0          Unf         0.0      406.0       1329.0   \n",
       "2          GLQ       791.0          Unf         0.0      137.0        928.0   \n",
       "3          GLQ       602.0          Unf         0.0      324.0        926.0   \n",
       "4          ALQ       263.0          Unf         0.0     1017.0       1280.0   \n",
       "\n",
       "  Heating HeatingQC CentralAir Electrical  1stFlrSF  2ndFlrSF  LowQualFinSF  \\\n",
       "0    GasA        TA          Y      SBrkr       896         0             0   \n",
       "1    GasA        TA          Y      SBrkr      1329         0             0   \n",
       "2    GasA        Gd          Y      SBrkr       928       701             0   \n",
       "3    GasA        Ex          Y      SBrkr       926       678             0   \n",
       "4    GasA        Ex          Y      SBrkr      1280         0             0   \n",
       "\n",
       "   GrLivArea  BsmtFullBath  BsmtHalfBath  FullBath  HalfBath  BedroomAbvGr  \\\n",
       "0        896           0.0           0.0         1         0             2   \n",
       "1       1329           0.0           0.0         1         1             3   \n",
       "2       1629           0.0           0.0         2         1             3   \n",
       "3       1604           0.0           0.0         2         1             3   \n",
       "4       1280           0.0           0.0         2         0             2   \n",
       "\n",
       "   KitchenAbvGr KitchenQual  TotRmsAbvGrd Functional  Fireplaces FireplaceQu  \\\n",
       "0             1          TA             5        Typ           0         NaN   \n",
       "1             1          Gd             6        Typ           0         NaN   \n",
       "2             1          TA             6        Typ           1          TA   \n",
       "3             1          Gd             7        Typ           1          Gd   \n",
       "4             1          Gd             5        Typ           0         NaN   \n",
       "\n",
       "  GarageType  GarageYrBlt GarageFinish  GarageCars  GarageArea GarageQual  \\\n",
       "0     Attchd       1961.0          Unf         1.0       730.0         TA   \n",
       "1     Attchd       1958.0          Unf         1.0       312.0         TA   \n",
       "2     Attchd       1997.0          Fin         2.0       482.0         TA   \n",
       "3     Attchd       1998.0          Fin         2.0       470.0         TA   \n",
       "4     Attchd       1992.0          RFn         2.0       506.0         TA   \n",
       "\n",
       "  GarageCond PavedDrive  WoodDeckSF  OpenPorchSF  EnclosedPorch  3SsnPorch  \\\n",
       "0         TA          Y         140            0              0          0   \n",
       "1         TA          Y         393           36              0          0   \n",
       "2         TA          Y         212           34              0          0   \n",
       "3         TA          Y         360           36              0          0   \n",
       "4         TA          Y           0           82              0          0   \n",
       "\n",
       "   ScreenPorch  PoolArea PoolQC  Fence MiscFeature  MiscVal  MoSold  YrSold  \\\n",
       "0          120         0    NaN  MnPrv         NaN        0       6    2010   \n",
       "1            0         0    NaN    NaN        Gar2    12500       6    2010   \n",
       "2            0         0    NaN  MnPrv         NaN        0       3    2010   \n",
       "3            0         0    NaN    NaN         NaN        0       6    2010   \n",
       "4          144         0    NaN    NaN         NaN        0       1    2010   \n",
       "\n",
       "  SaleType SaleCondition  \n",
       "0       WD        Normal  \n",
       "1       WD        Normal  \n",
       "2       WD        Normal  \n",
       "3       WD        Normal  \n",
       "4       WD        Normal  "
      ]
     },
     "execution_count": 72,
     "metadata": {},
     "output_type": "execute_result"
    }
   ],
   "source": [
    "test_data.head()"
   ]
  },
  {
   "cell_type": "markdown",
   "metadata": {
    "papermill": {
     "duration": 0.098757,
     "end_time": "2021-09-08T20:51:32.617940",
     "exception": false,
     "start_time": "2021-09-08T20:51:32.519183",
     "status": "completed"
    },
    "tags": []
   },
   "source": [
    "Since, we have created our model on only a select few features we will perform our preprocessing on these features only."
   ]
  },
  {
   "cell_type": "markdown",
   "metadata": {
    "papermill": {
     "duration": 0.100295,
     "end_time": "2021-09-08T20:51:32.817536",
     "exception": false,
     "start_time": "2021-09-08T20:51:32.717241",
     "status": "completed"
    },
    "tags": []
   },
   "source": [
    "### Clean Data"
   ]
  },
  {
   "cell_type": "code",
   "execution_count": 73,
   "metadata": {
    "execution": {
     "iopub.execute_input": "2021-09-08T20:51:33.019903Z",
     "iopub.status.busy": "2021-09-08T20:51:33.018826Z",
     "iopub.status.idle": "2021-09-08T20:51:33.042758Z",
     "shell.execute_reply": "2021-09-08T20:51:33.042084Z",
     "shell.execute_reply.started": "2021-09-08T20:33:13.549042Z"
    },
    "papermill": {
     "duration": 0.126353,
     "end_time": "2021-09-08T20:51:33.042901",
     "exception": false,
     "start_time": "2021-09-08T20:51:32.916548",
     "status": "completed"
    },
    "tags": []
   },
   "outputs": [
    {
     "data": {
      "text/html": [
       "<div>\n",
       "<style scoped>\n",
       "    .dataframe tbody tr th:only-of-type {\n",
       "        vertical-align: middle;\n",
       "    }\n",
       "\n",
       "    .dataframe tbody tr th {\n",
       "        vertical-align: top;\n",
       "    }\n",
       "\n",
       "    .dataframe thead th {\n",
       "        text-align: right;\n",
       "    }\n",
       "</style>\n",
       "<table border=\"1\" class=\"dataframe\">\n",
       "  <thead>\n",
       "    <tr style=\"text-align: right;\">\n",
       "      <th></th>\n",
       "      <th>OverallQual</th>\n",
       "      <th>GrLivArea</th>\n",
       "      <th>GarageCars</th>\n",
       "      <th>GarageArea</th>\n",
       "      <th>TotalBsmtSF</th>\n",
       "      <th>1stFlrSF</th>\n",
       "      <th>FullBath</th>\n",
       "      <th>TotRmsAbvGrd</th>\n",
       "      <th>YearBuilt</th>\n",
       "      <th>YearRemodAdd</th>\n",
       "      <th>MasVnrArea</th>\n",
       "      <th>Fireplaces</th>\n",
       "      <th>GarageFinish</th>\n",
       "      <th>KitchenQual</th>\n",
       "      <th>BsmtQual</th>\n",
       "      <th>ExterQual</th>\n",
       "    </tr>\n",
       "  </thead>\n",
       "  <tbody>\n",
       "    <tr>\n",
       "      <th>0</th>\n",
       "      <td>5</td>\n",
       "      <td>896</td>\n",
       "      <td>1.0</td>\n",
       "      <td>730.0</td>\n",
       "      <td>882.0</td>\n",
       "      <td>896</td>\n",
       "      <td>1</td>\n",
       "      <td>5</td>\n",
       "      <td>1961</td>\n",
       "      <td>1961</td>\n",
       "      <td>0.0</td>\n",
       "      <td>0</td>\n",
       "      <td>Unf</td>\n",
       "      <td>TA</td>\n",
       "      <td>TA</td>\n",
       "      <td>TA</td>\n",
       "    </tr>\n",
       "    <tr>\n",
       "      <th>1</th>\n",
       "      <td>6</td>\n",
       "      <td>1329</td>\n",
       "      <td>1.0</td>\n",
       "      <td>312.0</td>\n",
       "      <td>1329.0</td>\n",
       "      <td>1329</td>\n",
       "      <td>1</td>\n",
       "      <td>6</td>\n",
       "      <td>1958</td>\n",
       "      <td>1958</td>\n",
       "      <td>108.0</td>\n",
       "      <td>0</td>\n",
       "      <td>Unf</td>\n",
       "      <td>Gd</td>\n",
       "      <td>TA</td>\n",
       "      <td>TA</td>\n",
       "    </tr>\n",
       "    <tr>\n",
       "      <th>2</th>\n",
       "      <td>5</td>\n",
       "      <td>1629</td>\n",
       "      <td>2.0</td>\n",
       "      <td>482.0</td>\n",
       "      <td>928.0</td>\n",
       "      <td>928</td>\n",
       "      <td>2</td>\n",
       "      <td>6</td>\n",
       "      <td>1997</td>\n",
       "      <td>1998</td>\n",
       "      <td>0.0</td>\n",
       "      <td>1</td>\n",
       "      <td>Fin</td>\n",
       "      <td>TA</td>\n",
       "      <td>Gd</td>\n",
       "      <td>TA</td>\n",
       "    </tr>\n",
       "    <tr>\n",
       "      <th>3</th>\n",
       "      <td>6</td>\n",
       "      <td>1604</td>\n",
       "      <td>2.0</td>\n",
       "      <td>470.0</td>\n",
       "      <td>926.0</td>\n",
       "      <td>926</td>\n",
       "      <td>2</td>\n",
       "      <td>7</td>\n",
       "      <td>1998</td>\n",
       "      <td>1998</td>\n",
       "      <td>20.0</td>\n",
       "      <td>1</td>\n",
       "      <td>Fin</td>\n",
       "      <td>Gd</td>\n",
       "      <td>TA</td>\n",
       "      <td>TA</td>\n",
       "    </tr>\n",
       "    <tr>\n",
       "      <th>4</th>\n",
       "      <td>8</td>\n",
       "      <td>1280</td>\n",
       "      <td>2.0</td>\n",
       "      <td>506.0</td>\n",
       "      <td>1280.0</td>\n",
       "      <td>1280</td>\n",
       "      <td>2</td>\n",
       "      <td>5</td>\n",
       "      <td>1992</td>\n",
       "      <td>1992</td>\n",
       "      <td>0.0</td>\n",
       "      <td>0</td>\n",
       "      <td>RFn</td>\n",
       "      <td>Gd</td>\n",
       "      <td>Gd</td>\n",
       "      <td>Gd</td>\n",
       "    </tr>\n",
       "  </tbody>\n",
       "</table>\n",
       "</div>"
      ],
      "text/plain": [
       "   OverallQual  GrLivArea  GarageCars  GarageArea  TotalBsmtSF  1stFlrSF  \\\n",
       "0            5        896         1.0       730.0        882.0       896   \n",
       "1            6       1329         1.0       312.0       1329.0      1329   \n",
       "2            5       1629         2.0       482.0        928.0       928   \n",
       "3            6       1604         2.0       470.0        926.0       926   \n",
       "4            8       1280         2.0       506.0       1280.0      1280   \n",
       "\n",
       "   FullBath  TotRmsAbvGrd  YearBuilt  YearRemodAdd  MasVnrArea  Fireplaces  \\\n",
       "0         1             5       1961          1961         0.0           0   \n",
       "1         1             6       1958          1958       108.0           0   \n",
       "2         2             6       1997          1998         0.0           1   \n",
       "3         2             7       1998          1998        20.0           1   \n",
       "4         2             5       1992          1992         0.0           0   \n",
       "\n",
       "  GarageFinish KitchenQual BsmtQual ExterQual  \n",
       "0          Unf          TA       TA        TA  \n",
       "1          Unf          Gd       TA        TA  \n",
       "2          Fin          TA       Gd        TA  \n",
       "3          Fin          Gd       TA        TA  \n",
       "4          RFn          Gd       Gd        Gd  "
      ]
     },
     "execution_count": 73,
     "metadata": {},
     "output_type": "execute_result"
    }
   ],
   "source": [
    "test_features = test_data[['OverallQual', 'GrLivArea', \n",
    "                       'GarageCars', 'GarageArea', \n",
    "                       'TotalBsmtSF', '1stFlrSF', \n",
    "                       'FullBath', 'TotRmsAbvGrd', \n",
    "                       'YearBuilt', 'YearRemodAdd', \n",
    "                       'MasVnrArea', 'Fireplaces', \n",
    "                       'GarageFinish', 'KitchenQual', \n",
    "                       'BsmtQual', 'ExterQual']]\n",
    "test_features.head()"
   ]
  },
  {
   "cell_type": "code",
   "execution_count": 74,
   "metadata": {
    "execution": {
     "iopub.execute_input": "2021-09-08T20:51:33.256056Z",
     "iopub.status.busy": "2021-09-08T20:51:33.255270Z",
     "iopub.status.idle": "2021-09-08T20:51:33.258513Z",
     "shell.execute_reply": "2021-09-08T20:51:33.258986Z",
     "shell.execute_reply.started": "2021-09-08T20:33:13.577159Z"
    },
    "papermill": {
     "duration": 0.115004,
     "end_time": "2021-09-08T20:51:33.259170",
     "exception": false,
     "start_time": "2021-09-08T20:51:33.144166",
     "status": "completed"
    },
    "tags": []
   },
   "outputs": [
    {
     "data": {
      "text/plain": [
       "OverallQual      0\n",
       "GrLivArea        0\n",
       "GarageCars       1\n",
       "GarageArea       1\n",
       "TotalBsmtSF      1\n",
       "1stFlrSF         0\n",
       "FullBath         0\n",
       "TotRmsAbvGrd     0\n",
       "YearBuilt        0\n",
       "YearRemodAdd     0\n",
       "MasVnrArea      15\n",
       "Fireplaces       0\n",
       "GarageFinish    78\n",
       "KitchenQual      1\n",
       "BsmtQual        44\n",
       "ExterQual        0\n",
       "dtype: int64"
      ]
     },
     "execution_count": 74,
     "metadata": {},
     "output_type": "execute_result"
    }
   ],
   "source": [
    "test_features.isna().sum()"
   ]
  },
  {
   "cell_type": "code",
   "execution_count": 75,
   "metadata": {
    "execution": {
     "iopub.execute_input": "2021-09-08T20:51:33.479987Z",
     "iopub.status.busy": "2021-09-08T20:51:33.479221Z",
     "iopub.status.idle": "2021-09-08T20:51:33.493508Z",
     "shell.execute_reply": "2021-09-08T20:51:33.494327Z",
     "shell.execute_reply.started": "2021-09-08T20:33:13.598396Z"
    },
    "papermill": {
     "duration": 0.127925,
     "end_time": "2021-09-08T20:51:33.494602",
     "exception": false,
     "start_time": "2021-09-08T20:51:33.366677",
     "status": "completed"
    },
    "tags": []
   },
   "outputs": [],
   "source": [
    "#Fill missing values with constant 0\n",
    "for column in ['GarageCars', \n",
    "               'GarageArea', \n",
    "               'TotalBsmtSF', \n",
    "               'MasVnrArea']:\n",
    "    test_features[column] = test_features[column].fillna(0)\n",
    "\n",
    "#Fill missing values with constant\n",
    "for column in ['BsmtQual', \n",
    "               'GarageFinish']:\n",
    "    test_features[column] = test_features[column].fillna('none')\n",
    "\n",
    "    #Fill missing values with mode\n",
    "for column in ['KitchenQual']:\n",
    "    mode = test_features[column].mode()\n",
    "    test_features[column] = test_features[column].fillna(mode[0])"
   ]
  },
  {
   "cell_type": "code",
   "execution_count": 76,
   "metadata": {
    "execution": {
     "iopub.execute_input": "2021-09-08T20:51:33.734535Z",
     "iopub.status.busy": "2021-09-08T20:51:33.733137Z",
     "iopub.status.idle": "2021-09-08T20:51:33.745543Z",
     "shell.execute_reply": "2021-09-08T20:51:33.744986Z",
     "shell.execute_reply.started": "2021-09-08T20:33:13.613696Z"
    },
    "papermill": {
     "duration": 0.136171,
     "end_time": "2021-09-08T20:51:33.745688",
     "exception": false,
     "start_time": "2021-09-08T20:51:33.609517",
     "status": "completed"
    },
    "tags": []
   },
   "outputs": [
    {
     "data": {
      "text/plain": [
       "0"
      ]
     },
     "execution_count": 76,
     "metadata": {},
     "output_type": "execute_result"
    }
   ],
   "source": [
    "test_features.isna().sum().sum()"
   ]
  },
  {
   "cell_type": "markdown",
   "metadata": {
    "papermill": {
     "duration": 0.101076,
     "end_time": "2021-09-08T20:51:33.947851",
     "exception": false,
     "start_time": "2021-09-08T20:51:33.846775",
     "status": "completed"
    },
    "tags": []
   },
   "source": [
    "### Preprocessing"
   ]
  },
  {
   "cell_type": "code",
   "execution_count": 77,
   "metadata": {
    "execution": {
     "iopub.execute_input": "2021-09-08T20:51:34.166435Z",
     "iopub.status.busy": "2021-09-08T20:51:34.165181Z",
     "iopub.status.idle": "2021-09-08T20:51:34.188184Z",
     "shell.execute_reply": "2021-09-08T20:51:34.187655Z",
     "shell.execute_reply.started": "2021-09-08T20:33:13.630294Z"
    },
    "papermill": {
     "duration": 0.138868,
     "end_time": "2021-09-08T20:51:34.188328",
     "exception": false,
     "start_time": "2021-09-08T20:51:34.049460",
     "status": "completed"
    },
    "tags": []
   },
   "outputs": [
    {
     "data": {
      "text/html": [
       "<div>\n",
       "<style scoped>\n",
       "    .dataframe tbody tr th:only-of-type {\n",
       "        vertical-align: middle;\n",
       "    }\n",
       "\n",
       "    .dataframe tbody tr th {\n",
       "        vertical-align: top;\n",
       "    }\n",
       "\n",
       "    .dataframe thead th {\n",
       "        text-align: right;\n",
       "    }\n",
       "</style>\n",
       "<table border=\"1\" class=\"dataframe\">\n",
       "  <thead>\n",
       "    <tr style=\"text-align: right;\">\n",
       "      <th></th>\n",
       "      <th>Features</th>\n",
       "      <th>Skew</th>\n",
       "      <th>Abs Skew</th>\n",
       "      <th>Skewed</th>\n",
       "    </tr>\n",
       "  </thead>\n",
       "  <tbody>\n",
       "    <tr>\n",
       "      <th>0</th>\n",
       "      <td>OverallQual</td>\n",
       "      <td>0.181010</td>\n",
       "      <td>0.181010</td>\n",
       "      <td>False</td>\n",
       "    </tr>\n",
       "    <tr>\n",
       "      <th>1</th>\n",
       "      <td>GrLivArea</td>\n",
       "      <td>1.129240</td>\n",
       "      <td>1.129240</td>\n",
       "      <td>True</td>\n",
       "    </tr>\n",
       "    <tr>\n",
       "      <th>2</th>\n",
       "      <td>GarageCars</td>\n",
       "      <td>-0.109880</td>\n",
       "      <td>0.109880</td>\n",
       "      <td>False</td>\n",
       "    </tr>\n",
       "    <tr>\n",
       "      <th>3</th>\n",
       "      <td>GarageArea</td>\n",
       "      <td>0.295986</td>\n",
       "      <td>0.295986</td>\n",
       "      <td>False</td>\n",
       "    </tr>\n",
       "    <tr>\n",
       "      <th>4</th>\n",
       "      <td>TotalBsmtSF</td>\n",
       "      <td>0.804238</td>\n",
       "      <td>0.804238</td>\n",
       "      <td>True</td>\n",
       "    </tr>\n",
       "    <tr>\n",
       "      <th>5</th>\n",
       "      <td>1stFlrSF</td>\n",
       "      <td>1.556592</td>\n",
       "      <td>1.556592</td>\n",
       "      <td>True</td>\n",
       "    </tr>\n",
       "    <tr>\n",
       "      <th>6</th>\n",
       "      <td>FullBath</td>\n",
       "      <td>0.295534</td>\n",
       "      <td>0.295534</td>\n",
       "      <td>False</td>\n",
       "    </tr>\n",
       "    <tr>\n",
       "      <th>7</th>\n",
       "      <td>TotRmsAbvGrd</td>\n",
       "      <td>0.841731</td>\n",
       "      <td>0.841731</td>\n",
       "      <td>True</td>\n",
       "    </tr>\n",
       "    <tr>\n",
       "      <th>8</th>\n",
       "      <td>YearBuilt</td>\n",
       "      <td>-0.587052</td>\n",
       "      <td>0.587052</td>\n",
       "      <td>True</td>\n",
       "    </tr>\n",
       "    <tr>\n",
       "      <th>9</th>\n",
       "      <td>YearRemodAdd</td>\n",
       "      <td>-0.399495</td>\n",
       "      <td>0.399495</td>\n",
       "      <td>False</td>\n",
       "    </tr>\n",
       "    <tr>\n",
       "      <th>10</th>\n",
       "      <td>MasVnrArea</td>\n",
       "      <td>2.546947</td>\n",
       "      <td>2.546947</td>\n",
       "      <td>True</td>\n",
       "    </tr>\n",
       "    <tr>\n",
       "      <th>11</th>\n",
       "      <td>Fireplaces</td>\n",
       "      <td>0.819015</td>\n",
       "      <td>0.819015</td>\n",
       "      <td>True</td>\n",
       "    </tr>\n",
       "  </tbody>\n",
       "</table>\n",
       "</div>"
      ],
      "text/plain": [
       "        Features      Skew  Abs Skew  Skewed\n",
       "0    OverallQual  0.181010  0.181010   False\n",
       "1      GrLivArea  1.129240  1.129240    True\n",
       "2     GarageCars -0.109880  0.109880   False\n",
       "3     GarageArea  0.295986  0.295986   False\n",
       "4    TotalBsmtSF  0.804238  0.804238    True\n",
       "5       1stFlrSF  1.556592  1.556592    True\n",
       "6       FullBath  0.295534  0.295534   False\n",
       "7   TotRmsAbvGrd  0.841731  0.841731    True\n",
       "8      YearBuilt -0.587052  0.587052    True\n",
       "9   YearRemodAdd -0.399495  0.399495   False\n",
       "10    MasVnrArea  2.546947  2.546947    True\n",
       "11    Fireplaces  0.819015  0.819015    True"
      ]
     },
     "execution_count": 77,
     "metadata": {},
     "output_type": "execute_result"
    }
   ],
   "source": [
    "#Check for skewed columns\n",
    "feature_skew = pd.DataFrame(test_features.select_dtypes(np.number).columns, columns=['Features'])\n",
    "feature_skew['Skew'] = feature_skew['Features'].apply(lambda feature: scipy.stats.skew(test_features[feature]))\n",
    "feature_skew['Abs Skew'] = feature_skew['Skew'].apply(abs)\n",
    "feature_skew['Skewed'] = feature_skew['Abs Skew'].apply(lambda x: True if x >= 0.5 else False)\n",
    "feature_skew"
   ]
  },
  {
   "cell_type": "code",
   "execution_count": 78,
   "metadata": {
    "execution": {
     "iopub.execute_input": "2021-09-08T20:51:34.422603Z",
     "iopub.status.busy": "2021-09-08T20:51:34.421876Z",
     "iopub.status.idle": "2021-09-08T20:51:34.429564Z",
     "shell.execute_reply": "2021-09-08T20:51:34.428944Z",
     "shell.execute_reply.started": "2021-09-08T20:33:13.660963Z"
    },
    "papermill": {
     "duration": 0.123061,
     "end_time": "2021-09-08T20:51:34.429724",
     "exception": false,
     "start_time": "2021-09-08T20:51:34.306663",
     "status": "completed"
    },
    "tags": []
   },
   "outputs": [],
   "source": [
    "#Correct skewed columns\n",
    "for column in feature_skew.query('Skewed == True')['Features'].values:\n",
    "    test_features[column] = np.log1p(test_features[column])"
   ]
  },
  {
   "cell_type": "markdown",
   "metadata": {
    "papermill": {
     "duration": 0.103267,
     "end_time": "2021-09-08T20:51:34.637319",
     "exception": false,
     "start_time": "2021-09-08T20:51:34.534052",
     "status": "completed"
    },
    "tags": []
   },
   "source": [
    "### Feature Engineering"
   ]
  },
  {
   "cell_type": "code",
   "execution_count": 79,
   "metadata": {
    "execution": {
     "iopub.execute_input": "2021-09-08T20:51:34.859765Z",
     "iopub.status.busy": "2021-09-08T20:51:34.858591Z",
     "iopub.status.idle": "2021-09-08T20:51:34.886826Z",
     "shell.execute_reply": "2021-09-08T20:51:34.886138Z",
     "shell.execute_reply.started": "2021-09-08T20:33:13.675925Z"
    },
    "papermill": {
     "duration": 0.145526,
     "end_time": "2021-09-08T20:51:34.887033",
     "exception": false,
     "start_time": "2021-09-08T20:51:34.741507",
     "status": "completed"
    },
    "tags": []
   },
   "outputs": [
    {
     "data": {
      "text/html": [
       "<div>\n",
       "<style scoped>\n",
       "    .dataframe tbody tr th:only-of-type {\n",
       "        vertical-align: middle;\n",
       "    }\n",
       "\n",
       "    .dataframe tbody tr th {\n",
       "        vertical-align: top;\n",
       "    }\n",
       "\n",
       "    .dataframe thead th {\n",
       "        text-align: right;\n",
       "    }\n",
       "</style>\n",
       "<table border=\"1\" class=\"dataframe\">\n",
       "  <thead>\n",
       "    <tr style=\"text-align: right;\">\n",
       "      <th></th>\n",
       "      <th>OverallQual</th>\n",
       "      <th>GrLivArea</th>\n",
       "      <th>GarageCars</th>\n",
       "      <th>GarageArea</th>\n",
       "      <th>TotalBsmtSF</th>\n",
       "      <th>1stFlrSF</th>\n",
       "      <th>FullBath</th>\n",
       "      <th>TotRmsAbvGrd</th>\n",
       "      <th>YearBuilt</th>\n",
       "      <th>YearRemodAdd</th>\n",
       "      <th>MasVnrArea</th>\n",
       "      <th>Fireplaces</th>\n",
       "      <th>KitchenQual</th>\n",
       "      <th>BsmtQual</th>\n",
       "      <th>ExterQual</th>\n",
       "      <th>Fin</th>\n",
       "      <th>RFn</th>\n",
       "      <th>Unf</th>\n",
       "      <th>none</th>\n",
       "    </tr>\n",
       "  </thead>\n",
       "  <tbody>\n",
       "    <tr>\n",
       "      <th>0</th>\n",
       "      <td>5</td>\n",
       "      <td>6.799056</td>\n",
       "      <td>1.0</td>\n",
       "      <td>730.0</td>\n",
       "      <td>6.783325</td>\n",
       "      <td>6.799056</td>\n",
       "      <td>1</td>\n",
       "      <td>1.791759</td>\n",
       "      <td>7.581720</td>\n",
       "      <td>1961</td>\n",
       "      <td>0.000000</td>\n",
       "      <td>0.000000</td>\n",
       "      <td>2</td>\n",
       "      <td>2</td>\n",
       "      <td>2</td>\n",
       "      <td>0</td>\n",
       "      <td>0</td>\n",
       "      <td>1</td>\n",
       "      <td>0</td>\n",
       "    </tr>\n",
       "    <tr>\n",
       "      <th>1</th>\n",
       "      <td>6</td>\n",
       "      <td>7.192934</td>\n",
       "      <td>1.0</td>\n",
       "      <td>312.0</td>\n",
       "      <td>7.192934</td>\n",
       "      <td>7.192934</td>\n",
       "      <td>1</td>\n",
       "      <td>1.945910</td>\n",
       "      <td>7.580189</td>\n",
       "      <td>1958</td>\n",
       "      <td>4.691348</td>\n",
       "      <td>0.000000</td>\n",
       "      <td>1</td>\n",
       "      <td>2</td>\n",
       "      <td>2</td>\n",
       "      <td>0</td>\n",
       "      <td>0</td>\n",
       "      <td>1</td>\n",
       "      <td>0</td>\n",
       "    </tr>\n",
       "    <tr>\n",
       "      <th>2</th>\n",
       "      <td>5</td>\n",
       "      <td>7.396335</td>\n",
       "      <td>2.0</td>\n",
       "      <td>482.0</td>\n",
       "      <td>6.834109</td>\n",
       "      <td>6.834109</td>\n",
       "      <td>2</td>\n",
       "      <td>1.945910</td>\n",
       "      <td>7.599902</td>\n",
       "      <td>1998</td>\n",
       "      <td>0.000000</td>\n",
       "      <td>0.693147</td>\n",
       "      <td>2</td>\n",
       "      <td>1</td>\n",
       "      <td>2</td>\n",
       "      <td>1</td>\n",
       "      <td>0</td>\n",
       "      <td>0</td>\n",
       "      <td>0</td>\n",
       "    </tr>\n",
       "    <tr>\n",
       "      <th>3</th>\n",
       "      <td>6</td>\n",
       "      <td>7.380879</td>\n",
       "      <td>2.0</td>\n",
       "      <td>470.0</td>\n",
       "      <td>6.831954</td>\n",
       "      <td>6.831954</td>\n",
       "      <td>2</td>\n",
       "      <td>2.079442</td>\n",
       "      <td>7.600402</td>\n",
       "      <td>1998</td>\n",
       "      <td>3.044522</td>\n",
       "      <td>0.693147</td>\n",
       "      <td>1</td>\n",
       "      <td>2</td>\n",
       "      <td>2</td>\n",
       "      <td>1</td>\n",
       "      <td>0</td>\n",
       "      <td>0</td>\n",
       "      <td>0</td>\n",
       "    </tr>\n",
       "    <tr>\n",
       "      <th>4</th>\n",
       "      <td>8</td>\n",
       "      <td>7.155396</td>\n",
       "      <td>2.0</td>\n",
       "      <td>506.0</td>\n",
       "      <td>7.155396</td>\n",
       "      <td>7.155396</td>\n",
       "      <td>2</td>\n",
       "      <td>1.791759</td>\n",
       "      <td>7.597396</td>\n",
       "      <td>1992</td>\n",
       "      <td>0.000000</td>\n",
       "      <td>0.000000</td>\n",
       "      <td>1</td>\n",
       "      <td>1</td>\n",
       "      <td>1</td>\n",
       "      <td>0</td>\n",
       "      <td>1</td>\n",
       "      <td>0</td>\n",
       "      <td>0</td>\n",
       "    </tr>\n",
       "  </tbody>\n",
       "</table>\n",
       "</div>"
      ],
      "text/plain": [
       "   OverallQual  GrLivArea  GarageCars  GarageArea  TotalBsmtSF  1stFlrSF  \\\n",
       "0            5   6.799056         1.0       730.0     6.783325  6.799056   \n",
       "1            6   7.192934         1.0       312.0     7.192934  7.192934   \n",
       "2            5   7.396335         2.0       482.0     6.834109  6.834109   \n",
       "3            6   7.380879         2.0       470.0     6.831954  6.831954   \n",
       "4            8   7.155396         2.0       506.0     7.155396  7.155396   \n",
       "\n",
       "   FullBath  TotRmsAbvGrd  YearBuilt  YearRemodAdd  MasVnrArea  Fireplaces  \\\n",
       "0         1      1.791759   7.581720          1961    0.000000    0.000000   \n",
       "1         1      1.945910   7.580189          1958    4.691348    0.000000   \n",
       "2         2      1.945910   7.599902          1998    0.000000    0.693147   \n",
       "3         2      2.079442   7.600402          1998    3.044522    0.693147   \n",
       "4         2      1.791759   7.597396          1992    0.000000    0.000000   \n",
       "\n",
       "   KitchenQual  BsmtQual  ExterQual  Fin  RFn  Unf  none  \n",
       "0            2         2          2    0    0    1     0  \n",
       "1            1         2          2    0    0    1     0  \n",
       "2            2         1          2    1    0    0     0  \n",
       "3            1         2          2    1    0    0     0  \n",
       "4            1         1          1    0    1    0     0  "
      ]
     },
     "execution_count": 79,
     "metadata": {},
     "output_type": "execute_result"
    }
   ],
   "source": [
    "X_test_ = ordinal_encode(test_features, ordinal_features, ordinal_orderings)\n",
    "X_test_ = onehot_encode(X_test_)\n",
    "X_test_.head()"
   ]
  },
  {
   "cell_type": "markdown",
   "metadata": {
    "papermill": {
     "duration": 0.107173,
     "end_time": "2021-09-08T20:51:35.100374",
     "exception": false,
     "start_time": "2021-09-08T20:51:34.993201",
     "status": "completed"
    },
    "tags": []
   },
   "source": [
    "# Training & Submission"
   ]
  },
  {
   "cell_type": "code",
   "execution_count": 80,
   "metadata": {
    "execution": {
     "iopub.execute_input": "2021-09-08T20:51:35.324010Z",
     "iopub.status.busy": "2021-09-08T20:51:35.322900Z",
     "iopub.status.idle": "2021-09-08T20:51:35.330833Z",
     "shell.execute_reply": "2021-09-08T20:51:35.330178Z",
     "shell.execute_reply.started": "2021-09-08T20:35:18.501169Z"
    },
    "papermill": {
     "duration": 0.122753,
     "end_time": "2021-09-08T20:51:35.330989",
     "exception": false,
     "start_time": "2021-09-08T20:51:35.208236",
     "status": "completed"
    },
    "tags": []
   },
   "outputs": [],
   "source": [
    "#Scale X\n",
    "scaler = StandardScaler()\n",
    "X_test_ = scaler.fit(X_test_).transform(X_test_)"
   ]
  },
  {
   "cell_type": "code",
   "execution_count": 81,
   "metadata": {
    "execution": {
     "iopub.execute_input": "2021-09-08T20:51:35.539326Z",
     "iopub.status.busy": "2021-09-08T20:51:35.538245Z",
     "iopub.status.idle": "2021-09-08T20:51:35.546125Z",
     "shell.execute_reply": "2021-09-08T20:51:35.544704Z",
     "shell.execute_reply.started": "2021-09-08T20:35:24.566265Z"
    },
    "papermill": {
     "duration": 0.113655,
     "end_time": "2021-09-08T20:51:35.546361",
     "exception": false,
     "start_time": "2021-09-08T20:51:35.432706",
     "status": "completed"
    },
    "tags": []
   },
   "outputs": [],
   "source": [
    "predictions = linreg.predict(X_test_)\n",
    "predictions = np.exp(predictions)"
   ]
  },
  {
   "cell_type": "code",
   "execution_count": 82,
   "metadata": {
    "execution": {
     "iopub.execute_input": "2021-09-08T20:51:35.810441Z",
     "iopub.status.busy": "2021-09-08T20:51:35.809705Z",
     "iopub.status.idle": "2021-09-08T20:51:35.812341Z",
     "shell.execute_reply": "2021-09-08T20:51:35.812927Z",
     "shell.execute_reply.started": "2021-09-08T20:35:26.944819Z"
    },
    "papermill": {
     "duration": 0.113962,
     "end_time": "2021-09-08T20:51:35.813107",
     "exception": false,
     "start_time": "2021-09-08T20:51:35.699145",
     "status": "completed"
    },
    "tags": []
   },
   "outputs": [
    {
     "data": {
      "text/html": [
       "<div>\n",
       "<style scoped>\n",
       "    .dataframe tbody tr th:only-of-type {\n",
       "        vertical-align: middle;\n",
       "    }\n",
       "\n",
       "    .dataframe tbody tr th {\n",
       "        vertical-align: top;\n",
       "    }\n",
       "\n",
       "    .dataframe thead th {\n",
       "        text-align: right;\n",
       "    }\n",
       "</style>\n",
       "<table border=\"1\" class=\"dataframe\">\n",
       "  <thead>\n",
       "    <tr style=\"text-align: right;\">\n",
       "      <th></th>\n",
       "      <th>ID</th>\n",
       "      <th>SalePrice</th>\n",
       "    </tr>\n",
       "  </thead>\n",
       "  <tbody>\n",
       "    <tr>\n",
       "      <th>0</th>\n",
       "      <td>1461</td>\n",
       "      <td>113262.844587</td>\n",
       "    </tr>\n",
       "    <tr>\n",
       "      <th>1</th>\n",
       "      <td>1462</td>\n",
       "      <td>145099.051987</td>\n",
       "    </tr>\n",
       "    <tr>\n",
       "      <th>2</th>\n",
       "      <td>1463</td>\n",
       "      <td>178049.351527</td>\n",
       "    </tr>\n",
       "    <tr>\n",
       "      <th>3</th>\n",
       "      <td>1464</td>\n",
       "      <td>188991.372375</td>\n",
       "    </tr>\n",
       "    <tr>\n",
       "      <th>4</th>\n",
       "      <td>1465</td>\n",
       "      <td>201998.785263</td>\n",
       "    </tr>\n",
       "  </tbody>\n",
       "</table>\n",
       "</div>"
      ],
      "text/plain": [
       "     ID      SalePrice\n",
       "0  1461  113262.844587\n",
       "1  1462  145099.051987\n",
       "2  1463  178049.351527\n",
       "3  1464  188991.372375\n",
       "4  1465  201998.785263"
      ]
     },
     "execution_count": 82,
     "metadata": {},
     "output_type": "execute_result"
    }
   ],
   "source": [
    "submission = pd.DataFrame({'ID': test_data['Id'],\n",
    "                           'SalePrice': predictions})\n",
    "submission.head()"
   ]
  },
  {
   "cell_type": "code",
   "execution_count": 83,
   "metadata": {
    "execution": {
     "iopub.execute_input": "2021-09-08T20:51:36.022718Z",
     "iopub.status.busy": "2021-09-08T20:51:36.022067Z",
     "iopub.status.idle": "2021-09-08T20:51:36.037287Z",
     "shell.execute_reply": "2021-09-08T20:51:36.036592Z",
     "shell.execute_reply.started": "2021-09-08T20:38:39.739146Z"
    },
    "papermill": {
     "duration": 0.120534,
     "end_time": "2021-09-08T20:51:36.037472",
     "exception": false,
     "start_time": "2021-09-08T20:51:35.916938",
     "status": "completed"
    },
    "tags": []
   },
   "outputs": [],
   "source": [
    "submission.to_csv('Submission.csv',index=False)"
   ]
  },
  {
   "cell_type": "code",
   "execution_count": null,
   "metadata": {},
   "outputs": [],
   "source": []
  },
  {
   "cell_type": "code",
   "execution_count": null,
   "metadata": {},
   "outputs": [],
   "source": []
  },
  {
   "cell_type": "code",
   "execution_count": null,
   "metadata": {},
   "outputs": [],
   "source": []
  }
 ],
 "metadata": {
  "kernelspec": {
   "display_name": "Python 3",
   "language": "python",
   "name": "python3"
  },
  "language_info": {
   "codemirror_mode": {
    "name": "ipython",
    "version": 3
   },
   "file_extension": ".py",
   "mimetype": "text/x-python",
   "name": "python",
   "nbconvert_exporter": "python",
   "pygments_lexer": "ipython3",
   "version": "3.8.3"
  },
  "papermill": {
   "default_parameters": {},
   "duration": 38.079492,
   "end_time": "2021-09-08T20:51:37.691453",
   "environment_variables": {},
   "exception": null,
   "input_path": "__notebook__.ipynb",
   "output_path": "__notebook__.ipynb",
   "parameters": {},
   "start_time": "2021-09-08T20:50:59.611961",
   "version": "2.3.3"
  }
 },
 "nbformat": 4,
 "nbformat_minor": 5
}
