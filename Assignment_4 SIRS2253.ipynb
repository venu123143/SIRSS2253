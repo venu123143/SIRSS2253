{
 "cells": [
  {
   "cell_type": "markdown",
   "metadata": {},
   "source": [
    "# Task 4\n",
    "- Registration/Referral id : SIRSS2253\n",
    "- Full name : Vanteru Venu Gopal Reddy"
   ]
  },
  {
   "cell_type": "markdown",
   "metadata": {},
   "source": [
    "### First, let’s import the necessary libraries and store the data in our system for analysis."
   ]
  },
  {
   "cell_type": "code",
   "execution_count": 1,
   "metadata": {},
   "outputs": [],
   "source": [
    "import pandas as pd\n",
    "import seaborn as sns\n",
    "import numpy as np\n",
    "import matplotlib.pyplot as plt"
   ]
  },
  {
   "cell_type": "code",
   "execution_count": 6,
   "metadata": {},
   "outputs": [],
   "source": [
    "data=pd.read_csv(\"D:\\\\python programming\\\\DATASET\\\\Assignment_4\\\\vaccinationdata.csv\")"
   ]
  },
  {
   "cell_type": "markdown",
   "metadata": {},
   "source": [
    "###  Displaying first 10 rows"
   ]
  },
  {
   "cell_type": "code",
   "execution_count": 7,
   "metadata": {
    "scrolled": true
   },
   "outputs": [
    {
     "data": {
      "text/html": [
       "<div>\n",
       "<style scoped>\n",
       "    .dataframe tbody tr th:only-of-type {\n",
       "        vertical-align: middle;\n",
       "    }\n",
       "\n",
       "    .dataframe tbody tr th {\n",
       "        vertical-align: top;\n",
       "    }\n",
       "\n",
       "    .dataframe thead th {\n",
       "        text-align: right;\n",
       "    }\n",
       "</style>\n",
       "<table border=\"1\" class=\"dataframe\">\n",
       "  <thead>\n",
       "    <tr style=\"text-align: right;\">\n",
       "      <th></th>\n",
       "      <th>COUNTRY</th>\n",
       "      <th>ISO3</th>\n",
       "      <th>WHO_REGION</th>\n",
       "      <th>DATA_SOURCE</th>\n",
       "      <th>DATE_UPDATED</th>\n",
       "      <th>TOTAL_VACCINATIONS</th>\n",
       "      <th>PERSONS_VACCINATED_1PLUS_DOSE</th>\n",
       "      <th>TOTAL_VACCINATIONS_PER100</th>\n",
       "      <th>VACCINATED_1PLUS_DOSE_PER100</th>\n",
       "      <th>FULLY_VACCINATED</th>\n",
       "      <th>PERSONS_FULLY_VACCINATED_PER100</th>\n",
       "      <th>VACCINES_USED</th>\n",
       "      <th>FIRST_VACCINE_DATE</th>\n",
       "      <th>NUMBER_VACCINES_TYPES_USED</th>\n",
       "    </tr>\n",
       "  </thead>\n",
       "  <tbody>\n",
       "    <tr>\n",
       "      <th>0</th>\n",
       "      <td>Afghanistan</td>\n",
       "      <td>AFG</td>\n",
       "      <td>EMRO</td>\n",
       "      <td>REPORTING</td>\n",
       "      <td>20-08-2021</td>\n",
       "      <td>1201286.0</td>\n",
       "      <td>770542.0</td>\n",
       "      <td>3.086</td>\n",
       "      <td>1.979</td>\n",
       "      <td>430744.0</td>\n",
       "      <td>1.107</td>\n",
       "      <td>Beijing CNBG - BBIBP-CorV,Janssen - Ad26.COV 2...</td>\n",
       "      <td>22-02-2021</td>\n",
       "      <td>4.0</td>\n",
       "    </tr>\n",
       "    <tr>\n",
       "      <th>1</th>\n",
       "      <td>Albania</td>\n",
       "      <td>ALB</td>\n",
       "      <td>EURO</td>\n",
       "      <td>OWID</td>\n",
       "      <td>17-08-2021</td>\n",
       "      <td>1340339.0</td>\n",
       "      <td>764997.0</td>\n",
       "      <td>46.575</td>\n",
       "      <td>26.583</td>\n",
       "      <td>575342.0</td>\n",
       "      <td>19.992</td>\n",
       "      <td>AstraZeneca - AZD1222, Pfizer BioNTech - Comir...</td>\n",
       "      <td>NaN</td>\n",
       "      <td>4.0</td>\n",
       "    </tr>\n",
       "    <tr>\n",
       "      <th>2</th>\n",
       "      <td>Algeria</td>\n",
       "      <td>DZA</td>\n",
       "      <td>AFRO</td>\n",
       "      <td>REPORTING</td>\n",
       "      <td>23-08-2021</td>\n",
       "      <td>4146091.0</td>\n",
       "      <td>3421279.0</td>\n",
       "      <td>9.455</td>\n",
       "      <td>7.802</td>\n",
       "      <td>724812.0</td>\n",
       "      <td>1.653</td>\n",
       "      <td>Beijing CNBG - BBIBP-CorV,Gamaleya - Sputnik V...</td>\n",
       "      <td>30-01-2021</td>\n",
       "      <td>3.0</td>\n",
       "    </tr>\n",
       "    <tr>\n",
       "      <th>3</th>\n",
       "      <td>American Samoa</td>\n",
       "      <td>ASM</td>\n",
       "      <td>WPRO</td>\n",
       "      <td>REPORTING</td>\n",
       "      <td>09-08-2021</td>\n",
       "      <td>52769.0</td>\n",
       "      <td>29210.0</td>\n",
       "      <td>95.601</td>\n",
       "      <td>52.920</td>\n",
       "      <td>24104.0</td>\n",
       "      <td>43.669</td>\n",
       "      <td>Janssen - Ad26.COV 2.5,Moderna - mRNA-1273,Pfi...</td>\n",
       "      <td>21-12-2020</td>\n",
       "      <td>3.0</td>\n",
       "    </tr>\n",
       "    <tr>\n",
       "      <th>4</th>\n",
       "      <td>Andorra</td>\n",
       "      <td>AND</td>\n",
       "      <td>EURO</td>\n",
       "      <td>OWID</td>\n",
       "      <td>15-08-2021</td>\n",
       "      <td>91660.0</td>\n",
       "      <td>51044.0</td>\n",
       "      <td>118.631</td>\n",
       "      <td>66.064</td>\n",
       "      <td>40616.0</td>\n",
       "      <td>52.567</td>\n",
       "      <td>AstraZeneca - AZD1222, Pfizer BioNTech - Comir...</td>\n",
       "      <td>NaN</td>\n",
       "      <td>2.0</td>\n",
       "    </tr>\n",
       "    <tr>\n",
       "      <th>5</th>\n",
       "      <td>Angola</td>\n",
       "      <td>AGO</td>\n",
       "      <td>AFRO</td>\n",
       "      <td>REPORTING</td>\n",
       "      <td>23-08-2021</td>\n",
       "      <td>1754073.0</td>\n",
       "      <td>1025762.0</td>\n",
       "      <td>5.337</td>\n",
       "      <td>3.121</td>\n",
       "      <td>728311.0</td>\n",
       "      <td>2.216</td>\n",
       "      <td>SII - Covishield</td>\n",
       "      <td>10-03-2021</td>\n",
       "      <td>1.0</td>\n",
       "    </tr>\n",
       "    <tr>\n",
       "      <th>6</th>\n",
       "      <td>Anguilla</td>\n",
       "      <td>AIA</td>\n",
       "      <td>AMRO</td>\n",
       "      <td>REPORTING</td>\n",
       "      <td>20-08-2021</td>\n",
       "      <td>18458.0</td>\n",
       "      <td>9493.0</td>\n",
       "      <td>123.037</td>\n",
       "      <td>63.278</td>\n",
       "      <td>8965.0</td>\n",
       "      <td>59.759</td>\n",
       "      <td>AstraZeneca - Vaxzevria</td>\n",
       "      <td>05-02-2021</td>\n",
       "      <td>1.0</td>\n",
       "    </tr>\n",
       "    <tr>\n",
       "      <th>7</th>\n",
       "      <td>Antigua and Barbuda</td>\n",
       "      <td>ATG</td>\n",
       "      <td>AMRO</td>\n",
       "      <td>REPORTING</td>\n",
       "      <td>20-08-2021</td>\n",
       "      <td>71434.0</td>\n",
       "      <td>39186.0</td>\n",
       "      <td>72.945</td>\n",
       "      <td>40.015</td>\n",
       "      <td>32248.0</td>\n",
       "      <td>32.930</td>\n",
       "      <td>AstraZeneca - Vaxzevria,Beijing CNBG - BBIBP-C...</td>\n",
       "      <td>19-02-2021</td>\n",
       "      <td>5.0</td>\n",
       "    </tr>\n",
       "    <tr>\n",
       "      <th>8</th>\n",
       "      <td>Argentina</td>\n",
       "      <td>ARG</td>\n",
       "      <td>AMRO</td>\n",
       "      <td>REPORTING</td>\n",
       "      <td>20-08-2021</td>\n",
       "      <td>38145435.0</td>\n",
       "      <td>26993547.0</td>\n",
       "      <td>84.400</td>\n",
       "      <td>59.726</td>\n",
       "      <td>11151888.0</td>\n",
       "      <td>24.675</td>\n",
       "      <td>AstraZeneca - Vaxzevria,Beijing CNBG - BBIBP-C...</td>\n",
       "      <td>29-12-2020</td>\n",
       "      <td>5.0</td>\n",
       "    </tr>\n",
       "    <tr>\n",
       "      <th>9</th>\n",
       "      <td>Armenia</td>\n",
       "      <td>ARM</td>\n",
       "      <td>EURO</td>\n",
       "      <td>OWID</td>\n",
       "      <td>15-08-2021</td>\n",
       "      <td>220236.0</td>\n",
       "      <td>144573.0</td>\n",
       "      <td>7.432</td>\n",
       "      <td>4.879</td>\n",
       "      <td>75663.0</td>\n",
       "      <td>2.553</td>\n",
       "      <td>AstraZeneca - AZD1222, Sinovac - CoronaVac, Ga...</td>\n",
       "      <td>NaN</td>\n",
       "      <td>3.0</td>\n",
       "    </tr>\n",
       "  </tbody>\n",
       "</table>\n",
       "</div>"
      ],
      "text/plain": [
       "               COUNTRY ISO3 WHO_REGION DATA_SOURCE DATE_UPDATED  \\\n",
       "0          Afghanistan  AFG       EMRO   REPORTING   20-08-2021   \n",
       "1              Albania  ALB       EURO        OWID   17-08-2021   \n",
       "2              Algeria  DZA       AFRO   REPORTING   23-08-2021   \n",
       "3       American Samoa  ASM       WPRO   REPORTING   09-08-2021   \n",
       "4              Andorra  AND       EURO        OWID   15-08-2021   \n",
       "5               Angola  AGO       AFRO   REPORTING   23-08-2021   \n",
       "6             Anguilla  AIA       AMRO   REPORTING   20-08-2021   \n",
       "7  Antigua and Barbuda  ATG       AMRO   REPORTING   20-08-2021   \n",
       "8            Argentina  ARG       AMRO   REPORTING   20-08-2021   \n",
       "9              Armenia  ARM       EURO        OWID   15-08-2021   \n",
       "\n",
       "   TOTAL_VACCINATIONS  PERSONS_VACCINATED_1PLUS_DOSE  \\\n",
       "0           1201286.0                       770542.0   \n",
       "1           1340339.0                       764997.0   \n",
       "2           4146091.0                      3421279.0   \n",
       "3             52769.0                        29210.0   \n",
       "4             91660.0                        51044.0   \n",
       "5           1754073.0                      1025762.0   \n",
       "6             18458.0                         9493.0   \n",
       "7             71434.0                        39186.0   \n",
       "8          38145435.0                     26993547.0   \n",
       "9            220236.0                       144573.0   \n",
       "\n",
       "   TOTAL_VACCINATIONS_PER100  VACCINATED_1PLUS_DOSE_PER100  FULLY_VACCINATED  \\\n",
       "0                      3.086                         1.979          430744.0   \n",
       "1                     46.575                        26.583          575342.0   \n",
       "2                      9.455                         7.802          724812.0   \n",
       "3                     95.601                        52.920           24104.0   \n",
       "4                    118.631                        66.064           40616.0   \n",
       "5                      5.337                         3.121          728311.0   \n",
       "6                    123.037                        63.278            8965.0   \n",
       "7                     72.945                        40.015           32248.0   \n",
       "8                     84.400                        59.726        11151888.0   \n",
       "9                      7.432                         4.879           75663.0   \n",
       "\n",
       "   PERSONS_FULLY_VACCINATED_PER100  \\\n",
       "0                            1.107   \n",
       "1                           19.992   \n",
       "2                            1.653   \n",
       "3                           43.669   \n",
       "4                           52.567   \n",
       "5                            2.216   \n",
       "6                           59.759   \n",
       "7                           32.930   \n",
       "8                           24.675   \n",
       "9                            2.553   \n",
       "\n",
       "                                       VACCINES_USED FIRST_VACCINE_DATE  \\\n",
       "0  Beijing CNBG - BBIBP-CorV,Janssen - Ad26.COV 2...         22-02-2021   \n",
       "1  AstraZeneca - AZD1222, Pfizer BioNTech - Comir...                NaN   \n",
       "2  Beijing CNBG - BBIBP-CorV,Gamaleya - Sputnik V...         30-01-2021   \n",
       "3  Janssen - Ad26.COV 2.5,Moderna - mRNA-1273,Pfi...         21-12-2020   \n",
       "4  AstraZeneca - AZD1222, Pfizer BioNTech - Comir...                NaN   \n",
       "5                                   SII - Covishield         10-03-2021   \n",
       "6                            AstraZeneca - Vaxzevria         05-02-2021   \n",
       "7  AstraZeneca - Vaxzevria,Beijing CNBG - BBIBP-C...         19-02-2021   \n",
       "8  AstraZeneca - Vaxzevria,Beijing CNBG - BBIBP-C...         29-12-2020   \n",
       "9  AstraZeneca - AZD1222, Sinovac - CoronaVac, Ga...                NaN   \n",
       "\n",
       "   NUMBER_VACCINES_TYPES_USED  \n",
       "0                         4.0  \n",
       "1                         4.0  \n",
       "2                         3.0  \n",
       "3                         3.0  \n",
       "4                         2.0  \n",
       "5                         1.0  \n",
       "6                         1.0  \n",
       "7                         5.0  \n",
       "8                         5.0  \n",
       "9                         3.0  "
      ]
     },
     "execution_count": 7,
     "metadata": {},
     "output_type": "execute_result"
    }
   ],
   "source": [
    "data.head(10)"
   ]
  },
  {
   "cell_type": "markdown",
   "metadata": {},
   "source": [
    "### Displaying last 5 rows"
   ]
  },
  {
   "cell_type": "code",
   "execution_count": 8,
   "metadata": {
    "scrolled": true
   },
   "outputs": [
    {
     "data": {
      "text/html": [
       "<div>\n",
       "<style scoped>\n",
       "    .dataframe tbody tr th:only-of-type {\n",
       "        vertical-align: middle;\n",
       "    }\n",
       "\n",
       "    .dataframe tbody tr th {\n",
       "        vertical-align: top;\n",
       "    }\n",
       "\n",
       "    .dataframe thead th {\n",
       "        text-align: right;\n",
       "    }\n",
       "</style>\n",
       "<table border=\"1\" class=\"dataframe\">\n",
       "  <thead>\n",
       "    <tr style=\"text-align: right;\">\n",
       "      <th></th>\n",
       "      <th>COUNTRY</th>\n",
       "      <th>ISO3</th>\n",
       "      <th>WHO_REGION</th>\n",
       "      <th>DATA_SOURCE</th>\n",
       "      <th>DATE_UPDATED</th>\n",
       "      <th>TOTAL_VACCINATIONS</th>\n",
       "      <th>PERSONS_VACCINATED_1PLUS_DOSE</th>\n",
       "      <th>TOTAL_VACCINATIONS_PER100</th>\n",
       "      <th>VACCINATED_1PLUS_DOSE_PER100</th>\n",
       "      <th>FULLY_VACCINATED</th>\n",
       "      <th>PERSONS_FULLY_VACCINATED_PER100</th>\n",
       "      <th>VACCINES_USED</th>\n",
       "      <th>FIRST_VACCINE_DATE</th>\n",
       "      <th>NUMBER_VACCINES_TYPES_USED</th>\n",
       "    </tr>\n",
       "  </thead>\n",
       "  <tbody>\n",
       "    <tr>\n",
       "      <th>222</th>\n",
       "      <td>Viet Nam</td>\n",
       "      <td>VNM</td>\n",
       "      <td>WPRO</td>\n",
       "      <td>REPORTING</td>\n",
       "      <td>13-08-2021</td>\n",
       "      <td>8061116.0</td>\n",
       "      <td>7241093.0</td>\n",
       "      <td>8.282</td>\n",
       "      <td>7.439</td>\n",
       "      <td>820023.0</td>\n",
       "      <td>0.842</td>\n",
       "      <td>AstraZeneca - Vaxzevria,Beijing CNBG - BBIBP-C...</td>\n",
       "      <td>08-03-2021</td>\n",
       "      <td>5.0</td>\n",
       "    </tr>\n",
       "    <tr>\n",
       "      <th>223</th>\n",
       "      <td>Wallis and Futuna</td>\n",
       "      <td>WLF</td>\n",
       "      <td>WPRO</td>\n",
       "      <td>REPORTING</td>\n",
       "      <td>22-07-2021</td>\n",
       "      <td>9276.0</td>\n",
       "      <td>4674.0</td>\n",
       "      <td>82.483</td>\n",
       "      <td>41.561</td>\n",
       "      <td>4602.0</td>\n",
       "      <td>40.921</td>\n",
       "      <td>Moderna - mRNA-1273</td>\n",
       "      <td>19-03-2021</td>\n",
       "      <td>1.0</td>\n",
       "    </tr>\n",
       "    <tr>\n",
       "      <th>224</th>\n",
       "      <td>Yemen</td>\n",
       "      <td>YEM</td>\n",
       "      <td>EMRO</td>\n",
       "      <td>REPORTING</td>\n",
       "      <td>27-07-2021</td>\n",
       "      <td>311483.0</td>\n",
       "      <td>298161.0</td>\n",
       "      <td>1.044</td>\n",
       "      <td>1.000</td>\n",
       "      <td>13322.0</td>\n",
       "      <td>0.045</td>\n",
       "      <td>SII - Covishield</td>\n",
       "      <td>20-04-2021</td>\n",
       "      <td>1.0</td>\n",
       "    </tr>\n",
       "    <tr>\n",
       "      <th>225</th>\n",
       "      <td>Zambia</td>\n",
       "      <td>ZMB</td>\n",
       "      <td>AFRO</td>\n",
       "      <td>REPORTING</td>\n",
       "      <td>23-08-2021</td>\n",
       "      <td>503707.0</td>\n",
       "      <td>303966.0</td>\n",
       "      <td>2.740</td>\n",
       "      <td>1.653</td>\n",
       "      <td>199741.0</td>\n",
       "      <td>1.086</td>\n",
       "      <td>SII - Covishield</td>\n",
       "      <td>14-04-2021</td>\n",
       "      <td>1.0</td>\n",
       "    </tr>\n",
       "    <tr>\n",
       "      <th>226</th>\n",
       "      <td>Zimbabwe</td>\n",
       "      <td>ZWE</td>\n",
       "      <td>AFRO</td>\n",
       "      <td>REPORTING</td>\n",
       "      <td>23-08-2021</td>\n",
       "      <td>3772579.0</td>\n",
       "      <td>2312417.0</td>\n",
       "      <td>25.382</td>\n",
       "      <td>15.558</td>\n",
       "      <td>1460162.0</td>\n",
       "      <td>9.824</td>\n",
       "      <td>Beijing CNBG - BBIBP-CorV,Bharat - Covaxin,Sin...</td>\n",
       "      <td>18-02-2021</td>\n",
       "      <td>3.0</td>\n",
       "    </tr>\n",
       "  </tbody>\n",
       "</table>\n",
       "</div>"
      ],
      "text/plain": [
       "               COUNTRY ISO3 WHO_REGION DATA_SOURCE DATE_UPDATED  \\\n",
       "222           Viet Nam  VNM       WPRO   REPORTING   13-08-2021   \n",
       "223  Wallis and Futuna  WLF       WPRO   REPORTING   22-07-2021   \n",
       "224              Yemen  YEM       EMRO   REPORTING   27-07-2021   \n",
       "225             Zambia  ZMB       AFRO   REPORTING   23-08-2021   \n",
       "226           Zimbabwe  ZWE       AFRO   REPORTING   23-08-2021   \n",
       "\n",
       "     TOTAL_VACCINATIONS  PERSONS_VACCINATED_1PLUS_DOSE  \\\n",
       "222           8061116.0                      7241093.0   \n",
       "223              9276.0                         4674.0   \n",
       "224            311483.0                       298161.0   \n",
       "225            503707.0                       303966.0   \n",
       "226           3772579.0                      2312417.0   \n",
       "\n",
       "     TOTAL_VACCINATIONS_PER100  VACCINATED_1PLUS_DOSE_PER100  \\\n",
       "222                      8.282                         7.439   \n",
       "223                     82.483                        41.561   \n",
       "224                      1.044                         1.000   \n",
       "225                      2.740                         1.653   \n",
       "226                     25.382                        15.558   \n",
       "\n",
       "     FULLY_VACCINATED  PERSONS_FULLY_VACCINATED_PER100  \\\n",
       "222          820023.0                            0.842   \n",
       "223            4602.0                           40.921   \n",
       "224           13322.0                            0.045   \n",
       "225          199741.0                            1.086   \n",
       "226         1460162.0                            9.824   \n",
       "\n",
       "                                         VACCINES_USED FIRST_VACCINE_DATE  \\\n",
       "222  AstraZeneca - Vaxzevria,Beijing CNBG - BBIBP-C...         08-03-2021   \n",
       "223                                Moderna - mRNA-1273         19-03-2021   \n",
       "224                                   SII - Covishield         20-04-2021   \n",
       "225                                   SII - Covishield         14-04-2021   \n",
       "226  Beijing CNBG - BBIBP-CorV,Bharat - Covaxin,Sin...         18-02-2021   \n",
       "\n",
       "     NUMBER_VACCINES_TYPES_USED  \n",
       "222                         5.0  \n",
       "223                         1.0  \n",
       "224                         1.0  \n",
       "225                         1.0  \n",
       "226                         3.0  "
      ]
     },
     "execution_count": 8,
     "metadata": {},
     "output_type": "execute_result"
    }
   ],
   "source": [
    "data.tail()"
   ]
  },
  {
   "cell_type": "markdown",
   "metadata": {},
   "source": [
    "### Displaying general information about our dataset"
   ]
  },
  {
   "cell_type": "code",
   "execution_count": 9,
   "metadata": {},
   "outputs": [
    {
     "data": {
      "text/plain": [
       "pandas.core.frame.DataFrame"
      ]
     },
     "execution_count": 9,
     "metadata": {},
     "output_type": "execute_result"
    }
   ],
   "source": [
    "type(data)"
   ]
  },
  {
   "cell_type": "code",
   "execution_count": 10,
   "metadata": {},
   "outputs": [
    {
     "name": "stdout",
     "output_type": "stream",
     "text": [
      "<class 'pandas.core.frame.DataFrame'>\n",
      "RangeIndex: 227 entries, 0 to 226\n",
      "Data columns (total 14 columns):\n",
      " #   Column                           Non-Null Count  Dtype  \n",
      "---  ------                           --------------  -----  \n",
      " 0   COUNTRY                          227 non-null    object \n",
      " 1   ISO3                             227 non-null    object \n",
      " 2   WHO_REGION                       227 non-null    object \n",
      " 3   DATA_SOURCE                      227 non-null    object \n",
      " 4   DATE_UPDATED                     227 non-null    object \n",
      " 5   TOTAL_VACCINATIONS               226 non-null    float64\n",
      " 6   PERSONS_VACCINATED_1PLUS_DOSE    218 non-null    float64\n",
      " 7   TOTAL_VACCINATIONS_PER100        226 non-null    float64\n",
      " 8   VACCINATED_1PLUS_DOSE_PER100     218 non-null    float64\n",
      " 9   FULLY_VACCINATED                 216 non-null    float64\n",
      " 10  PERSONS_FULLY_VACCINATED_PER100  216 non-null    float64\n",
      " 11  VACCINES_USED                    223 non-null    object \n",
      " 12  FIRST_VACCINE_DATE               155 non-null    object \n",
      " 13  NUMBER_VACCINES_TYPES_USED       223 non-null    float64\n",
      "dtypes: float64(7), object(7)\n",
      "memory usage: 25.0+ KB\n"
     ]
    }
   ],
   "source": [
    "data.info()"
   ]
  },
  {
   "cell_type": "code",
   "execution_count": 11,
   "metadata": {},
   "outputs": [
    {
     "data": {
      "text/plain": [
       "(227, 14)"
      ]
     },
     "execution_count": 11,
     "metadata": {},
     "output_type": "execute_result"
    }
   ],
   "source": [
    "data.shape"
   ]
  },
  {
   "cell_type": "markdown",
   "metadata": {},
   "source": [
    "### Checking for null values and handeling them."
   ]
  },
  {
   "cell_type": "code",
   "execution_count": 12,
   "metadata": {},
   "outputs": [
    {
     "data": {
      "text/plain": [
       "COUNTRY                             0\n",
       "ISO3                                0\n",
       "WHO_REGION                          0\n",
       "DATA_SOURCE                         0\n",
       "DATE_UPDATED                        0\n",
       "TOTAL_VACCINATIONS                  1\n",
       "PERSONS_VACCINATED_1PLUS_DOSE       9\n",
       "TOTAL_VACCINATIONS_PER100           1\n",
       "VACCINATED_1PLUS_DOSE_PER100        9\n",
       "FULLY_VACCINATED                   11\n",
       "PERSONS_FULLY_VACCINATED_PER100    11\n",
       "VACCINES_USED                       4\n",
       "FIRST_VACCINE_DATE                 72\n",
       "NUMBER_VACCINES_TYPES_USED          4\n",
       "dtype: int64"
      ]
     },
     "execution_count": 12,
     "metadata": {},
     "output_type": "execute_result"
    }
   ],
   "source": [
    "#checking the missing values\n",
    "data.isnull().sum()"
   ]
  },
  {
   "cell_type": "code",
   "execution_count": 13,
   "metadata": {},
   "outputs": [],
   "source": [
    "fv = data['FULLY_VACCINATED'].mean()\n",
    "plusdose = data['PERSONS_VACCINATED_1PLUS_DOSE'].mean()\n",
    "nov = data['TOTAL_VACCINATIONS'].mean()\n",
    "used = data['NUMBER_VACCINES_TYPES_USED'].mean()\n",
    "data['FULLY_VACCINATED'].replace(np.nan, fv, inplace = True)\n",
    "data['PERSONS_VACCINATED_1PLUS_DOSE'].replace(np.nan, plusdose, inplace = True)\n",
    "data['TOTAL_VACCINATIONS'].replace(np.nan, nov, inplace = True)\n",
    "data['NUMBER_VACCINES_TYPES_USED'].replace(np.nan, used, inplace = True)"
   ]
  },
  {
   "cell_type": "markdown",
   "metadata": {},
   "source": [
    "### Displaying Statistical Insight about dataset.\n",
    "- This step should be performed for getting details about various statistical data like Mean, Standard Deviation, Median, Max Value, Min Value, Correlation."
   ]
  },
  {
   "cell_type": "code",
   "execution_count": 14,
   "metadata": {},
   "outputs": [
    {
     "data": {
      "text/plain": [
       "COUNTRY                             object\n",
       "ISO3                                object\n",
       "WHO_REGION                          object\n",
       "DATA_SOURCE                         object\n",
       "DATE_UPDATED                        object\n",
       "TOTAL_VACCINATIONS                 float64\n",
       "PERSONS_VACCINATED_1PLUS_DOSE      float64\n",
       "TOTAL_VACCINATIONS_PER100          float64\n",
       "VACCINATED_1PLUS_DOSE_PER100       float64\n",
       "FULLY_VACCINATED                   float64\n",
       "PERSONS_FULLY_VACCINATED_PER100    float64\n",
       "VACCINES_USED                       object\n",
       "FIRST_VACCINE_DATE                  object\n",
       "NUMBER_VACCINES_TYPES_USED         float64\n",
       "dtype: object"
      ]
     },
     "execution_count": 14,
     "metadata": {},
     "output_type": "execute_result"
    }
   ],
   "source": [
    "data.dtypes"
   ]
  },
  {
   "cell_type": "code",
   "execution_count": 15,
   "metadata": {},
   "outputs": [
    {
     "data": {
      "text/plain": [
       "Index(['COUNTRY', 'ISO3', 'WHO_REGION', 'DATA_SOURCE', 'DATE_UPDATED',\n",
       "       'TOTAL_VACCINATIONS', 'PERSONS_VACCINATED_1PLUS_DOSE',\n",
       "       'TOTAL_VACCINATIONS_PER100', 'VACCINATED_1PLUS_DOSE_PER100',\n",
       "       'FULLY_VACCINATED', 'PERSONS_FULLY_VACCINATED_PER100', 'VACCINES_USED',\n",
       "       'FIRST_VACCINE_DATE', 'NUMBER_VACCINES_TYPES_USED'],\n",
       "      dtype='object')"
      ]
     },
     "execution_count": 15,
     "metadata": {},
     "output_type": "execute_result"
    }
   ],
   "source": [
    "data.columns"
   ]
  },
  {
   "cell_type": "code",
   "execution_count": 16,
   "metadata": {},
   "outputs": [
    {
     "data": {
      "text/plain": [
       "count    2.270000e+02\n",
       "mean     2.044237e+07\n",
       "std      1.266091e+08\n",
       "min      7.300000e+01\n",
       "25%      1.001225e+05\n",
       "50%      9.076650e+05\n",
       "75%      6.385550e+06\n",
       "max      1.776816e+09\n",
       "Name: TOTAL_VACCINATIONS, dtype: float64"
      ]
     },
     "execution_count": 16,
     "metadata": {},
     "output_type": "execute_result"
    }
   ],
   "source": [
    "data['TOTAL_VACCINATIONS'].describe()"
   ]
  },
  {
   "cell_type": "code",
   "execution_count": 17,
   "metadata": {},
   "outputs": [
    {
     "data": {
      "text/plain": [
       "20442372.89380531"
      ]
     },
     "execution_count": 17,
     "metadata": {},
     "output_type": "execute_result"
    }
   ],
   "source": [
    "data['TOTAL_VACCINATIONS'].mean()"
   ]
  },
  {
   "cell_type": "code",
   "execution_count": 18,
   "metadata": {},
   "outputs": [
    {
     "data": {
      "text/plain": [
       "126609148.99316831"
      ]
     },
     "execution_count": 18,
     "metadata": {},
     "output_type": "execute_result"
    }
   ],
   "source": [
    "data['TOTAL_VACCINATIONS'].std()"
   ]
  },
  {
   "cell_type": "code",
   "execution_count": 19,
   "metadata": {},
   "outputs": [
    {
     "data": {
      "text/plain": [
       "227"
      ]
     },
     "execution_count": 19,
     "metadata": {},
     "output_type": "execute_result"
    }
   ],
   "source": [
    "data['TOTAL_VACCINATIONS'].count()"
   ]
  },
  {
   "cell_type": "code",
   "execution_count": 20,
   "metadata": {},
   "outputs": [
    {
     "data": {
      "text/html": [
       "<div>\n",
       "<style scoped>\n",
       "    .dataframe tbody tr th:only-of-type {\n",
       "        vertical-align: middle;\n",
       "    }\n",
       "\n",
       "    .dataframe tbody tr th {\n",
       "        vertical-align: top;\n",
       "    }\n",
       "\n",
       "    .dataframe thead th {\n",
       "        text-align: right;\n",
       "    }\n",
       "</style>\n",
       "<table border=\"1\" class=\"dataframe\">\n",
       "  <thead>\n",
       "    <tr style=\"text-align: right;\">\n",
       "      <th></th>\n",
       "      <th>TOTAL_VACCINATIONS</th>\n",
       "      <th>PERSONS_VACCINATED_1PLUS_DOSE</th>\n",
       "      <th>TOTAL_VACCINATIONS_PER100</th>\n",
       "      <th>VACCINATED_1PLUS_DOSE_PER100</th>\n",
       "      <th>FULLY_VACCINATED</th>\n",
       "      <th>PERSONS_FULLY_VACCINATED_PER100</th>\n",
       "      <th>NUMBER_VACCINES_TYPES_USED</th>\n",
       "    </tr>\n",
       "  </thead>\n",
       "  <tbody>\n",
       "    <tr>\n",
       "      <th>count</th>\n",
       "      <td>2.270000e+02</td>\n",
       "      <td>2.270000e+02</td>\n",
       "      <td>226.000000</td>\n",
       "      <td>218.000000</td>\n",
       "      <td>2.270000e+02</td>\n",
       "      <td>216.000000</td>\n",
       "      <td>227.000000</td>\n",
       "    </tr>\n",
       "    <tr>\n",
       "      <th>mean</th>\n",
       "      <td>2.044237e+07</td>\n",
       "      <td>8.253955e+06</td>\n",
       "      <td>63.128195</td>\n",
       "      <td>35.854991</td>\n",
       "      <td>4.889511e+06</td>\n",
       "      <td>28.128968</td>\n",
       "      <td>3.219731</td>\n",
       "    </tr>\n",
       "    <tr>\n",
       "      <th>std</th>\n",
       "      <td>1.266091e+08</td>\n",
       "      <td>3.403644e+07</td>\n",
       "      <td>51.608722</td>\n",
       "      <td>26.885016</td>\n",
       "      <td>1.601178e+07</td>\n",
       "      <td>25.239769</td>\n",
       "      <td>1.688369</td>\n",
       "    </tr>\n",
       "    <tr>\n",
       "      <th>min</th>\n",
       "      <td>7.300000e+01</td>\n",
       "      <td>3.700000e+01</td>\n",
       "      <td>0.078000</td>\n",
       "      <td>0.067000</td>\n",
       "      <td>3.600000e+01</td>\n",
       "      <td>0.007000</td>\n",
       "      <td>1.000000</td>\n",
       "    </tr>\n",
       "    <tr>\n",
       "      <th>25%</th>\n",
       "      <td>1.001225e+05</td>\n",
       "      <td>7.250550e+04</td>\n",
       "      <td>13.012250</td>\n",
       "      <td>9.629000</td>\n",
       "      <td>4.110400e+04</td>\n",
       "      <td>3.701500</td>\n",
       "      <td>2.000000</td>\n",
       "    </tr>\n",
       "    <tr>\n",
       "      <th>50%</th>\n",
       "      <td>9.076650e+05</td>\n",
       "      <td>6.407030e+05</td>\n",
       "      <td>53.314500</td>\n",
       "      <td>32.594000</td>\n",
       "      <td>3.606160e+05</td>\n",
       "      <td>22.023000</td>\n",
       "      <td>3.000000</td>\n",
       "    </tr>\n",
       "    <tr>\n",
       "      <th>75%</th>\n",
       "      <td>6.385550e+06</td>\n",
       "      <td>4.861958e+06</td>\n",
       "      <td>109.896250</td>\n",
       "      <td>61.083750</td>\n",
       "      <td>4.170952e+06</td>\n",
       "      <td>51.619500</td>\n",
       "      <td>4.000000</td>\n",
       "    </tr>\n",
       "    <tr>\n",
       "      <th>max</th>\n",
       "      <td>1.776816e+09</td>\n",
       "      <td>4.357201e+08</td>\n",
       "      <td>233.208000</td>\n",
       "      <td>116.933000</td>\n",
       "      <td>1.701386e+08</td>\n",
       "      <td>116.274000</td>\n",
       "      <td>9.000000</td>\n",
       "    </tr>\n",
       "  </tbody>\n",
       "</table>\n",
       "</div>"
      ],
      "text/plain": [
       "       TOTAL_VACCINATIONS  PERSONS_VACCINATED_1PLUS_DOSE  \\\n",
       "count        2.270000e+02                   2.270000e+02   \n",
       "mean         2.044237e+07                   8.253955e+06   \n",
       "std          1.266091e+08                   3.403644e+07   \n",
       "min          7.300000e+01                   3.700000e+01   \n",
       "25%          1.001225e+05                   7.250550e+04   \n",
       "50%          9.076650e+05                   6.407030e+05   \n",
       "75%          6.385550e+06                   4.861958e+06   \n",
       "max          1.776816e+09                   4.357201e+08   \n",
       "\n",
       "       TOTAL_VACCINATIONS_PER100  VACCINATED_1PLUS_DOSE_PER100  \\\n",
       "count                 226.000000                    218.000000   \n",
       "mean                   63.128195                     35.854991   \n",
       "std                    51.608722                     26.885016   \n",
       "min                     0.078000                      0.067000   \n",
       "25%                    13.012250                      9.629000   \n",
       "50%                    53.314500                     32.594000   \n",
       "75%                   109.896250                     61.083750   \n",
       "max                   233.208000                    116.933000   \n",
       "\n",
       "       FULLY_VACCINATED  PERSONS_FULLY_VACCINATED_PER100  \\\n",
       "count      2.270000e+02                       216.000000   \n",
       "mean       4.889511e+06                        28.128968   \n",
       "std        1.601178e+07                        25.239769   \n",
       "min        3.600000e+01                         0.007000   \n",
       "25%        4.110400e+04                         3.701500   \n",
       "50%        3.606160e+05                        22.023000   \n",
       "75%        4.170952e+06                        51.619500   \n",
       "max        1.701386e+08                       116.274000   \n",
       "\n",
       "       NUMBER_VACCINES_TYPES_USED  \n",
       "count                  227.000000  \n",
       "mean                     3.219731  \n",
       "std                      1.688369  \n",
       "min                      1.000000  \n",
       "25%                      2.000000  \n",
       "50%                      3.000000  \n",
       "75%                      4.000000  \n",
       "max                      9.000000  "
      ]
     },
     "execution_count": 20,
     "metadata": {},
     "output_type": "execute_result"
    }
   ],
   "source": [
    "data.describe()"
   ]
  },
  {
   "cell_type": "code",
   "execution_count": 21,
   "metadata": {},
   "outputs": [
    {
     "data": {
      "text/html": [
       "<div>\n",
       "<style scoped>\n",
       "    .dataframe tbody tr th:only-of-type {\n",
       "        vertical-align: middle;\n",
       "    }\n",
       "\n",
       "    .dataframe tbody tr th {\n",
       "        vertical-align: top;\n",
       "    }\n",
       "\n",
       "    .dataframe thead th {\n",
       "        text-align: right;\n",
       "    }\n",
       "</style>\n",
       "<table border=\"1\" class=\"dataframe\">\n",
       "  <thead>\n",
       "    <tr style=\"text-align: right;\">\n",
       "      <th></th>\n",
       "      <th>TOTAL_VACCINATIONS</th>\n",
       "      <th>PERSONS_VACCINATED_1PLUS_DOSE</th>\n",
       "      <th>TOTAL_VACCINATIONS_PER100</th>\n",
       "      <th>VACCINATED_1PLUS_DOSE_PER100</th>\n",
       "      <th>FULLY_VACCINATED</th>\n",
       "      <th>PERSONS_FULLY_VACCINATED_PER100</th>\n",
       "      <th>NUMBER_VACCINES_TYPES_USED</th>\n",
       "    </tr>\n",
       "  </thead>\n",
       "  <tbody>\n",
       "    <tr>\n",
       "      <th>TOTAL_VACCINATIONS</th>\n",
       "      <td>1.000000</td>\n",
       "      <td>0.375938</td>\n",
       "      <td>0.101607</td>\n",
       "      <td>0.116413</td>\n",
       "      <td>0.355952</td>\n",
       "      <td>0.051355</td>\n",
       "      <td>0.159176</td>\n",
       "    </tr>\n",
       "    <tr>\n",
       "      <th>PERSONS_VACCINATED_1PLUS_DOSE</th>\n",
       "      <td>0.375938</td>\n",
       "      <td>1.000000</td>\n",
       "      <td>0.053764</td>\n",
       "      <td>0.087692</td>\n",
       "      <td>0.875381</td>\n",
       "      <td>0.018692</td>\n",
       "      <td>0.153827</td>\n",
       "    </tr>\n",
       "    <tr>\n",
       "      <th>TOTAL_VACCINATIONS_PER100</th>\n",
       "      <td>0.101607</td>\n",
       "      <td>0.053764</td>\n",
       "      <td>1.000000</td>\n",
       "      <td>0.983642</td>\n",
       "      <td>0.138741</td>\n",
       "      <td>0.980750</td>\n",
       "      <td>0.008463</td>\n",
       "    </tr>\n",
       "    <tr>\n",
       "      <th>VACCINATED_1PLUS_DOSE_PER100</th>\n",
       "      <td>0.116413</td>\n",
       "      <td>0.087692</td>\n",
       "      <td>0.983642</td>\n",
       "      <td>1.000000</td>\n",
       "      <td>0.167388</td>\n",
       "      <td>0.955907</td>\n",
       "      <td>0.017416</td>\n",
       "    </tr>\n",
       "    <tr>\n",
       "      <th>FULLY_VACCINATED</th>\n",
       "      <td>0.355952</td>\n",
       "      <td>0.875381</td>\n",
       "      <td>0.138741</td>\n",
       "      <td>0.167388</td>\n",
       "      <td>1.000000</td>\n",
       "      <td>0.116810</td>\n",
       "      <td>0.129116</td>\n",
       "    </tr>\n",
       "    <tr>\n",
       "      <th>PERSONS_FULLY_VACCINATED_PER100</th>\n",
       "      <td>0.051355</td>\n",
       "      <td>0.018692</td>\n",
       "      <td>0.980750</td>\n",
       "      <td>0.955907</td>\n",
       "      <td>0.116810</td>\n",
       "      <td>1.000000</td>\n",
       "      <td>-0.043029</td>\n",
       "    </tr>\n",
       "    <tr>\n",
       "      <th>NUMBER_VACCINES_TYPES_USED</th>\n",
       "      <td>0.159176</td>\n",
       "      <td>0.153827</td>\n",
       "      <td>0.008463</td>\n",
       "      <td>0.017416</td>\n",
       "      <td>0.129116</td>\n",
       "      <td>-0.043029</td>\n",
       "      <td>1.000000</td>\n",
       "    </tr>\n",
       "  </tbody>\n",
       "</table>\n",
       "</div>"
      ],
      "text/plain": [
       "                                 TOTAL_VACCINATIONS  \\\n",
       "TOTAL_VACCINATIONS                         1.000000   \n",
       "PERSONS_VACCINATED_1PLUS_DOSE              0.375938   \n",
       "TOTAL_VACCINATIONS_PER100                  0.101607   \n",
       "VACCINATED_1PLUS_DOSE_PER100               0.116413   \n",
       "FULLY_VACCINATED                           0.355952   \n",
       "PERSONS_FULLY_VACCINATED_PER100            0.051355   \n",
       "NUMBER_VACCINES_TYPES_USED                 0.159176   \n",
       "\n",
       "                                 PERSONS_VACCINATED_1PLUS_DOSE  \\\n",
       "TOTAL_VACCINATIONS                                    0.375938   \n",
       "PERSONS_VACCINATED_1PLUS_DOSE                         1.000000   \n",
       "TOTAL_VACCINATIONS_PER100                             0.053764   \n",
       "VACCINATED_1PLUS_DOSE_PER100                          0.087692   \n",
       "FULLY_VACCINATED                                      0.875381   \n",
       "PERSONS_FULLY_VACCINATED_PER100                       0.018692   \n",
       "NUMBER_VACCINES_TYPES_USED                            0.153827   \n",
       "\n",
       "                                 TOTAL_VACCINATIONS_PER100  \\\n",
       "TOTAL_VACCINATIONS                                0.101607   \n",
       "PERSONS_VACCINATED_1PLUS_DOSE                     0.053764   \n",
       "TOTAL_VACCINATIONS_PER100                         1.000000   \n",
       "VACCINATED_1PLUS_DOSE_PER100                      0.983642   \n",
       "FULLY_VACCINATED                                  0.138741   \n",
       "PERSONS_FULLY_VACCINATED_PER100                   0.980750   \n",
       "NUMBER_VACCINES_TYPES_USED                        0.008463   \n",
       "\n",
       "                                 VACCINATED_1PLUS_DOSE_PER100  \\\n",
       "TOTAL_VACCINATIONS                                   0.116413   \n",
       "PERSONS_VACCINATED_1PLUS_DOSE                        0.087692   \n",
       "TOTAL_VACCINATIONS_PER100                            0.983642   \n",
       "VACCINATED_1PLUS_DOSE_PER100                         1.000000   \n",
       "FULLY_VACCINATED                                     0.167388   \n",
       "PERSONS_FULLY_VACCINATED_PER100                      0.955907   \n",
       "NUMBER_VACCINES_TYPES_USED                           0.017416   \n",
       "\n",
       "                                 FULLY_VACCINATED  \\\n",
       "TOTAL_VACCINATIONS                       0.355952   \n",
       "PERSONS_VACCINATED_1PLUS_DOSE            0.875381   \n",
       "TOTAL_VACCINATIONS_PER100                0.138741   \n",
       "VACCINATED_1PLUS_DOSE_PER100             0.167388   \n",
       "FULLY_VACCINATED                         1.000000   \n",
       "PERSONS_FULLY_VACCINATED_PER100          0.116810   \n",
       "NUMBER_VACCINES_TYPES_USED               0.129116   \n",
       "\n",
       "                                 PERSONS_FULLY_VACCINATED_PER100  \\\n",
       "TOTAL_VACCINATIONS                                      0.051355   \n",
       "PERSONS_VACCINATED_1PLUS_DOSE                           0.018692   \n",
       "TOTAL_VACCINATIONS_PER100                               0.980750   \n",
       "VACCINATED_1PLUS_DOSE_PER100                            0.955907   \n",
       "FULLY_VACCINATED                                        0.116810   \n",
       "PERSONS_FULLY_VACCINATED_PER100                         1.000000   \n",
       "NUMBER_VACCINES_TYPES_USED                             -0.043029   \n",
       "\n",
       "                                 NUMBER_VACCINES_TYPES_USED  \n",
       "TOTAL_VACCINATIONS                                 0.159176  \n",
       "PERSONS_VACCINATED_1PLUS_DOSE                      0.153827  \n",
       "TOTAL_VACCINATIONS_PER100                          0.008463  \n",
       "VACCINATED_1PLUS_DOSE_PER100                       0.017416  \n",
       "FULLY_VACCINATED                                   0.129116  \n",
       "PERSONS_FULLY_VACCINATED_PER100                   -0.043029  \n",
       "NUMBER_VACCINES_TYPES_USED                         1.000000  "
      ]
     },
     "execution_count": 21,
     "metadata": {},
     "output_type": "execute_result"
    }
   ],
   "source": [
    "data.corr()"
   ]
  },
  {
   "cell_type": "code",
   "execution_count": 22,
   "metadata": {},
   "outputs": [],
   "source": [
    "plt.style.use('seaborn-darkgrid')"
   ]
  },
  {
   "cell_type": "markdown",
   "metadata": {},
   "source": [
    "### Showing heatmap for achieved correlation.\n",
    "- Heatmap is defined as a graphical representation of data using colors to visualize the value of the matrix. Heatmap is also defined by the name of the shading matrix. Heatmaps in Seaborn can be plotted by using the seaborn.heatmap() function."
   ]
  },
  {
   "cell_type": "code",
   "execution_count": 23,
   "metadata": {},
   "outputs": [
    {
     "data": {
      "text/plain": [
       "<matplotlib.axes._subplots.AxesSubplot at 0x24d1b7be160>"
      ]
     },
     "execution_count": 23,
     "metadata": {},
     "output_type": "execute_result"
    },
    {
     "data": {
      "image/png": "[encoded data removed]",
      "text/plain": [
       "<Figure size 864x576 with 2 Axes>"
      ]
     },
     "metadata": {},
     "output_type": "display_data"
    }
   ],
   "source": [
    "plt.figure(figsize = (12, 8))\n",
    "sns.heatmap(data.corr(), annot = True)"
   ]
  },
  {
   "cell_type": "markdown",
   "metadata": {},
   "source": [
    "### Numeric-Numeric Analysis\n",
    "Analyzing the two numeric variables from a dataset is known as numeric-numeric analysis. We can analyze it in three different ways.\n",
    "\n",
    "- Scatterplot\n",
    "- Pairplot\n",
    "- Barplot\n",
    "- Piechart\n",
    "- Lineplot"
   ]
  },
  {
   "cell_type": "markdown",
   "metadata": {},
   "source": [
    "## Scatter Plot\n",
    "- The scatter plot is a mainstay of statistical visualization. It depicts the joint distribution of two variables using a cloud of points, where each point represents an observation in the dataset. This depiction allows the eye to infer a substantial amount of information about whether there is any meaningful relationship between them."
   ]
  },
  {
   "cell_type": "code",
   "execution_count": 24,
   "metadata": {},
   "outputs": [
    {
     "data": {
      "text/plain": [
       "<matplotlib.axes._subplots.AxesSubplot at 0x24d1b79c460>"
      ]
     },
     "execution_count": 24,
     "metadata": {},
     "output_type": "execute_result"
    },
    {
     "data": {
      "image/png": "[encoded data removed]",
      "text/plain": [
       "<Figure size 720x504 with 1 Axes>"
      ]
     },
     "metadata": {},
     "output_type": "display_data"
    }
   ],
   "source": [
    "plt.figure(figsize=(10,7))\n",
    "sns.scatterplot(x = 'FULLY_VACCINATED', y = 'TOTAL_VACCINATIONS', data = data, color = 'r', marker = '*')"
   ]
  },
  {
   "cell_type": "markdown",
   "metadata": {},
   "source": [
    "## Pair Plot\n",
    "- A pairplot plot a pairwise relationships in a dataset. The pairplot function creates a grid of Axes such that each variable in data will by shared in the y-axis across a single row and in the x-axis across a single column."
   ]
  },
  {
   "cell_type": "code",
   "execution_count": 25,
   "metadata": {},
   "outputs": [
    {
     "data": {
      "text/plain": [
       "<Figure size 1440x720 with 0 Axes>"
      ]
     },
     "metadata": {},
     "output_type": "display_data"
    },
    {
     "data": {
      "image/png": "[encoded data removed]",
      "text/plain": [
       "<Figure size 540x540 with 12 Axes>"
      ]
     },
     "metadata": {},
     "output_type": "display_data"
    }
   ],
   "source": [
    "plt.figure(figsize=(20,10))\n",
    "sns.pairplot(data=data,vars=['PERSONS_FULLY_VACCINATED_PER100','FULLY_VACCINATED','TOTAL_VACCINATIONS'])\n",
    "plt.show()"
   ]
  },
  {
   "cell_type": "markdown",
   "metadata": {},
   "source": [
    "## Histogram"
   ]
  },
  {
   "cell_type": "code",
   "execution_count": 26,
   "metadata": {},
   "outputs": [
    {
     "data": {
      "text/plain": [
       "(array([212.,   5.,   8.,   0.,   0.,   0.,   0.,   1.,   0.,   1.]),\n",
       " array([3.60000000e+01, 1.70138887e+07, 3.40277414e+07, 5.10415941e+07,\n",
       "        6.80554468e+07, 8.50692995e+07, 1.02083152e+08, 1.19097005e+08,\n",
       "        1.36110858e+08, 1.53124710e+08, 1.70138563e+08]),\n",
       " <a list of 10 Patch objects>)"
      ]
     },
     "execution_count": 26,
     "metadata": {},
     "output_type": "execute_result"
    },
    {
     "data": {
      "image/png": "[encoded data removed]",
      "text/plain": [
       "<Figure size 432x288 with 1 Axes>"
      ]
     },
     "metadata": {},
     "output_type": "display_data"
    }
   ],
   "source": [
    "plt.hist(data['FULLY_VACCINATED'])"
   ]
  },
  {
   "cell_type": "markdown",
   "metadata": {},
   "source": [
    "## Barchart\n",
    "- Barplot will show the relation between two numeric data"
   ]
  },
  {
   "cell_type": "code",
   "execution_count": 27,
   "metadata": {},
   "outputs": [
    {
     "data": {
      "text/plain": [
       "<matplotlib.axes._subplots.AxesSubplot at 0x24d1c9ffdc0>"
      ]
     },
     "execution_count": 27,
     "metadata": {},
     "output_type": "execute_result"
    },
    {
     "data": {
      "image/png": "[encoded data removed]",
      "text/plain": [
       "<Figure size 2160x2160 with 1 Axes>"
      ]
     },
     "metadata": {},
     "output_type": "display_data"
    }
   ],
   "source": [
    "plt.figure(figsize=(30,30))\n",
    "sns.barplot(data['WHO_REGION'], data['TOTAL_VACCINATIONS'])"
   ]
  },
  {
   "cell_type": "markdown",
   "metadata": {},
   "source": [
    "## Piechart\n",
    "- A Pie Chart is a circular statistical plot that can display only one series of data."
   ]
  },
  {
   "cell_type": "code",
   "execution_count": 28,
   "metadata": {},
   "outputs": [
    {
     "data": {
      "text/plain": [
       "Text(0.5, 1.0, 'Total Vaccinations Done')"
      ]
     },
     "execution_count": 28,
     "metadata": {},
     "output_type": "execute_result"
    },
    {
     "data": {
      "image/png": "[encoded data removed]",
      "text/plain": [
       "<Figure size 864x864 with 1 Axes>"
      ]
     },
     "metadata": {},
     "output_type": "display_data"
    }
   ],
   "source": [
    "plt.figure(figsize = (12, 12))\n",
    "df = [fv, plusdose, nov]\n",
    "alcohol = ['Fully Vacinated', 'One plus Dose', 'Total Vacinations']\n",
    "plt.pie(df, labels = alcohol)\n",
    "plt.title('Total Vaccinations Done')"
   ]
  },
  {
   "cell_type": "markdown",
   "metadata": {},
   "source": [
    "## Line Plot"
   ]
  },
  {
   "cell_type": "code",
   "execution_count": 29,
   "metadata": {},
   "outputs": [
    {
     "data": {
      "text/plain": [
       "<matplotlib.axes._subplots.AxesSubplot at 0x24d1ca4d430>"
      ]
     },
     "execution_count": 29,
     "metadata": {},
     "output_type": "execute_result"
    },
    {
     "data": {
      "image/png": "[encoded data removed]",
      "text/plain": [
       "<Figure size 1440x432 with 1 Axes>"
      ]
     },
     "metadata": {},
     "output_type": "display_data"
    }
   ],
   "source": [
    "plt.figure(figsize=(20,6))\n",
    "plt.style.use('seaborn-darkgrid')\n",
    "sns.lineplot(x = data['WHO_REGION'], y =  data['PERSONS_VACCINATED_1PLUS_DOSE'],linewidth=1.5,label='PERSONS_VACCINATED_1PLUS_DOSE')\n",
    "sns.lineplot(x = data['WHO_REGION'], y =  data['VACCINATED_1PLUS_DOSE_PER100'],linewidth=1.5,label='VACCINATED_1PLUS_DOSE_PER100')"
   ]
  },
  {
   "cell_type": "code",
   "execution_count": 30,
   "metadata": {},
   "outputs": [
    {
     "data": {
      "text/html": [
       "<div>\n",
       "<style scoped>\n",
       "    .dataframe tbody tr th:only-of-type {\n",
       "        vertical-align: middle;\n",
       "    }\n",
       "\n",
       "    .dataframe tbody tr th {\n",
       "        vertical-align: top;\n",
       "    }\n",
       "\n",
       "    .dataframe thead th {\n",
       "        text-align: right;\n",
       "    }\n",
       "</style>\n",
       "<table border=\"1\" class=\"dataframe\">\n",
       "  <thead>\n",
       "    <tr style=\"text-align: right;\">\n",
       "      <th></th>\n",
       "      <th>WHO_REGION</th>\n",
       "      <th>TOTAL_VACCINATIONS</th>\n",
       "      <th>FULLY_VACCINATED</th>\n",
       "      <th>NUMBER_VACCINES_TYPES_USED</th>\n",
       "    </tr>\n",
       "  </thead>\n",
       "  <tbody>\n",
       "    <tr>\n",
       "      <th>0</th>\n",
       "      <td>EMRO</td>\n",
       "      <td>1201286.0</td>\n",
       "      <td>430744.0</td>\n",
       "      <td>4.0</td>\n",
       "    </tr>\n",
       "    <tr>\n",
       "      <th>1</th>\n",
       "      <td>EURO</td>\n",
       "      <td>1340339.0</td>\n",
       "      <td>575342.0</td>\n",
       "      <td>4.0</td>\n",
       "    </tr>\n",
       "    <tr>\n",
       "      <th>2</th>\n",
       "      <td>AFRO</td>\n",
       "      <td>4146091.0</td>\n",
       "      <td>724812.0</td>\n",
       "      <td>3.0</td>\n",
       "    </tr>\n",
       "    <tr>\n",
       "      <th>3</th>\n",
       "      <td>WPRO</td>\n",
       "      <td>52769.0</td>\n",
       "      <td>24104.0</td>\n",
       "      <td>3.0</td>\n",
       "    </tr>\n",
       "    <tr>\n",
       "      <th>4</th>\n",
       "      <td>EURO</td>\n",
       "      <td>91660.0</td>\n",
       "      <td>40616.0</td>\n",
       "      <td>2.0</td>\n",
       "    </tr>\n",
       "    <tr>\n",
       "      <th>5</th>\n",
       "      <td>AFRO</td>\n",
       "      <td>1754073.0</td>\n",
       "      <td>728311.0</td>\n",
       "      <td>1.0</td>\n",
       "    </tr>\n",
       "    <tr>\n",
       "      <th>6</th>\n",
       "      <td>AMRO</td>\n",
       "      <td>18458.0</td>\n",
       "      <td>8965.0</td>\n",
       "      <td>1.0</td>\n",
       "    </tr>\n",
       "    <tr>\n",
       "      <th>7</th>\n",
       "      <td>AMRO</td>\n",
       "      <td>71434.0</td>\n",
       "      <td>32248.0</td>\n",
       "      <td>5.0</td>\n",
       "    </tr>\n",
       "    <tr>\n",
       "      <th>8</th>\n",
       "      <td>AMRO</td>\n",
       "      <td>38145435.0</td>\n",
       "      <td>11151888.0</td>\n",
       "      <td>5.0</td>\n",
       "    </tr>\n",
       "    <tr>\n",
       "      <th>9</th>\n",
       "      <td>EURO</td>\n",
       "      <td>220236.0</td>\n",
       "      <td>75663.0</td>\n",
       "      <td>3.0</td>\n",
       "    </tr>\n",
       "  </tbody>\n",
       "</table>\n",
       "</div>"
      ],
      "text/plain": [
       "  WHO_REGION  TOTAL_VACCINATIONS  FULLY_VACCINATED  NUMBER_VACCINES_TYPES_USED\n",
       "0       EMRO           1201286.0          430744.0                         4.0\n",
       "1       EURO           1340339.0          575342.0                         4.0\n",
       "2       AFRO           4146091.0          724812.0                         3.0\n",
       "3       WPRO             52769.0           24104.0                         3.0\n",
       "4       EURO             91660.0           40616.0                         2.0\n",
       "5       AFRO           1754073.0          728311.0                         1.0\n",
       "6       AMRO             18458.0            8965.0                         1.0\n",
       "7       AMRO             71434.0           32248.0                         5.0\n",
       "8       AMRO          38145435.0        11151888.0                         5.0\n",
       "9       EURO            220236.0           75663.0                         3.0"
      ]
     },
     "execution_count": 30,
     "metadata": {},
     "output_type": "execute_result"
    }
   ],
   "source": [
    "cols = ['WHO_REGION', 'TOTAL_VACCINATIONS','FULLY_VACCINATED','NUMBER_VACCINES_TYPES_USED']\n",
    "X = data[cols]\n",
    "Y = data[['NUMBER_VACCINES_TYPES_USED']]\n",
    "X.head(10)"
   ]
  },
  {
   "cell_type": "code",
   "execution_count": 31,
   "metadata": {},
   "outputs": [
    {
     "name": "stderr",
     "output_type": "stream",
     "text": [
      "<ipython-input-31-0482c3622ded>:4: SettingWithCopyWarning: \n",
      "A value is trying to be set on a copy of a slice from a DataFrame.\n",
      "Try using .loc[row_indexer,col_indexer] = value instead\n",
      "\n",
      "See the caveats in the documentation: https://pandas.pydata.org/pandas-docs/stable/user_guide/indexing.html#returning-a-view-versus-a-copy\n",
      "  X[cols] = sc.fit_transform(X[cols])\n",
      "C:\\Users\\venu reddy\\Anaconda3\\lib\\site-packages\\pandas\\core\\indexing.py:966: SettingWithCopyWarning: \n",
      "A value is trying to be set on a copy of a slice from a DataFrame.\n",
      "Try using .loc[row_indexer,col_indexer] = value instead\n",
      "\n",
      "See the caveats in the documentation: https://pandas.pydata.org/pandas-docs/stable/user_guide/indexing.html#returning-a-view-versus-a-copy\n",
      "  self.obj[item] = s\n"
     ]
    }
   ],
   "source": [
    "from sklearn.preprocessing import StandardScaler\n",
    "sc = StandardScaler()\n",
    "cols = ['TOTAL_VACCINATIONS','FULLY_VACCINATED']\n",
    "X[cols] = sc.fit_transform(X[cols])"
   ]
  },
  {
   "cell_type": "code",
   "execution_count": 32,
   "metadata": {},
   "outputs": [
    {
     "name": "stderr",
     "output_type": "stream",
     "text": [
      "<ipython-input-32-01fe8a75e62b>:3: SettingWithCopyWarning: \n",
      "A value is trying to be set on a copy of a slice from a DataFrame.\n",
      "Try using .loc[row_indexer,col_indexer] = value instead\n",
      "\n",
      "See the caveats in the documentation: https://pandas.pydata.org/pandas-docs/stable/user_guide/indexing.html#returning-a-view-versus-a-copy\n",
      "  X['WHO_REGION'] = le.fit_transform(X['WHO_REGION'])\n"
     ]
    }
   ],
   "source": [
    "from sklearn.preprocessing import LabelEncoder\n",
    "le = LabelEncoder()\n",
    "X['WHO_REGION'] = le.fit_transform(X['WHO_REGION'])"
   ]
  },
  {
   "cell_type": "code",
   "execution_count": 33,
   "metadata": {},
   "outputs": [
    {
     "data": {
      "text/html": [
       "<div>\n",
       "<style scoped>\n",
       "    .dataframe tbody tr th:only-of-type {\n",
       "        vertical-align: middle;\n",
       "    }\n",
       "\n",
       "    .dataframe tbody tr th {\n",
       "        vertical-align: top;\n",
       "    }\n",
       "\n",
       "    .dataframe thead th {\n",
       "        text-align: right;\n",
       "    }\n",
       "</style>\n",
       "<table border=\"1\" class=\"dataframe\">\n",
       "  <thead>\n",
       "    <tr style=\"text-align: right;\">\n",
       "      <th></th>\n",
       "      <th>WHO_REGION</th>\n",
       "      <th>TOTAL_VACCINATIONS</th>\n",
       "      <th>FULLY_VACCINATED</th>\n",
       "      <th>NUMBER_VACCINES_TYPES_USED</th>\n",
       "    </tr>\n",
       "  </thead>\n",
       "  <tbody>\n",
       "    <tr>\n",
       "      <th>0</th>\n",
       "      <td>2</td>\n",
       "      <td>-0.152308</td>\n",
       "      <td>-0.279083</td>\n",
       "      <td>4.0</td>\n",
       "    </tr>\n",
       "    <tr>\n",
       "      <th>1</th>\n",
       "      <td>3</td>\n",
       "      <td>-0.151207</td>\n",
       "      <td>-0.270033</td>\n",
       "      <td>4.0</td>\n",
       "    </tr>\n",
       "    <tr>\n",
       "      <th>2</th>\n",
       "      <td>0</td>\n",
       "      <td>-0.128998</td>\n",
       "      <td>-0.260677</td>\n",
       "      <td>3.0</td>\n",
       "    </tr>\n",
       "    <tr>\n",
       "      <th>3</th>\n",
       "      <td>6</td>\n",
       "      <td>-0.161400</td>\n",
       "      <td>-0.304536</td>\n",
       "      <td>3.0</td>\n",
       "    </tr>\n",
       "    <tr>\n",
       "      <th>4</th>\n",
       "      <td>3</td>\n",
       "      <td>-0.161092</td>\n",
       "      <td>-0.303502</td>\n",
       "      <td>2.0</td>\n",
       "    </tr>\n",
       "  </tbody>\n",
       "</table>\n",
       "</div>"
      ],
      "text/plain": [
       "   WHO_REGION  TOTAL_VACCINATIONS  FULLY_VACCINATED  \\\n",
       "0           2           -0.152308         -0.279083   \n",
       "1           3           -0.151207         -0.270033   \n",
       "2           0           -0.128998         -0.260677   \n",
       "3           6           -0.161400         -0.304536   \n",
       "4           3           -0.161092         -0.303502   \n",
       "\n",
       "   NUMBER_VACCINES_TYPES_USED  \n",
       "0                         4.0  \n",
       "1                         4.0  \n",
       "2                         3.0  \n",
       "3                         3.0  \n",
       "4                         2.0  "
      ]
     },
     "execution_count": 33,
     "metadata": {},
     "output_type": "execute_result"
    }
   ],
   "source": [
    "X.head()"
   ]
  },
  {
   "cell_type": "code",
   "execution_count": null,
   "metadata": {},
   "outputs": [],
   "source": []
  },
  {
   "cell_type": "code",
   "execution_count": null,
   "metadata": {},
   "outputs": [],
   "source": []
  },
  {
   "cell_type": "code",
   "execution_count": null,
   "metadata": {},
   "outputs": [],
   "source": []
  }
 ],
 "metadata": {
  "kernelspec": {
   "display_name": "Python 3",
   "language": "python",
   "name": "python3"
  },
  "language_info": {
   "codemirror_mode": {
    "name": "ipython",
    "version": 3
   },
   "file_extension": ".py",
   "mimetype": "text/x-python",
   "name": "python",
   "nbconvert_exporter": "python",
   "pygments_lexer": "ipython3",
   "version": "3.8.3"
  },
  "varInspector": {
   "cols": {
    "lenName": 16,
    "lenType": 16,
    "lenVar": 40
   },
   "kernels_config": {
    "python": {
     "delete_cmd_postfix": "",
     "delete_cmd_prefix": "del ",
     "library": "var_list.py",
     "varRefreshCmd": "print(var_dic_list())"
    },
    "r": {
     "delete_cmd_postfix": ") ",
     "delete_cmd_prefix": "rm(",
     "library": "var_list.r",
     "varRefreshCmd": "cat(var_dic_list()) "
    }
   },
   "types_to_exclude": [
    "module",
    "function",
    "builtin_function_or_method",
    "instance",
    "_Feature"
   ],
   "window_display": false
  }
 },
 "nbformat": 4,
 "nbformat_minor": 5
}
